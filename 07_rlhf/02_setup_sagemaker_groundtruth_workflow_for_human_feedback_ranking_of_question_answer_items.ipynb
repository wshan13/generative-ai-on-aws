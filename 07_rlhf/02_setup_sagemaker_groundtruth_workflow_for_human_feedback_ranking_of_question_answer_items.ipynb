{
 "cells": [
  {
   "cell_type": "markdown",
   "metadata": {
    "id": "TtqFeC2NlIVf"
   },
   "source": [
    "인간 피드백을 인간 검토 워크플로(Human Review Workflows)에 통합하기 위해서는 다음 자원이 필요합니다.\n",
    "\n",
    "* 데이터 세트에 레이블을 지정하기 위한 **작업자(Workforce)**: 아마존 메커니컬 터크(Amazon Mechanical Turk; MTurk) 인력, 벤더 관리 인력 또는 자체 비공개 인력을 만들어 인간 검토를 수행할 수 있습니다. 어떤 유형의 인력을 선택하든 아마존 그라운드 트루스(Amazon SageMaker Ground Truth)는 작업자에게 작업을 보내는 것을 처리합니다.\n",
    "\n",
    "\n",
    "* 작업자용 UI(Human Task UI)를 생성하기 위한 **작업자 테스크 템플릿(Worker Task Template)**. 작업자 UI는 문서나 이미지와 같은 입력 데이터를 표시하고, 작업자에게 제공되는 지침을 보여줍니다. 또한, 작업자가 작업을 완료하는 데 사용할 수 있는 대화형 도구를 제공합니다. 자세한 내용은 여기(https://docs.aws.amazon.com/sagemaker/latest/dg/a2i-instructions-overview.html)에서 확인할 수 있습니다.\n",
    "\n",
    "\n",
    "\n",
    "* 인간 검토 워크플로를 생성하기 위한 **흐름 정의(Flow Definition)**. 흐름 정의를 사용해 인력을 구성하고, 인간 검토 작업을 수행하는 방법에 대한 정보를 제공합니다. 세이지메이커 그라운드 트루스 콘솔 또는 API를 통해 흐름 정의를 생성할 수 있습니다. 이 두 가지 옵션에 대한 자세한 내용은 여기(https://docs.aws.amazon.com/sagemaker/latest/dg/a2i-create-flow-definition.html)에서 확인할 수 있습니다.\n",
    "\n",
    "\n",
    "* **휴먼 루프(Human Loop)**는 인간 검토 워크플로를 시작합니다. 내장 작업 유형 중 하나를 사용할 때 흐름 정의에 지정된 조건이 충족되거나 조건이 지정되지 않은 경우 각 객체에 대해 해당 AWS 서비스가 사용자를 대신해 휴먼 루프를 생성하고 시작합니다. 휴먼 루프가 트리거되면 흐름 정의에 지정된 대로 작업자에게 인간 검토 작업이 전송됩니다.\n",
    "\n",
    "\n",
    "이 노트북에 표시된 것처럼 사용자 지정 작업 유형을 사용할 때는 AWS API를 사용해 휴먼 루프를 시작합니다. 사용자 지정 애플리케이션에서 StartHumanLoop를 호출하면 검토자에게 작업이 전송됩니다."
   ]
  },
  {
   "cell_type": "code",
   "execution_count": 1,
   "metadata": {
    "id": "Ozd_iTYrlIVh",
    "outputId": "70306df9-f02b-4753-d1af-fbd7b086e571",
    "tags": []
   },
   "outputs": [
    {
     "name": "stdout",
     "output_type": "stream",
     "text": [
      "svmem(total=33163763712, available=31066292224, percent=6.3, used=1672310784, free=28696199168, active=478732288, inactive=3558096896, buffers=4304896, cached=2790948864, shared=638976, slab=181903360)\n"
     ]
    }
   ],
   "source": [
    "import psutil\n",
    "\n",
    "notebook_memory = psutil.virtual_memory()\n",
    "print(notebook_memory)\n",
    "\n",
    "if notebook_memory.total < 32 * 1000 * 1000 * 1000:\n",
    "    print('*******************************************')\n",
    "    print('YOU ARE NOT USING THE CORRECT INSTANCE TYPE')\n",
    "    print('PLEASE CHANGE INSTANCE TYPE TO  m5.2xlarge ')\n",
    "    print('*******************************************')\n",
    "else:\n",
    "    correct_instance_type=True"
   ]
  },
  {
   "cell_type": "code",
   "execution_count": 2,
   "metadata": {
    "id": "Pf4DtG8PlIVj",
    "outputId": "ab7d17eb-5d22-40a5-c1db-15252588cb5d",
    "tags": []
   },
   "outputs": [
    {
     "name": "stdout",
     "output_type": "stream",
     "text": [
      "sagemaker.config INFO - Not applying SDK defaults from location: /etc/xdg/sagemaker/config.yaml\n",
      "sagemaker.config INFO - Not applying SDK defaults from location: /home/ec2-user/.config/sagemaker/config.yaml\n"
     ]
    }
   ],
   "source": [
    "import boto3\n",
    "import sagemaker\n",
    "import pandas as pd\n",
    "\n",
    "sess = sagemaker.Session()\n",
    "bucket = sess.default_bucket()\n",
    "role = sagemaker.get_execution_role()\n",
    "region = boto3.Session().region_name"
   ]
  },
  {
   "cell_type": "code",
   "execution_count": 3,
   "metadata": {
    "id": "AJqc7NGFlIVk",
    "tags": []
   },
   "outputs": [],
   "source": [
    "import io\n",
    "import json\n",
    "import uuid\n",
    "import time\n",
    "import boto3\n",
    "import botocore\n",
    "\n",
    "# 아마존 파이썬 SDK 클라이언트\n",
    "sagemaker = boto3.client(\"sagemaker\", region)\n",
    "a2i = boto3.client(\"sagemaker-a2i-runtime\")\n",
    "s3 = boto3.client(\"s3\", region)"
   ]
  },
  {
   "cell_type": "markdown",
   "metadata": {
    "id": "uaYTDzBClIVk"
   },
   "source": [
    "# 워크플로 결과를 위해 S3 출력 위치 설정"
   ]
  },
  {
   "cell_type": "code",
   "execution_count": 4,
   "metadata": {
    "id": "qQPurdWklIVk",
    "outputId": "a5191a4f-c31f-4285-baa1-6f05e61b4bd8",
    "tags": []
   },
   "outputs": [
    {
     "name": "stdout",
     "output_type": "stream",
     "text": [
      "s3://sagemaker-us-east-1-843956416240/ground-truth-star-rating-results\n"
     ]
    }
   ],
   "source": [
    "output_path = f\"s3://{bucket}/ground-truth-star-rating-results\"\n",
    "print(output_path)"
   ]
  },
  {
   "cell_type": "markdown",
   "metadata": {
    "id": "Fbg78k0flIVk"
   },
   "source": [
    "# 인력과 작업팀 설정\n",
    "\n",
    "인력은 데이터 세트에 레이블을 지정하도록 선택한 작업자 그룹입니다. 비공개 인력을 사용할 때는 작업팀도 만드는데, 이는 아마존 오그먼티드 AI(Amazon Augmented AI; Amazon A2I) 인간 검토 작업에 할당된 인력 중 작업자 그룹입니다. 여러 작업팀을 보유할 수 있으며 각 작업에 하나 이상의 작업팀을 할당할 수 있습니다.\n",
    "\n",
    "새로운 인력과 작업팀을 만들려면 다음으로 이동하세요.\n"
   ]
  },
  {
   "cell_type": "code",
   "execution_count": 5,
   "metadata": {
    "id": "ERiU2eM5lIVk",
    "outputId": "01738f23-a656-48ea-a914-2120e93e70ea",
    "tags": []
   },
   "outputs": [
    {
     "name": "stdout",
     "output_type": "stream",
     "text": [
      "https://us-east-1.console.aws.amazon.com/sagemaker/groundtruth?region=us-east-1#/labeling-workforces/create\n"
     ]
    }
   ],
   "source": [
    "print(\n",
    "    \"https://{}.console.aws.amazon.com/sagemaker/groundtruth?region={}#/labeling-workforces/create\".format(\n",
    "        region, region\n",
    "    )\n",
    ")"
   ]
  },
  {
   "cell_type": "markdown",
   "metadata": {
    "id": "TW4rHdc_lIVl"
   },
   "source": [
    "<img src=\"img/augmented-create-workforce.png\" width=\"80%\" align=\"left\">"
   ]
  },
  {
   "cell_type": "markdown",
   "metadata": {
    "id": "RaFbJ-HMlIVl"
   },
   "source": [
    "# 이메일 확인 - 스팸 메일함도 확인하세요"
   ]
  },
  {
   "cell_type": "markdown",
   "metadata": {
    "id": "V1iBUpTwlIVl"
   },
   "source": [
    "<img src=\"img/augmented-create-workforce-confirmation-email.png\" width=\"60%\" align=\"left\">"
   ]
  },
  {
   "cell_type": "markdown",
   "metadata": {
    "id": "O8JEgeA1lIVl"
   },
   "source": [
    "# 인력 상태 검토"
   ]
  },
  {
   "cell_type": "markdown",
   "metadata": {
    "id": "9Nt4hzARlIVl"
   },
   "source": [
    "<img src=\"img/augmented-create-workforce-confirmation.png\" width=\"80%\" align=\"left\">"
   ]
  },
  {
   "cell_type": "markdown",
   "metadata": {
    "id": "oXcVUgjllIVm"
   },
   "source": [
    "# `workteam_arn` 설정"
   ]
  },
  {
   "cell_type": "code",
   "execution_count": 6,
   "metadata": {
    "id": "SNyJDDFelIVm",
    "outputId": "741fa331-91a6-4252-83c6-0fb9c95f6ed1",
    "tags": []
   },
   "outputs": [
    {
     "name": "stdout",
     "output_type": "stream",
     "text": [
      "arn:aws:sagemaker:us-east-1:843956416240:workteam/private-crowd/dsoaws\n"
     ]
    }
   ],
   "source": [
    "import boto3\n",
    "\n",
    "account_id = boto3.client(\"sts\").get_caller_identity().get(\"Account\")\n",
    "\n",
    "augmented_ai_workteam_arn = \"arn:aws:sagemaker:{}:{}:workteam/private-crowd/dsoaws\".format(region, account_id)\n",
    "\n",
    "print(augmented_ai_workteam_arn)"
   ]
  },
  {
   "cell_type": "markdown",
   "metadata": {
    "id": "Z0Lchj02lIVm"
   },
   "source": [
    "역할에 필요한 권한을 추가하려면 다음 링크 방문하세요. https://docs.aws.amazon.com/sagemaker/latest/dg/a2i-permissions-security.html"
   ]
  },
  {
   "cell_type": "markdown",
   "metadata": {
    "id": "lVWSiyTNlIVm"
   },
   "source": [
    "# 작업자 작업 템플릿을 사용해 인간 작업 UI 생성\n",
    "\n",
    "UI 템플릿을 제공해 인간 작업 UI 리소스를 만듭니다. 이 템플릿은 인간의 개입이 필요할 때마다 작업자에게 표시됩니다.\n",
    "\n",
    "아래에서는 AWS Comprehend의 감정 분석 API와 호환되는 간단한 데모 템플릿을 제공했습니다.\n",
    "\n",
    "다른 사전 구축된 UI(70개 이상)는 https://github.com/aws-samples/amazon-a2i-sample-task-uis 를 확인하세요."
   ]
  },
  {
   "cell_type": "markdown",
   "metadata": {
    "id": "lVNp5TShlIVm",
    "tags": []
   },
   "source": [
    "# 주어진 프롬프트에 대해 LLM(이전 단계에서 배포됨)에서 생성된 star_rating의 순위를 매기도록 작업자에게 요청하기\n",
    "\n",
    "이전 단계에서 LLM이 예측한 star_rating 집합을 기반으로 주어진 프롬프트에 대한 star_rating의 순위를 매기도록 작업자에게 요청할 것입니다. 이러한 순위는 향후 단계에서 보상 모델을 학습하는 데 사용됩니다."
   ]
  },
  {
   "cell_type": "code",
   "execution_count": 7,
   "metadata": {
    "id": "fHVaxTzWlIVn",
    "tags": []
   },
   "outputs": [],
   "source": [
    "template = r\"\"\"\n",
    "<script src=\"https://assets.crowd.aws/crowd-html-elements.js\"></script>\n",
    "\n",
    "<crowd-form>\n",
    "  <short-instructions>\n",
    "      Select the correct ranking from the dropdown (High, Low).\n",
    "  </short-instructions>\n",
    "\n",
    "  <full-instructions header=\"Ranking Instructions\">\n",
    "      Select the correct ranking from the dropdown (High, Low).\n",
    "  </full-instructions>\n",
    "\n",
    "  <p>\n",
    "      For the following question <br/><b>{{ task.input.taskObject.prompt }}</b><br/> select the ranking (Low, High) for the following answer <br/><b>{{ task.input.taskObject.responses[0] }}</b></br>\n",
    "  </p>\n",
    "  <div>\n",
    "      <select name=\"response_1_ranking\" required>\n",
    "          <option disabled selected value> -- select an option -- </option>\n",
    "          <option value=\"1\">High</option>\n",
    "          <option value=\"2\">Low</option>\n",
    "      </select>\n",
    "  </div>\n",
    "  <p>\n",
    "      For the following question <br/><b>{{ task.input.taskObject.prompt }}</b><br/> select the ranking (Low, High) for the following answer <br/><b>{{ task.input.taskObject.responses[1] }}</b></br>\n",
    "  </p>\n",
    "  <div>\n",
    "      <select name=\"response_2_ranking\" required>\n",
    "          <option disabled selected value> -- select an option -- </option>\n",
    "          <option value=\"1\">High</option>\n",
    "          <option value=\"2\">Low</option>\n",
    "      </select>\n",
    "  </div>\n",
    "</crowd-form>\n",
    "\"\"\""
   ]
  },
  {
   "cell_type": "code",
   "execution_count": 8,
   "metadata": {
    "id": "XfvPJHXVlIVn",
    "outputId": "8ebac5ab-f69c-48e1-e0b0-219cbe8c6717",
    "tags": []
   },
   "outputs": [
    {
     "name": "stdout",
     "output_type": "stream",
     "text": [
      "arn:aws:sagemaker:us-east-1:843956416240:human-task-ui/ui-ranking-2284fe14-6f9d-4d9b-9203-5d71f0d53415\n"
     ]
    }
   ],
   "source": [
    "# 작업 UI 이름 - 이 값은 계정 및 지역별로 고유합니다. 여기에 직접 값을 입력할 수도 있습니다.\n",
    "task_ui_name = \"ui-ranking-\" + str(uuid.uuid4())\n",
    "\n",
    "# 작업자용 UI 리소스를 생성하세요.\n",
    "human_task_ui_response = sagemaker.create_human_task_ui(HumanTaskUiName=task_ui_name, UiTemplate={\"Content\": template})\n",
    "human_task_ui_arn = human_task_ui_response[\"HumanTaskUiArn\"]\n",
    "print(human_task_ui_arn)"
   ]
  },
  {
   "cell_type": "markdown",
   "metadata": {
    "id": "jw9JeuRBlIVn"
   },
   "source": [
    "# 흐름 정의 생성하기"
   ]
  },
  {
   "cell_type": "markdown",
   "metadata": {
    "id": "nV23wVqqlIVn"
   },
   "source": [
    "이 섹션에서는 흐름 정의(Flow Definition)를 생성할 것입니다. 흐름 정의를 통해 다음을 지정할 수 있습니다.\n",
    "\n",
    "* 작업이 전송될 인력.\n",
    "* 인력이 받게 될 지침. 이를 작업자 작업 템플릿이라고 합니다.\n",
    "* 작업을 받는 작업자 수와 작업 완료 시간 제한을 포함한 작업자 작업의 구성.\n",
    "* 출력 데이터가 저장될 위치.\n",
    "\n",
    "이 데모는 API를 사용할 것이지만, 선택적으로 콘솔에서도 이 워크플로 정의를 생성할 수 있습니다.\n",
    "\n",
    "자세한 내용과 지침은 https://docs.aws.amazon.com/sagemaker/latest/dg/a2i-create-flow-definition.html 을 참고하세요."
   ]
  },
  {
   "cell_type": "code",
   "execution_count": 9,
   "metadata": {
    "id": "TODLD6eclIVo",
    "tags": []
   },
   "outputs": [],
   "source": [
    "import uuid\n",
    "\n",
    "# 흐름 정의(Flow definition)명 - 이 값은 계정 및 지역별로 고유합니다. 여기에 직접 값을 입력할 수도 있습니다.\n",
    "flow_definition_name = \"fd-ranking-\" + str(uuid.uuid4())\n",
    "\n",
    "create_workflow_definition_response = sagemaker.create_flow_definition(\n",
    "    FlowDefinitionName=flow_definition_name,\n",
    "    RoleArn=role,\n",
    "    HumanLoopConfig={\n",
    "        \"WorkteamArn\": augmented_ai_workteam_arn,\n",
    "        \"HumanTaskUiArn\": human_task_ui_arn,\n",
    "        \"TaskCount\": 1,\n",
    "        \"TaskDescription\": \"Rank the answer for the given question from Low (Worst) to High (Best)\",\n",
    "        \"TaskTitle\": \"Rank the answer for the given question from Low (Worst) to High (Best)\",\n",
    "\n",
    "    },\n",
    "    OutputConfig={\"S3OutputPath\": output_path},\n",
    ")\n",
    "\n",
    "augmented_ai_flow_definition_arn = create_workflow_definition_response[\"FlowDefinitionArn\"]"
   ]
  },
  {
   "cell_type": "markdown",
   "metadata": {
    "id": "x1OFInC7lIVo"
   },
   "source": [
    "# 위에 ^^^^ 오류가 표시되면, 먼저 개인 인력을 생성해야 합니다. 위의 단계를 참조하세요. 그런 다음 이 셀을 다시 실행하세요."
   ]
  },
  {
   "cell_type": "code",
   "execution_count": 10,
   "metadata": {
    "id": "5pqWNB6LlIVo",
    "outputId": "6acf611e-eedb-420e-afe0-f46fe03ea5d2",
    "scrolled": true,
    "tags": []
   },
   "outputs": [
    {
     "name": "stdout",
     "output_type": "stream",
     "text": [
      "Active\n",
      "Flow Definition is active\n"
     ]
    }
   ],
   "source": [
    "# 흐름 정의 설명 - 상태가 \"활성화됨\"으로 변경되어야 합니다.\n",
    "for x in range(60):\n",
    "    describeFlowDefinitionResponse = sagemaker.describe_flow_definition(FlowDefinitionName=flow_definition_name)\n",
    "    print(describeFlowDefinitionResponse[\"FlowDefinitionStatus\"])\n",
    "    if describeFlowDefinitionResponse[\"FlowDefinitionStatus\"] == \"Active\":\n",
    "        print(\"Flow Definition is active\")\n",
    "        break\n",
    "    time.sleep(2)"
   ]
  },
  {
   "cell_type": "code",
   "execution_count": 11,
   "metadata": {
    "id": "dEUJMI9ylIVo",
    "outputId": "09308739-fb63-4569-cb7a-9c8058f03100",
    "tags": []
   },
   "outputs": [
    {
     "name": "stdout",
     "output_type": "stream",
     "text": [
      "Stored 'augmented_ai_flow_definition_arn' (str)\n"
     ]
    }
   ],
   "source": [
    "%store augmented_ai_flow_definition_arn"
   ]
  },
  {
   "cell_type": "code",
   "execution_count": 12,
   "metadata": {
    "id": "ovBzzQrSlIVp",
    "outputId": "3e6b3aab-d326-4d50-fdf1-9f3cd485137f",
    "tags": []
   },
   "outputs": [
    {
     "name": "stdout",
     "output_type": "stream",
     "text": [
      "Stored 'augmented_ai_workteam_arn' (str)\n"
     ]
    }
   ],
   "source": [
    "%store augmented_ai_workteam_arn"
   ]
  },
  {
   "cell_type": "markdown",
   "metadata": {
    "id": "jKI90ki-lIVp"
   },
   "source": [
    "# 리소스 해제하기"
   ]
  },
  {
   "cell_type": "code",
   "execution_count": 13,
   "metadata": {
    "id": "sjZzRpiglIVp",
    "outputId": "a2c995ba-2c1e-4844-9ac1-42a6fd0d3b4b",
    "tags": []
   },
   "outputs": [
    {
     "data": {
      "text/html": [
       "\n",
       "<p><b>Shutting down your kernel for this notebook to release resources.</b></p>\n",
       "<button class=\"sm-command-button\" data-commandlinker-command=\"kernelmenu:shutdown\" style=\"display:none;\">Shutdown Kernel</button>\n",
       "\n",
       "<script>\n",
       "try {\n",
       "    els = document.getElementsByClassName(\"sm-command-button\");\n",
       "    els[0].click();\n",
       "}\n",
       "catch(err) {\n",
       "    // NoOp\n",
       "}\n",
       "</script>\n"
      ],
      "text/plain": [
       "<IPython.core.display.HTML object>"
      ]
     },
     "metadata": {},
     "output_type": "display_data"
    }
   ],
   "source": [
    "%%html\n",
    "\n",
    "<p><b>Shutting down your kernel for this notebook to release resources.</b></p>\n",
    "<button class=\"sm-command-button\" data-commandlinker-command=\"kernelmenu:shutdown\" style=\"display:none;\">Shutdown Kernel</button>\n",
    "\n",
    "<script>\n",
    "try {\n",
    "    els = document.getElementsByClassName(\"sm-command-button\");\n",
    "    els[0].click();\n",
    "}\n",
    "catch(err) {\n",
    "    // NoOp\n",
    "}\n",
    "</script>"
   ]
  }
 ],
 "metadata": {
  "availableInstances": [
   {
    "_defaultOrder": 0,
    "_isFastLaunch": true,
    "category": "General purpose",
    "gpuNum": 0,
    "hideHardwareSpecs": false,
    "memoryGiB": 4,
    "name": "ml.t3.medium",
    "vcpuNum": 2
   },
   {
    "_defaultOrder": 1,
    "_isFastLaunch": false,
    "category": "General purpose",
    "gpuNum": 0,
    "hideHardwareSpecs": false,
    "memoryGiB": 8,
    "name": "ml.t3.large",
    "vcpuNum": 2
   },
   {
    "_defaultOrder": 2,
    "_isFastLaunch": false,
    "category": "General purpose",
    "gpuNum": 0,
    "hideHardwareSpecs": false,
    "memoryGiB": 16,
    "name": "ml.t3.xlarge",
    "vcpuNum": 4
   },
   {
    "_defaultOrder": 3,
    "_isFastLaunch": false,
    "category": "General purpose",
    "gpuNum": 0,
    "hideHardwareSpecs": false,
    "memoryGiB": 32,
    "name": "ml.t3.2xlarge",
    "vcpuNum": 8
   },
   {
    "_defaultOrder": 4,
    "_isFastLaunch": true,
    "category": "General purpose",
    "gpuNum": 0,
    "hideHardwareSpecs": false,
    "memoryGiB": 8,
    "name": "ml.m5.large",
    "vcpuNum": 2
   },
   {
    "_defaultOrder": 5,
    "_isFastLaunch": false,
    "category": "General purpose",
    "gpuNum": 0,
    "hideHardwareSpecs": false,
    "memoryGiB": 16,
    "name": "ml.m5.xlarge",
    "vcpuNum": 4
   },
   {
    "_defaultOrder": 6,
    "_isFastLaunch": false,
    "category": "General purpose",
    "gpuNum": 0,
    "hideHardwareSpecs": false,
    "memoryGiB": 32,
    "name": "ml.m5.2xlarge",
    "vcpuNum": 8
   },
   {
    "_defaultOrder": 7,
    "_isFastLaunch": false,
    "category": "General purpose",
    "gpuNum": 0,
    "hideHardwareSpecs": false,
    "memoryGiB": 64,
    "name": "ml.m5.4xlarge",
    "vcpuNum": 16
   },
   {
    "_defaultOrder": 8,
    "_isFastLaunch": false,
    "category": "General purpose",
    "gpuNum": 0,
    "hideHardwareSpecs": false,
    "memoryGiB": 128,
    "name": "ml.m5.8xlarge",
    "vcpuNum": 32
   },
   {
    "_defaultOrder": 9,
    "_isFastLaunch": false,
    "category": "General purpose",
    "gpuNum": 0,
    "hideHardwareSpecs": false,
    "memoryGiB": 192,
    "name": "ml.m5.12xlarge",
    "vcpuNum": 48
   },
   {
    "_defaultOrder": 10,
    "_isFastLaunch": false,
    "category": "General purpose",
    "gpuNum": 0,
    "hideHardwareSpecs": false,
    "memoryGiB": 256,
    "name": "ml.m5.16xlarge",
    "vcpuNum": 64
   },
   {
    "_defaultOrder": 11,
    "_isFastLaunch": false,
    "category": "General purpose",
    "gpuNum": 0,
    "hideHardwareSpecs": false,
    "memoryGiB": 384,
    "name": "ml.m5.24xlarge",
    "vcpuNum": 96
   },
   {
    "_defaultOrder": 12,
    "_isFastLaunch": false,
    "category": "General purpose",
    "gpuNum": 0,
    "hideHardwareSpecs": false,
    "memoryGiB": 8,
    "name": "ml.m5d.large",
    "vcpuNum": 2
   },
   {
    "_defaultOrder": 13,
    "_isFastLaunch": false,
    "category": "General purpose",
    "gpuNum": 0,
    "hideHardwareSpecs": false,
    "memoryGiB": 16,
    "name": "ml.m5d.xlarge",
    "vcpuNum": 4
   },
   {
    "_defaultOrder": 14,
    "_isFastLaunch": false,
    "category": "General purpose",
    "gpuNum": 0,
    "hideHardwareSpecs": false,
    "memoryGiB": 32,
    "name": "ml.m5d.2xlarge",
    "vcpuNum": 8
   },
   {
    "_defaultOrder": 15,
    "_isFastLaunch": false,
    "category": "General purpose",
    "gpuNum": 0,
    "hideHardwareSpecs": false,
    "memoryGiB": 64,
    "name": "ml.m5d.4xlarge",
    "vcpuNum": 16
   },
   {
    "_defaultOrder": 16,
    "_isFastLaunch": false,
    "category": "General purpose",
    "gpuNum": 0,
    "hideHardwareSpecs": false,
    "memoryGiB": 128,
    "name": "ml.m5d.8xlarge",
    "vcpuNum": 32
   },
   {
    "_defaultOrder": 17,
    "_isFastLaunch": false,
    "category": "General purpose",
    "gpuNum": 0,
    "hideHardwareSpecs": false,
    "memoryGiB": 192,
    "name": "ml.m5d.12xlarge",
    "vcpuNum": 48
   },
   {
    "_defaultOrder": 18,
    "_isFastLaunch": false,
    "category": "General purpose",
    "gpuNum": 0,
    "hideHardwareSpecs": false,
    "memoryGiB": 256,
    "name": "ml.m5d.16xlarge",
    "vcpuNum": 64
   },
   {
    "_defaultOrder": 19,
    "_isFastLaunch": false,
    "category": "General purpose",
    "gpuNum": 0,
    "hideHardwareSpecs": false,
    "memoryGiB": 384,
    "name": "ml.m5d.24xlarge",
    "vcpuNum": 96
   },
   {
    "_defaultOrder": 20,
    "_isFastLaunch": false,
    "category": "General purpose",
    "gpuNum": 0,
    "hideHardwareSpecs": true,
    "memoryGiB": 0,
    "name": "ml.geospatial.interactive",
    "supportedImageNames": [
     "sagemaker-geospatial-v1-0"
    ],
    "vcpuNum": 0
   },
   {
    "_defaultOrder": 21,
    "_isFastLaunch": true,
    "category": "Compute optimized",
    "gpuNum": 0,
    "hideHardwareSpecs": false,
    "memoryGiB": 4,
    "name": "ml.c5.large",
    "vcpuNum": 2
   },
   {
    "_defaultOrder": 22,
    "_isFastLaunch": false,
    "category": "Compute optimized",
    "gpuNum": 0,
    "hideHardwareSpecs": false,
    "memoryGiB": 8,
    "name": "ml.c5.xlarge",
    "vcpuNum": 4
   },
   {
    "_defaultOrder": 23,
    "_isFastLaunch": false,
    "category": "Compute optimized",
    "gpuNum": 0,
    "hideHardwareSpecs": false,
    "memoryGiB": 16,
    "name": "ml.c5.2xlarge",
    "vcpuNum": 8
   },
   {
    "_defaultOrder": 24,
    "_isFastLaunch": false,
    "category": "Compute optimized",
    "gpuNum": 0,
    "hideHardwareSpecs": false,
    "memoryGiB": 32,
    "name": "ml.c5.4xlarge",
    "vcpuNum": 16
   },
   {
    "_defaultOrder": 25,
    "_isFastLaunch": false,
    "category": "Compute optimized",
    "gpuNum": 0,
    "hideHardwareSpecs": false,
    "memoryGiB": 72,
    "name": "ml.c5.9xlarge",
    "vcpuNum": 36
   },
   {
    "_defaultOrder": 26,
    "_isFastLaunch": false,
    "category": "Compute optimized",
    "gpuNum": 0,
    "hideHardwareSpecs": false,
    "memoryGiB": 96,
    "name": "ml.c5.12xlarge",
    "vcpuNum": 48
   },
   {
    "_defaultOrder": 27,
    "_isFastLaunch": false,
    "category": "Compute optimized",
    "gpuNum": 0,
    "hideHardwareSpecs": false,
    "memoryGiB": 144,
    "name": "ml.c5.18xlarge",
    "vcpuNum": 72
   },
   {
    "_defaultOrder": 28,
    "_isFastLaunch": false,
    "category": "Compute optimized",
    "gpuNum": 0,
    "hideHardwareSpecs": false,
    "memoryGiB": 192,
    "name": "ml.c5.24xlarge",
    "vcpuNum": 96
   },
   {
    "_defaultOrder": 29,
    "_isFastLaunch": true,
    "category": "Accelerated computing",
    "gpuNum": 1,
    "hideHardwareSpecs": false,
    "memoryGiB": 16,
    "name": "ml.g4dn.xlarge",
    "vcpuNum": 4
   },
   {
    "_defaultOrder": 30,
    "_isFastLaunch": false,
    "category": "Accelerated computing",
    "gpuNum": 1,
    "hideHardwareSpecs": false,
    "memoryGiB": 32,
    "name": "ml.g4dn.2xlarge",
    "vcpuNum": 8
   },
   {
    "_defaultOrder": 31,
    "_isFastLaunch": false,
    "category": "Accelerated computing",
    "gpuNum": 1,
    "hideHardwareSpecs": false,
    "memoryGiB": 64,
    "name": "ml.g4dn.4xlarge",
    "vcpuNum": 16
   },
   {
    "_defaultOrder": 32,
    "_isFastLaunch": false,
    "category": "Accelerated computing",
    "gpuNum": 1,
    "hideHardwareSpecs": false,
    "memoryGiB": 128,
    "name": "ml.g4dn.8xlarge",
    "vcpuNum": 32
   },
   {
    "_defaultOrder": 33,
    "_isFastLaunch": false,
    "category": "Accelerated computing",
    "gpuNum": 4,
    "hideHardwareSpecs": false,
    "memoryGiB": 192,
    "name": "ml.g4dn.12xlarge",
    "vcpuNum": 48
   },
   {
    "_defaultOrder": 34,
    "_isFastLaunch": false,
    "category": "Accelerated computing",
    "gpuNum": 1,
    "hideHardwareSpecs": false,
    "memoryGiB": 256,
    "name": "ml.g4dn.16xlarge",
    "vcpuNum": 64
   },
   {
    "_defaultOrder": 35,
    "_isFastLaunch": false,
    "category": "Accelerated computing",
    "gpuNum": 1,
    "hideHardwareSpecs": false,
    "memoryGiB": 61,
    "name": "ml.p3.2xlarge",
    "vcpuNum": 8
   },
   {
    "_defaultOrder": 36,
    "_isFastLaunch": false,
    "category": "Accelerated computing",
    "gpuNum": 4,
    "hideHardwareSpecs": false,
    "memoryGiB": 244,
    "name": "ml.p3.8xlarge",
    "vcpuNum": 32
   },
   {
    "_defaultOrder": 37,
    "_isFastLaunch": false,
    "category": "Accelerated computing",
    "gpuNum": 8,
    "hideHardwareSpecs": false,
    "memoryGiB": 488,
    "name": "ml.p3.16xlarge",
    "vcpuNum": 64
   },
   {
    "_defaultOrder": 38,
    "_isFastLaunch": false,
    "category": "Accelerated computing",
    "gpuNum": 8,
    "hideHardwareSpecs": false,
    "memoryGiB": 768,
    "name": "ml.p3dn.24xlarge",
    "vcpuNum": 96
   },
   {
    "_defaultOrder": 39,
    "_isFastLaunch": false,
    "category": "Memory Optimized",
    "gpuNum": 0,
    "hideHardwareSpecs": false,
    "memoryGiB": 16,
    "name": "ml.r5.large",
    "vcpuNum": 2
   },
   {
    "_defaultOrder": 40,
    "_isFastLaunch": false,
    "category": "Memory Optimized",
    "gpuNum": 0,
    "hideHardwareSpecs": false,
    "memoryGiB": 32,
    "name": "ml.r5.xlarge",
    "vcpuNum": 4
   },
   {
    "_defaultOrder": 41,
    "_isFastLaunch": false,
    "category": "Memory Optimized",
    "gpuNum": 0,
    "hideHardwareSpecs": false,
    "memoryGiB": 64,
    "name": "ml.r5.2xlarge",
    "vcpuNum": 8
   },
   {
    "_defaultOrder": 42,
    "_isFastLaunch": false,
    "category": "Memory Optimized",
    "gpuNum": 0,
    "hideHardwareSpecs": false,
    "memoryGiB": 128,
    "name": "ml.r5.4xlarge",
    "vcpuNum": 16
   },
   {
    "_defaultOrder": 43,
    "_isFastLaunch": false,
    "category": "Memory Optimized",
    "gpuNum": 0,
    "hideHardwareSpecs": false,
    "memoryGiB": 256,
    "name": "ml.r5.8xlarge",
    "vcpuNum": 32
   },
   {
    "_defaultOrder": 44,
    "_isFastLaunch": false,
    "category": "Memory Optimized",
    "gpuNum": 0,
    "hideHardwareSpecs": false,
    "memoryGiB": 384,
    "name": "ml.r5.12xlarge",
    "vcpuNum": 48
   },
   {
    "_defaultOrder": 45,
    "_isFastLaunch": false,
    "category": "Memory Optimized",
    "gpuNum": 0,
    "hideHardwareSpecs": false,
    "memoryGiB": 512,
    "name": "ml.r5.16xlarge",
    "vcpuNum": 64
   },
   {
    "_defaultOrder": 46,
    "_isFastLaunch": false,
    "category": "Memory Optimized",
    "gpuNum": 0,
    "hideHardwareSpecs": false,
    "memoryGiB": 768,
    "name": "ml.r5.24xlarge",
    "vcpuNum": 96
   },
   {
    "_defaultOrder": 47,
    "_isFastLaunch": false,
    "category": "Accelerated computing",
    "gpuNum": 1,
    "hideHardwareSpecs": false,
    "memoryGiB": 16,
    "name": "ml.g5.xlarge",
    "vcpuNum": 4
   },
   {
    "_defaultOrder": 48,
    "_isFastLaunch": false,
    "category": "Accelerated computing",
    "gpuNum": 1,
    "hideHardwareSpecs": false,
    "memoryGiB": 32,
    "name": "ml.g5.2xlarge",
    "vcpuNum": 8
   },
   {
    "_defaultOrder": 49,
    "_isFastLaunch": false,
    "category": "Accelerated computing",
    "gpuNum": 1,
    "hideHardwareSpecs": false,
    "memoryGiB": 64,
    "name": "ml.g5.4xlarge",
    "vcpuNum": 16
   },
   {
    "_defaultOrder": 50,
    "_isFastLaunch": false,
    "category": "Accelerated computing",
    "gpuNum": 1,
    "hideHardwareSpecs": false,
    "memoryGiB": 128,
    "name": "ml.g5.8xlarge",
    "vcpuNum": 32
   },
   {
    "_defaultOrder": 51,
    "_isFastLaunch": false,
    "category": "Accelerated computing",
    "gpuNum": 1,
    "hideHardwareSpecs": false,
    "memoryGiB": 256,
    "name": "ml.g5.16xlarge",
    "vcpuNum": 64
   },
   {
    "_defaultOrder": 52,
    "_isFastLaunch": false,
    "category": "Accelerated computing",
    "gpuNum": 4,
    "hideHardwareSpecs": false,
    "memoryGiB": 192,
    "name": "ml.g5.12xlarge",
    "vcpuNum": 48
   },
   {
    "_defaultOrder": 53,
    "_isFastLaunch": false,
    "category": "Accelerated computing",
    "gpuNum": 4,
    "hideHardwareSpecs": false,
    "memoryGiB": 384,
    "name": "ml.g5.24xlarge",
    "vcpuNum": 96
   },
   {
    "_defaultOrder": 54,
    "_isFastLaunch": false,
    "category": "Accelerated computing",
    "gpuNum": 8,
    "hideHardwareSpecs": false,
    "memoryGiB": 768,
    "name": "ml.g5.48xlarge",
    "vcpuNum": 192
   },
   {
    "_defaultOrder": 55,
    "_isFastLaunch": false,
    "category": "Accelerated computing",
    "gpuNum": 8,
    "hideHardwareSpecs": false,
    "memoryGiB": 1152,
    "name": "ml.p4d.24xlarge",
    "vcpuNum": 96
   },
   {
    "_defaultOrder": 56,
    "_isFastLaunch": false,
    "category": "Accelerated computing",
    "gpuNum": 8,
    "hideHardwareSpecs": false,
    "memoryGiB": 1152,
    "name": "ml.p4de.24xlarge",
    "vcpuNum": 96
   }
  ],
  "colab": {
   "provenance": []
  },
  "instance_type": "ml.t3.medium",
  "kernelspec": {
   "display_name": "conda_pytorch_p310",
   "language": "python",
   "name": "conda_pytorch_p310"
  },
  "language_info": {
   "codemirror_mode": {
    "name": "ipython",
    "version": 3
   },
   "file_extension": ".py",
   "mimetype": "text/x-python",
   "name": "python",
   "nbconvert_exporter": "python",
   "pygments_lexer": "ipython3",
   "version": "3.10.14"
  }
 },
 "nbformat": 4,
 "nbformat_minor": 4
}
