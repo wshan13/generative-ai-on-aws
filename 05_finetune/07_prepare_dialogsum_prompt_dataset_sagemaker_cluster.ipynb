{
 "cells": [
  {
   "cell_type": "markdown",
   "metadata": {},
   "source": [
    "# 아마존 세이지메이커 처리 작업을 통한 특성 변환\n",
    "\n",
    "일반적으로 머신러닝(ML) 프로세스는 몇 가지 단계로 구성됩니다. 먼저 다양한 ETL 작업으로 데이터를 수집한 다음, 데이터를 전처리하고, 표준 기법이나 사전 지식을 통합해 데이터 세트의 특성을 추출하고, 마지막으로 알고리즘을 사용해 ML 모델을 학습시킵니다.\n",
    "\n",
    "보통 학습을 위해 데이터 세트를 준비할 때 Scikit-Learn, Spark, Ray 등의 분산 데이터 처리 프레임워크를 사용합니다. 이 노트북에서는 아마존 세이지메이커 프로세싱을 사용하고 관리형 세이지메이커 환경에서 허깅 페이스의 성능을 활용해 처리 작업을 실행하겠습니다."
   ]
  },
  {
   "cell_type": "markdown",
   "metadata": {},
   "source": [
    "# 주의: 이 노트북은 완료하는데 5-10분 정도 걸립니다.\n",
    "\n",
    "# 잠시 기다려 주세요."
   ]
  },
  {
   "cell_type": "markdown",
   "metadata": {},
   "source": [
    "## 목차\n",
    "\n",
    "1. 환경 설정\n",
    "1. 입력 데이터 설정\n",
    "1. 출력 데이터 설정\n",
    "1. 처리 작업을 실행하기 위한 Scikit-Learn 컨테이너 구축\n",
    "1. 아마존 세이지메이커를 사용해 처리 작업 실행\n",
    "1. 처리된 출력 데이터 검사"
   ]
  },
  {
   "cell_type": "markdown",
   "metadata": {},
   "source": [
    "# 환경 설정\n",
    "\n",
    "다음 사항을 지정하면서 시작합니다.\n",
    "* 학습 및 모델 데이터를 위해 사용할 S3 버킷과 접두사(prefix)를 설정합니다. 아마존 세이지메이커 세션에서 지정한 기본 버킷을 사용합니다.\n",
    "* 데이터 세트에 대한 처리 및 학습 액세스를 제공하는데 사용되는 IAM 역할 ARN을 설정합니다."
   ]
  },
  {
   "cell_type": "code",
   "execution_count": 2,
   "metadata": {
    "scrolled": true
   },
   "outputs": [
    {
     "name": "stdout",
     "output_type": "stream",
     "text": [
      "sagemaker.config INFO - Not applying SDK defaults from location: /etc/xdg/sagemaker/config.yaml\n",
      "sagemaker.config INFO - Not applying SDK defaults from location: /root/.config/sagemaker/config.yaml\n",
      "sagemaker.config INFO - Not applying SDK defaults from location: /etc/xdg/sagemaker/config.yaml\n",
      "sagemaker.config INFO - Not applying SDK defaults from location: /root/.config/sagemaker/config.yaml\n",
      "sagemaker.config INFO - Not applying SDK defaults from location: /etc/xdg/sagemaker/config.yaml\n",
      "sagemaker.config INFO - Not applying SDK defaults from location: /root/.config/sagemaker/config.yaml\n"
     ]
    }
   ],
   "source": [
    "import sagemaker\n",
    "import boto3\n",
    "\n",
    "sess = sagemaker.Session()\n",
    "role = sagemaker.get_execution_role()\n",
    "bucket = sess.default_bucket()\n",
    "region = boto3.Session().region_name\n",
    "\n",
    "import botocore.config\n",
    "\n",
    "config = botocore.config.Config(\n",
    "    user_agent_extra='gaia/1.0'\n",
    ")\n",
    "\n",
    "sm = boto3.Session().client(service_name=\"sagemaker\", \n",
    "                            region_name=region, \n",
    "                            config=config)\n",
    "s3 = boto3.Session().client(service_name=\"s3\", \n",
    "                            region_name=region,\n",
    "                            config=config)"
   ]
  },
  {
   "cell_type": "markdown",
   "metadata": {
    "tags": []
   },
   "source": [
    "# 입력 데이터 S3 URI 설정"
   ]
  },
  {
   "cell_type": "code",
   "execution_count": 3,
   "metadata": {},
   "outputs": [
    {
     "data": {
      "text/plain": [
       "'s3://sagemaker-us-west-2-079002598131/data-summarization/dialogsum-2.csv'"
      ]
     },
     "execution_count": 3,
     "metadata": {},
     "output_type": "execute_result"
    }
   ],
   "source": [
    "sess.upload_data('./data-summarization/dialogsum-1.csv', bucket=bucket, key_prefix='data-summarization')\n",
    "sess.upload_data('./data-summarization/dialogsum-2.csv', bucket=bucket, key_prefix='data-summarization')"
   ]
  },
  {
   "cell_type": "code",
   "execution_count": 4,
   "metadata": {},
   "outputs": [
    {
     "name": "stdout",
     "output_type": "stream",
     "text": [
      "s3://sagemaker-us-west-2-079002598131/data-summarization/\n"
     ]
    }
   ],
   "source": [
    "raw_input_data_s3_uri = f's3://{bucket}/data-summarization/'\n",
    "print(raw_input_data_s3_uri)"
   ]
  },
  {
   "cell_type": "code",
   "execution_count": 5,
   "metadata": {},
   "outputs": [
    {
     "name": "stdout",
     "output_type": "stream",
     "text": [
      "2023-10-25 19:28:06    6544107 dialogsum-1.csv\n",
      "2023-10-25 19:28:06    6572423 dialogsum-2.csv\n"
     ]
    }
   ],
   "source": [
    "!aws s3 ls $raw_input_data_s3_uri"
   ]
  },
  {
   "cell_type": "markdown",
   "metadata": {},
   "source": [
    "# 아마존 세이지메이커를 사용해 처리 작업 실행\n",
    "\n",
    "아마존 세이지메이커 파이썬 SDK를 사용해 사용자 정의 파이썬 스크립트를 사용한 처리 작업을 등록합니다."
   ]
  },
  {
   "cell_type": "markdown",
   "metadata": {},
   "source": [
    "# 처리 스크립트 검토"
   ]
  },
  {
   "cell_type": "code",
   "execution_count": 7,
   "metadata": {
    "scrolled": true
   },
   "outputs": [
    {
     "name": "stdout",
     "output_type": "stream",
     "text": [
      "\u001B[34mimport\u001B[39;49;00m \u001B[04m\u001B[36msubprocess\u001B[39;49;00m\u001B[37m\u001B[39;49;00m\n",
      "\u001B[34mimport\u001B[39;49;00m \u001B[04m\u001B[36msys\u001B[39;49;00m\u001B[37m\u001B[39;49;00m\n",
      "\u001B[34mimport\u001B[39;49;00m \u001B[04m\u001B[36mjson\u001B[39;49;00m\u001B[37m\u001B[39;49;00m\n",
      "\u001B[34mimport\u001B[39;49;00m \u001B[04m\u001B[36margparse\u001B[39;49;00m\u001B[37m\u001B[39;49;00m\n",
      "\u001B[37m\u001B[39;49;00m\n",
      "subprocess.check_call([sys.executable, \u001B[33m\"\u001B[39;49;00m\u001B[33m-m\u001B[39;49;00m\u001B[33m\"\u001B[39;49;00m, \u001B[33m\"\u001B[39;49;00m\u001B[33mpip\u001B[39;49;00m\u001B[33m\"\u001B[39;49;00m, \u001B[33m\"\u001B[39;49;00m\u001B[33minstall\u001B[39;49;00m\u001B[33m\"\u001B[39;49;00m, \u001B[33m\"\u001B[39;49;00m\u001B[33mtransformers==4.26.1\u001B[39;49;00m\u001B[33m\"\u001B[39;49;00m, \u001B[33m\"\u001B[39;49;00m\u001B[33mdatasets==2.9.0\u001B[39;49;00m\u001B[33m\"\u001B[39;49;00m, \u001B[33m\"\u001B[39;49;00m\u001B[33mtorch==1.13.1\u001B[39;49;00m\u001B[33m\"\u001B[39;49;00m])\u001B[37m\u001B[39;49;00m\n",
      "\u001B[37m\u001B[39;49;00m\n",
      "\u001B[34mfrom\u001B[39;49;00m \u001B[04m\u001B[36mtransformers\u001B[39;49;00m \u001B[34mimport\u001B[39;49;00m AutoTokenizer\u001B[37m\u001B[39;49;00m\n",
      "\u001B[34mfrom\u001B[39;49;00m \u001B[04m\u001B[36mdatasets\u001B[39;49;00m \u001B[34mimport\u001B[39;49;00m load_dataset, DatasetDict\u001B[37m\u001B[39;49;00m\n",
      "\u001B[34mimport\u001B[39;49;00m \u001B[04m\u001B[36mos\u001B[39;49;00m\u001B[37m\u001B[39;49;00m\n",
      "\u001B[34mimport\u001B[39;49;00m \u001B[04m\u001B[36mtime\u001B[39;49;00m\u001B[37m\u001B[39;49;00m\n",
      "\u001B[37m\u001B[39;49;00m\n",
      "\u001B[37m\u001B[39;49;00m\n",
      "\u001B[34mdef\u001B[39;49;00m \u001B[32mtransform_dataset\u001B[39;49;00m(input_data,\u001B[37m\u001B[39;49;00m\n",
      "                      output_data,\u001B[37m\u001B[39;49;00m\n",
      "                      huggingface_model_name,\u001B[37m\u001B[39;49;00m\n",
      "                      train_split_percentage,\u001B[37m\u001B[39;49;00m\n",
      "                      test_split_percentage,\u001B[37m\u001B[39;49;00m\n",
      "                      validation_split_percentage,\u001B[37m\u001B[39;49;00m\n",
      "                      ):\u001B[37m\u001B[39;49;00m\n",
      "\u001B[37m\u001B[39;49;00m\n",
      "    \u001B[37m# load in the original dataset\u001B[39;49;00m\u001B[37m\u001B[39;49;00m\n",
      "    dataset = load_dataset(input_data)\u001B[37m\u001B[39;49;00m\n",
      "    \u001B[36mprint\u001B[39;49;00m(\u001B[33mf\u001B[39;49;00m\u001B[33m'\u001B[39;49;00m\u001B[33mDataset loaded from path: \u001B[39;49;00m\u001B[33m{\u001B[39;49;00minput_data\u001B[33m}\u001B[39;49;00m\u001B[33m\\n\u001B[39;49;00m\u001B[33m{\u001B[39;49;00mdataset\u001B[33m}\u001B[39;49;00m\u001B[33m'\u001B[39;49;00m)\u001B[37m\u001B[39;49;00m\n",
      "    \u001B[37m\u001B[39;49;00m\n",
      "    \u001B[37m# Load the tokenizer\u001B[39;49;00m\u001B[37m\u001B[39;49;00m\n",
      "    \u001B[36mprint\u001B[39;49;00m(\u001B[33mf\u001B[39;49;00m\u001B[33m'\u001B[39;49;00m\u001B[33mLoading the tokenizer for the model \u001B[39;49;00m\u001B[33m{\u001B[39;49;00mhuggingface_model_name\u001B[33m}\u001B[39;49;00m\u001B[33m'\u001B[39;49;00m)\u001B[37m\u001B[39;49;00m\n",
      "    tokenizer = AutoTokenizer.from_pretrained(huggingface_model_name)\u001B[37m\u001B[39;49;00m\n",
      "    \u001B[37m\u001B[39;49;00m\n",
      "    \u001B[37m# make train test validation split\u001B[39;49;00m\u001B[37m\u001B[39;49;00m\n",
      "    train_testvalid = dataset[\u001B[33m'\u001B[39;49;00m\u001B[33mtrain\u001B[39;49;00m\u001B[33m'\u001B[39;49;00m].train_test_split(\u001B[34m1\u001B[39;49;00m - train_split_percentage, seed=\u001B[34m1234\u001B[39;49;00m)\u001B[37m\u001B[39;49;00m\n",
      "    test_valid = train_testvalid[\u001B[33m'\u001B[39;49;00m\u001B[33mtest\u001B[39;49;00m\u001B[33m'\u001B[39;49;00m].train_test_split(test_split_percentage / (validation_split_percentage + test_split_percentage), seed=\u001B[34m1234\u001B[39;49;00m)\u001B[37m\u001B[39;49;00m\n",
      "    train_test_valid_dataset = DatasetDict(\u001B[37m\u001B[39;49;00m\n",
      "        {\u001B[37m\u001B[39;49;00m\n",
      "            \u001B[33m'\u001B[39;49;00m\u001B[33mtrain\u001B[39;49;00m\u001B[33m'\u001B[39;49;00m: train_testvalid[\u001B[33m'\u001B[39;49;00m\u001B[33mtrain\u001B[39;49;00m\u001B[33m'\u001B[39;49;00m],\u001B[37m\u001B[39;49;00m\n",
      "            \u001B[33m'\u001B[39;49;00m\u001B[33mtest\u001B[39;49;00m\u001B[33m'\u001B[39;49;00m: test_valid[\u001B[33m'\u001B[39;49;00m\u001B[33mtest\u001B[39;49;00m\u001B[33m'\u001B[39;49;00m],\u001B[37m\u001B[39;49;00m\n",
      "            \u001B[33m'\u001B[39;49;00m\u001B[33mvalidation\u001B[39;49;00m\u001B[33m'\u001B[39;49;00m: test_valid[\u001B[33m'\u001B[39;49;00m\u001B[33mtrain\u001B[39;49;00m\u001B[33m'\u001B[39;49;00m]\u001B[37m\u001B[39;49;00m\n",
      "        }\u001B[37m\u001B[39;49;00m\n",
      "    )\u001B[37m\u001B[39;49;00m\n",
      "    \u001B[36mprint\u001B[39;49;00m(\u001B[33mf\u001B[39;49;00m\u001B[33m'\u001B[39;49;00m\u001B[33mDataset after splitting:\u001B[39;49;00m\u001B[33m\\n\u001B[39;49;00m\u001B[33m{\u001B[39;49;00mtrain_test_valid_dataset\u001B[33m}\u001B[39;49;00m\u001B[33m'\u001B[39;49;00m)\u001B[37m\u001B[39;49;00m\n",
      "    \u001B[37m\u001B[39;49;00m\n",
      "    \u001B[37m# create a tokenize function\u001B[39;49;00m\u001B[37m\u001B[39;49;00m\n",
      "    \u001B[34mdef\u001B[39;49;00m \u001B[32mtokenize_function\u001B[39;49;00m(example):\u001B[37m\u001B[39;49;00m\n",
      "        prompt = \u001B[33m'\u001B[39;49;00m\u001B[33mSummarize the following conversation.\u001B[39;49;00m\u001B[33m\\n\u001B[39;49;00m\u001B[33m\\n\u001B[39;49;00m\u001B[33m'\u001B[39;49;00m\u001B[37m\u001B[39;49;00m\n",
      "        end_prompt = \u001B[33m'\u001B[39;49;00m\u001B[33m\\n\u001B[39;49;00m\u001B[33m\\n\u001B[39;49;00m\u001B[33mSummary: \u001B[39;49;00m\u001B[33m'\u001B[39;49;00m\u001B[37m\u001B[39;49;00m\n",
      "        inp = [prompt + i + end_prompt \u001B[34mfor\u001B[39;49;00m i \u001B[35min\u001B[39;49;00m example[\u001B[33m\"\u001B[39;49;00m\u001B[33mdialogue\u001B[39;49;00m\u001B[33m\"\u001B[39;49;00m]]\u001B[37m\u001B[39;49;00m\n",
      "        example[\u001B[33m'\u001B[39;49;00m\u001B[33minput_ids\u001B[39;49;00m\u001B[33m'\u001B[39;49;00m] = tokenizer(inp, padding=\u001B[33m\"\u001B[39;49;00m\u001B[33mmax_length\u001B[39;49;00m\u001B[33m\"\u001B[39;49;00m, truncation=\u001B[34mTrue\u001B[39;49;00m, return_tensors=\u001B[33m\"\u001B[39;49;00m\u001B[33mpt\u001B[39;49;00m\u001B[33m\"\u001B[39;49;00m).input_ids\u001B[37m\u001B[39;49;00m\n",
      "        example[\u001B[33m'\u001B[39;49;00m\u001B[33mlabels\u001B[39;49;00m\u001B[33m'\u001B[39;49;00m] = tokenizer(example[\u001B[33m\"\u001B[39;49;00m\u001B[33msummary\u001B[39;49;00m\u001B[33m\"\u001B[39;49;00m], padding=\u001B[33m\"\u001B[39;49;00m\u001B[33mmax_length\u001B[39;49;00m\u001B[33m\"\u001B[39;49;00m, truncation=\u001B[34mTrue\u001B[39;49;00m, return_tensors=\u001B[33m\"\u001B[39;49;00m\u001B[33mpt\u001B[39;49;00m\u001B[33m\"\u001B[39;49;00m).input_ids\u001B[37m\u001B[39;49;00m\n",
      "        \u001B[34mreturn\u001B[39;49;00m example\u001B[37m\u001B[39;49;00m\n",
      "    \u001B[37m\u001B[39;49;00m\n",
      "    \u001B[37m# tokenize the dataset\u001B[39;49;00m\u001B[37m\u001B[39;49;00m\n",
      "    \u001B[36mprint\u001B[39;49;00m(\u001B[33mf\u001B[39;49;00m\u001B[33m'\u001B[39;49;00m\u001B[33mTokenizing the dataset...\u001B[39;49;00m\u001B[33m'\u001B[39;49;00m)\u001B[37m\u001B[39;49;00m\n",
      "    tokenized_datasets = train_test_valid_dataset.map(tokenize_function, batched=\u001B[34mTrue\u001B[39;49;00m)\u001B[37m\u001B[39;49;00m\n",
      "    tokenized_datasets = tokenized_datasets.remove_columns([\u001B[33m'\u001B[39;49;00m\u001B[33mid\u001B[39;49;00m\u001B[33m'\u001B[39;49;00m, \u001B[33m'\u001B[39;49;00m\u001B[33mtopic\u001B[39;49;00m\u001B[33m'\u001B[39;49;00m, \u001B[33m'\u001B[39;49;00m\u001B[33mdialogue\u001B[39;49;00m\u001B[33m'\u001B[39;49;00m, \u001B[33m'\u001B[39;49;00m\u001B[33msummary\u001B[39;49;00m\u001B[33m'\u001B[39;49;00m])\u001B[37m\u001B[39;49;00m\n",
      "    \u001B[36mprint\u001B[39;49;00m(\u001B[33mf\u001B[39;49;00m\u001B[33m'\u001B[39;49;00m\u001B[33mTokenizing complete!\u001B[39;49;00m\u001B[33m'\u001B[39;49;00m)\u001B[37m\u001B[39;49;00m\n",
      "    \u001B[37m\u001B[39;49;00m\n",
      "    \u001B[37m# create directory for drop\u001B[39;49;00m\u001B[37m\u001B[39;49;00m\n",
      "    os.makedirs(\u001B[33mf\u001B[39;49;00m\u001B[33m'\u001B[39;49;00m\u001B[33m{\u001B[39;49;00moutput_data\u001B[33m}\u001B[39;49;00m\u001B[33m/train/\u001B[39;49;00m\u001B[33m'\u001B[39;49;00m, exist_ok=\u001B[34mTrue\u001B[39;49;00m)\u001B[37m\u001B[39;49;00m\n",
      "    os.makedirs(\u001B[33mf\u001B[39;49;00m\u001B[33m'\u001B[39;49;00m\u001B[33m{\u001B[39;49;00moutput_data\u001B[33m}\u001B[39;49;00m\u001B[33m/test/\u001B[39;49;00m\u001B[33m'\u001B[39;49;00m, exist_ok=\u001B[34mTrue\u001B[39;49;00m)\u001B[37m\u001B[39;49;00m\n",
      "    os.makedirs(\u001B[33mf\u001B[39;49;00m\u001B[33m'\u001B[39;49;00m\u001B[33m{\u001B[39;49;00moutput_data\u001B[33m}\u001B[39;49;00m\u001B[33m/validation/\u001B[39;49;00m\u001B[33m'\u001B[39;49;00m, exist_ok=\u001B[34mTrue\u001B[39;49;00m)\u001B[37m\u001B[39;49;00m\n",
      "    file_root = \u001B[36mstr\u001B[39;49;00m(\u001B[36mint\u001B[39;49;00m(time.time()*\u001B[34m1000\u001B[39;49;00m))\u001B[37m\u001B[39;49;00m\n",
      "    \u001B[37m\u001B[39;49;00m\n",
      "    \u001B[37m# save the dataset to disk\u001B[39;49;00m\u001B[37m\u001B[39;49;00m\n",
      "    \u001B[36mprint\u001B[39;49;00m(\u001B[33mf\u001B[39;49;00m\u001B[33m'\u001B[39;49;00m\u001B[33mWriting the dataset to \u001B[39;49;00m\u001B[33m{\u001B[39;49;00moutput_data\u001B[33m}\u001B[39;49;00m\u001B[33m'\u001B[39;49;00m)\u001B[37m\u001B[39;49;00m\n",
      "    tokenized_datasets[\u001B[33m'\u001B[39;49;00m\u001B[33mtrain\u001B[39;49;00m\u001B[33m'\u001B[39;49;00m].to_parquet(\u001B[33mf\u001B[39;49;00m\u001B[33m'\u001B[39;49;00m\u001B[33m./\u001B[39;49;00m\u001B[33m{\u001B[39;49;00moutput_data\u001B[33m}\u001B[39;49;00m\u001B[33m/train/\u001B[39;49;00m\u001B[33m{\u001B[39;49;00mfile_root\u001B[33m}\u001B[39;49;00m\u001B[33m.parquet\u001B[39;49;00m\u001B[33m'\u001B[39;49;00m)\u001B[37m\u001B[39;49;00m\n",
      "    tokenized_datasets[\u001B[33m'\u001B[39;49;00m\u001B[33mtest\u001B[39;49;00m\u001B[33m'\u001B[39;49;00m].to_parquet(\u001B[33mf\u001B[39;49;00m\u001B[33m'\u001B[39;49;00m\u001B[33m./\u001B[39;49;00m\u001B[33m{\u001B[39;49;00moutput_data\u001B[33m}\u001B[39;49;00m\u001B[33m/test/\u001B[39;49;00m\u001B[33m{\u001B[39;49;00mfile_root\u001B[33m}\u001B[39;49;00m\u001B[33m.parquet\u001B[39;49;00m\u001B[33m'\u001B[39;49;00m)\u001B[37m\u001B[39;49;00m\n",
      "    tokenized_datasets[\u001B[33m'\u001B[39;49;00m\u001B[33mvalidation\u001B[39;49;00m\u001B[33m'\u001B[39;49;00m].to_parquet(\u001B[33mf\u001B[39;49;00m\u001B[33m'\u001B[39;49;00m\u001B[33m./\u001B[39;49;00m\u001B[33m{\u001B[39;49;00moutput_data\u001B[33m}\u001B[39;49;00m\u001B[33m/validation/\u001B[39;49;00m\u001B[33m{\u001B[39;49;00mfile_root\u001B[33m}\u001B[39;49;00m\u001B[33m.parquet\u001B[39;49;00m\u001B[33m'\u001B[39;49;00m)\u001B[37m\u001B[39;49;00m\n",
      "    \u001B[36mprint\u001B[39;49;00m(\u001B[33m'\u001B[39;49;00m\u001B[33mPreprocessing complete!\u001B[39;49;00m\u001B[33m'\u001B[39;49;00m)\u001B[37m\u001B[39;49;00m\n",
      "\u001B[37m\u001B[39;49;00m\n",
      "    \u001B[37m\u001B[39;49;00m\n",
      "\u001B[34mdef\u001B[39;49;00m \u001B[32mprocess\u001B[39;49;00m(args):\u001B[37m\u001B[39;49;00m\n",
      "\u001B[37m\u001B[39;49;00m\n",
      "    \u001B[36mprint\u001B[39;49;00m(\u001B[33mf\u001B[39;49;00m\u001B[33m\"\u001B[39;49;00m\u001B[33mListing contents of \u001B[39;49;00m\u001B[33m{\u001B[39;49;00margs.input_data\u001B[33m}\u001B[39;49;00m\u001B[33m\"\u001B[39;49;00m)\u001B[37m\u001B[39;49;00m\n",
      "    dirs_input = os.listdir(args.input_data)\u001B[37m\u001B[39;49;00m\n",
      "    \u001B[34mfor\u001B[39;49;00m file \u001B[35min\u001B[39;49;00m dirs_input:\u001B[37m\u001B[39;49;00m\n",
      "        \u001B[36mprint\u001B[39;49;00m(file)\u001B[37m\u001B[39;49;00m\n",
      "\u001B[37m\u001B[39;49;00m\n",
      "    transform_dataset(input_data=args.input_data, \u001B[37m#'./data-summarization/',\u001B[39;49;00m\u001B[37m\u001B[39;49;00m\n",
      "                      output_data=args.output_data, \u001B[37m#'./data-summarization-processed/',\u001B[39;49;00m\u001B[37m\u001B[39;49;00m\n",
      "                      huggingface_model_name=args.model_checkpoint, \u001B[37m#model_checkpoint,\u001B[39;49;00m\u001B[37m\u001B[39;49;00m\n",
      "                      train_split_percentage=args.train_split_percentage, \u001B[37m#0.90\u001B[39;49;00m\u001B[37m\u001B[39;49;00m\n",
      "                      test_split_percentage=args.test_split_percentage, \u001B[37m#0.05\u001B[39;49;00m\u001B[37m\u001B[39;49;00m\n",
      "                      validation_split_percentage=args.validation_split_percentage, \u001B[37m#0.05\u001B[39;49;00m\u001B[37m\u001B[39;49;00m\n",
      "                     )\u001B[37m\u001B[39;49;00m\n",
      "\u001B[37m\u001B[39;49;00m\n",
      "    \u001B[36mprint\u001B[39;49;00m(\u001B[33mf\u001B[39;49;00m\u001B[33m\"\u001B[39;49;00m\u001B[33mListing contents of \u001B[39;49;00m\u001B[33m{\u001B[39;49;00margs.output_data\u001B[33m}\u001B[39;49;00m\u001B[33m\"\u001B[39;49;00m)\u001B[37m\u001B[39;49;00m\n",
      "    dirs_output = os.listdir(args.output_data)\u001B[37m\u001B[39;49;00m\n",
      "    \u001B[34mfor\u001B[39;49;00m file \u001B[35min\u001B[39;49;00m dirs_output:\u001B[37m\u001B[39;49;00m\n",
      "        \u001B[36mprint\u001B[39;49;00m(file)\u001B[37m\u001B[39;49;00m\n",
      "\u001B[37m\u001B[39;49;00m\n",
      "        \u001B[37m\u001B[39;49;00m\n",
      "\u001B[34mdef\u001B[39;49;00m \u001B[32mlist_arg\u001B[39;49;00m(raw_value):\u001B[37m\u001B[39;49;00m\n",
      "\u001B[37m    \u001B[39;49;00m\u001B[33m\"\"\"argparse type for a list of strings\"\"\"\u001B[39;49;00m\u001B[37m\u001B[39;49;00m\n",
      "    \u001B[34mreturn\u001B[39;49;00m \u001B[36mstr\u001B[39;49;00m(raw_value).split(\u001B[33m\"\u001B[39;49;00m\u001B[33m,\u001B[39;49;00m\u001B[33m\"\u001B[39;49;00m)\u001B[37m\u001B[39;49;00m\n",
      "        \u001B[37m\u001B[39;49;00m\n",
      "        \u001B[37m\u001B[39;49;00m\n",
      "\u001B[34mdef\u001B[39;49;00m \u001B[32mparse_args\u001B[39;49;00m():\u001B[37m\u001B[39;49;00m\n",
      "    \u001B[37m# Unlike SageMaker training jobs (which have `SM_HOSTS` and `SM_CURRENT_HOST` env vars), processing jobs to need to parse the resource config file directly\u001B[39;49;00m\u001B[37m\u001B[39;49;00m\n",
      "    resconfig = {}\u001B[37m\u001B[39;49;00m\n",
      "    \u001B[34mtry\u001B[39;49;00m:\u001B[37m\u001B[39;49;00m\n",
      "        \u001B[34mwith\u001B[39;49;00m \u001B[36mopen\u001B[39;49;00m(\u001B[33m\"\u001B[39;49;00m\u001B[33m/opt/ml/config/resourceconfig.json\u001B[39;49;00m\u001B[33m\"\u001B[39;49;00m, \u001B[33m\"\u001B[39;49;00m\u001B[33mr\u001B[39;49;00m\u001B[33m\"\u001B[39;49;00m) \u001B[34mas\u001B[39;49;00m cfgfile:\u001B[37m\u001B[39;49;00m\n",
      "            resconfig = json.load(cfgfile)\u001B[37m\u001B[39;49;00m\n",
      "    \u001B[34mexcept\u001B[39;49;00m \u001B[36mFileNotFoundError\u001B[39;49;00m:\u001B[37m\u001B[39;49;00m\n",
      "        \u001B[36mprint\u001B[39;49;00m(\u001B[33m\"\u001B[39;49;00m\u001B[33m/opt/ml/config/resourceconfig.json not found.  current_host is unknown.\u001B[39;49;00m\u001B[33m\"\u001B[39;49;00m)\u001B[37m\u001B[39;49;00m\n",
      "        \u001B[34mpass\u001B[39;49;00m  \u001B[37m# Ignore\u001B[39;49;00m\u001B[37m\u001B[39;49;00m\n",
      "\u001B[37m\u001B[39;49;00m\n",
      "    \u001B[37m# Local testing with CLI args\u001B[39;49;00m\u001B[37m\u001B[39;49;00m\n",
      "    parser = argparse.ArgumentParser(description=\u001B[33m\"\u001B[39;49;00m\u001B[33mProcess\u001B[39;49;00m\u001B[33m\"\u001B[39;49;00m)\u001B[37m\u001B[39;49;00m\n",
      "\u001B[37m\u001B[39;49;00m\n",
      "    parser.add_argument(\u001B[37m\u001B[39;49;00m\n",
      "        \u001B[33m\"\u001B[39;49;00m\u001B[33m--hosts\u001B[39;49;00m\u001B[33m\"\u001B[39;49;00m,\u001B[37m\u001B[39;49;00m\n",
      "        \u001B[36mtype\u001B[39;49;00m=list_arg,\u001B[37m\u001B[39;49;00m\n",
      "        default=resconfig.get(\u001B[33m\"\u001B[39;49;00m\u001B[33mhosts\u001B[39;49;00m\u001B[33m\"\u001B[39;49;00m, [\u001B[33m\"\u001B[39;49;00m\u001B[33munknown\u001B[39;49;00m\u001B[33m\"\u001B[39;49;00m]),\u001B[37m\u001B[39;49;00m\n",
      "        help=\u001B[33m\"\u001B[39;49;00m\u001B[33mComma-separated list of host names running the job\u001B[39;49;00m\u001B[33m\"\u001B[39;49;00m,\u001B[37m\u001B[39;49;00m\n",
      "    )\u001B[37m\u001B[39;49;00m\n",
      "    parser.add_argument(\u001B[37m\u001B[39;49;00m\n",
      "        \u001B[33m\"\u001B[39;49;00m\u001B[33m--current-host\u001B[39;49;00m\u001B[33m\"\u001B[39;49;00m,\u001B[37m\u001B[39;49;00m\n",
      "        \u001B[36mtype\u001B[39;49;00m=\u001B[36mstr\u001B[39;49;00m,\u001B[37m\u001B[39;49;00m\n",
      "        default=resconfig.get(\u001B[33m\"\u001B[39;49;00m\u001B[33mcurrent_host\u001B[39;49;00m\u001B[33m\"\u001B[39;49;00m, \u001B[33m\"\u001B[39;49;00m\u001B[33munknown\u001B[39;49;00m\u001B[33m\"\u001B[39;49;00m),\u001B[37m\u001B[39;49;00m\n",
      "        help=\u001B[33m\"\u001B[39;49;00m\u001B[33mName of this host running the job\u001B[39;49;00m\u001B[33m\"\u001B[39;49;00m,\u001B[37m\u001B[39;49;00m\n",
      "    )\u001B[37m\u001B[39;49;00m\n",
      "    parser.add_argument(\u001B[37m\u001B[39;49;00m\n",
      "        \u001B[33m\"\u001B[39;49;00m\u001B[33m--input-data\u001B[39;49;00m\u001B[33m\"\u001B[39;49;00m,\u001B[37m\u001B[39;49;00m\n",
      "        \u001B[36mtype\u001B[39;49;00m=\u001B[36mstr\u001B[39;49;00m,\u001B[37m\u001B[39;49;00m\n",
      "        default=\u001B[33m\"\u001B[39;49;00m\u001B[33m/opt/ml/processing/input/data\u001B[39;49;00m\u001B[33m\"\u001B[39;49;00m,\u001B[37m\u001B[39;49;00m\n",
      "    )\u001B[37m\u001B[39;49;00m\n",
      "    parser.add_argument(\u001B[37m\u001B[39;49;00m\n",
      "        \u001B[33m\"\u001B[39;49;00m\u001B[33m--output-data\u001B[39;49;00m\u001B[33m\"\u001B[39;49;00m,\u001B[37m\u001B[39;49;00m\n",
      "        \u001B[36mtype\u001B[39;49;00m=\u001B[36mstr\u001B[39;49;00m,\u001B[37m\u001B[39;49;00m\n",
      "        default=\u001B[33m\"\u001B[39;49;00m\u001B[33m/opt/ml/processing/output/data\u001B[39;49;00m\u001B[33m\"\u001B[39;49;00m,\u001B[37m\u001B[39;49;00m\n",
      "    )\u001B[37m\u001B[39;49;00m\n",
      "    parser.add_argument(\u001B[37m\u001B[39;49;00m\n",
      "        \u001B[33m\"\u001B[39;49;00m\u001B[33m--train-split-percentage\u001B[39;49;00m\u001B[33m\"\u001B[39;49;00m,\u001B[37m\u001B[39;49;00m\n",
      "        \u001B[36mtype\u001B[39;49;00m=\u001B[36mfloat\u001B[39;49;00m,\u001B[37m\u001B[39;49;00m\n",
      "        default=\u001B[34m0.85\u001B[39;49;00m,\u001B[37m\u001B[39;49;00m\n",
      "    )\u001B[37m\u001B[39;49;00m\n",
      "    parser.add_argument(\u001B[37m\u001B[39;49;00m\n",
      "        \u001B[33m\"\u001B[39;49;00m\u001B[33m--validation-split-percentage\u001B[39;49;00m\u001B[33m\"\u001B[39;49;00m,\u001B[37m\u001B[39;49;00m\n",
      "        \u001B[36mtype\u001B[39;49;00m=\u001B[36mfloat\u001B[39;49;00m,\u001B[37m\u001B[39;49;00m\n",
      "        default=\u001B[34m0.10\u001B[39;49;00m,\u001B[37m\u001B[39;49;00m\n",
      "    )\u001B[37m\u001B[39;49;00m\n",
      "    parser.add_argument(\u001B[37m\u001B[39;49;00m\n",
      "        \u001B[33m\"\u001B[39;49;00m\u001B[33m--test-split-percentage\u001B[39;49;00m\u001B[33m\"\u001B[39;49;00m,\u001B[37m\u001B[39;49;00m\n",
      "        \u001B[36mtype\u001B[39;49;00m=\u001B[36mfloat\u001B[39;49;00m,\u001B[37m\u001B[39;49;00m\n",
      "        default=\u001B[34m0.05\u001B[39;49;00m,\u001B[37m\u001B[39;49;00m\n",
      "    )\u001B[37m\u001B[39;49;00m\n",
      "    parser.add_argument(\u001B[37m\u001B[39;49;00m\n",
      "        \u001B[33m\"\u001B[39;49;00m\u001B[33m--model-checkpoint\u001B[39;49;00m\u001B[33m\"\u001B[39;49;00m,\u001B[37m\u001B[39;49;00m\n",
      "        \u001B[36mtype\u001B[39;49;00m=\u001B[36mstr\u001B[39;49;00m,\u001B[37m\u001B[39;49;00m\n",
      "        default=\u001B[33m\"\u001B[39;49;00m\u001B[33mgoogle/flan-t5-base\u001B[39;49;00m\u001B[33m\"\u001B[39;49;00m\u001B[37m\u001B[39;49;00m\n",
      "    )\u001B[37m\u001B[39;49;00m\n",
      "    \u001B[37m# parser.add_argument(\u001B[39;49;00m\u001B[37m\u001B[39;49;00m\n",
      "    \u001B[37m#     \"--dataset-templates-name\",\u001B[39;49;00m\u001B[37m\u001B[39;49;00m\n",
      "    \u001B[37m#     type=str,\u001B[39;49;00m\u001B[37m\u001B[39;49;00m\n",
      "    \u001B[37m#     default=\"amazon_us_reviews/Wireless_v1_00\",\u001B[39;49;00m\u001B[37m\u001B[39;49;00m\n",
      "    \u001B[37m# )\u001B[39;49;00m\u001B[37m\u001B[39;49;00m\n",
      "    \u001B[37m# parser.add_argument(\u001B[39;49;00m\u001B[37m\u001B[39;49;00m\n",
      "    \u001B[37m#     \"--prompt-template-name\",\u001B[39;49;00m\u001B[37m\u001B[39;49;00m\n",
      "    \u001B[37m#     type=str,\u001B[39;49;00m\u001B[37m\u001B[39;49;00m\n",
      "    \u001B[37m#     default=\"Given the review body return a categorical rating\",\u001B[39;49;00m\u001B[37m\u001B[39;49;00m\n",
      "    \u001B[37m# )\u001B[39;49;00m\u001B[37m\u001B[39;49;00m\n",
      "    \u001B[37m\u001B[39;49;00m\n",
      "    \u001B[34mreturn\u001B[39;49;00m parser.parse_args()\u001B[37m\u001B[39;49;00m\n",
      "\u001B[37m\u001B[39;49;00m\n",
      "\u001B[37m\u001B[39;49;00m\n",
      "\u001B[34mif\u001B[39;49;00m \u001B[31m__name__\u001B[39;49;00m == \u001B[33m\"\u001B[39;49;00m\u001B[33m__main__\u001B[39;49;00m\u001B[33m\"\u001B[39;49;00m:\u001B[37m\u001B[39;49;00m\n",
      "    args = parse_args()\u001B[37m\u001B[39;49;00m\n",
      "    \u001B[36mprint\u001B[39;49;00m(\u001B[33m\"\u001B[39;49;00m\u001B[33mLoaded arguments:\u001B[39;49;00m\u001B[33m\"\u001B[39;49;00m)\u001B[37m\u001B[39;49;00m\n",
      "    \u001B[36mprint\u001B[39;49;00m(args)\u001B[37m\u001B[39;49;00m\n",
      "\u001B[37m\u001B[39;49;00m\n",
      "    \u001B[36mprint\u001B[39;49;00m(\u001B[33m\"\u001B[39;49;00m\u001B[33mEnvironment variables:\u001B[39;49;00m\u001B[33m\"\u001B[39;49;00m)\u001B[37m\u001B[39;49;00m\n",
      "    \u001B[36mprint\u001B[39;49;00m(os.environ)\u001B[37m\u001B[39;49;00m\n",
      "\u001B[37m\u001B[39;49;00m\n",
      "    process(args)\u001B[37m\u001B[39;49;00m\n"
     ]
    }
   ],
   "source": [
    "!pygmentize preprocess.py"
   ]
  },
  {
   "cell_type": "markdown",
   "metadata": {},
   "source": [
    "이 스크립트를 처리 작업으로 실행합니다. 또한 아마존 S3 버킷의 `source`인자와 `/opt/ml/processing/input`(Docker 컨테이너 내부)에서 데이터를 읽어오는 `destination`이 포함된 하나의 `ProcessingInput`을 지정해야 합니다. 처리 컨테이너 내부의 모든 로컬 경로는 `/opt/ml/processing/`로 시작해야 합니다.\n",
    "\n",
    "또한 `run()` 메서드에 `ProcessingOutput`을 지정합니다. 여기서 `source`는 스크립트가 출력 데이터를 기록하는 경로입니다. 출력의 경우, `destination`은 기본적으로 아마존 세이지메이커 파이썬 SDK가 생성하는 S3 버킷으로 설정되며, 형식은 `s3://sagemaker-<region>-<account_id>/<processing_job_name>/output/<output_name>/`입니다. 또한 `ProcessingOutput`의 `output_name` 값을 지정해 작업이 실행된 후에 이러한 출력 아티팩트를 더 쉽게 검색할 수 있습니다.\n",
    "\n",
    "`run()` 메서드의 arguments 매개변수는 `preprocess.py` 스크립트의 명령줄 인자입니다.\n",
    "\n",
    "데이터를 클러스터의 모든 작업자 노드에 걸쳐 변환을 분산시키기 위해 `ShardedByS3Key`를 사용해 데이터를 샤딩하는 것에 유의하세요."
   ]
  },
  {
   "cell_type": "code",
   "execution_count": 8,
   "metadata": {
    "scrolled": true
   },
   "outputs": [],
   "source": [
    "processing_instance_type = \"ml.c5.2xlarge\"\n",
    "processing_instance_count = 2\n",
    "train_split_percentage = 0.9\n",
    "validation_split_percentage = 0.05\n",
    "test_split_percentage = 0.05"
   ]
  },
  {
   "cell_type": "code",
   "execution_count": 9,
   "metadata": {
    "scrolled": true
   },
   "outputs": [
    {
     "name": "stdout",
     "output_type": "stream",
     "text": [
      "sagemaker.config INFO - Not applying SDK defaults from location: /etc/xdg/sagemaker/config.yaml\n",
      "sagemaker.config INFO - Not applying SDK defaults from location: /root/.config/sagemaker/config.yaml\n"
     ]
    }
   ],
   "source": [
    "from sagemaker.sklearn.processing import SKLearnProcessor\n",
    "\n",
    "processor = SKLearnProcessor(\n",
    "    framework_version=\"0.23-1\",\n",
    "    role=role,\n",
    "    instance_type=processing_instance_type,\n",
    "    instance_count=processing_instance_count,\n",
    "    env={\"AWS_DEFAULT_REGION\": region},\n",
    "    max_runtime_in_seconds=7200,\n",
    ")"
   ]
  },
  {
   "cell_type": "code",
   "execution_count": 10,
   "metadata": {
    "tags": []
   },
   "outputs": [],
   "source": [
    "input_s3 = f's3://{bucket}/data-summarization/'"
   ]
  },
  {
   "cell_type": "code",
   "execution_count": 11,
   "metadata": {},
   "outputs": [
    {
     "name": "stdout",
     "output_type": "stream",
     "text": [
      "2023-10-25 19:28:06    6544107 dialogsum-1.csv\n",
      "2023-10-25 19:28:06    6572423 dialogsum-2.csv\n"
     ]
    }
   ],
   "source": [
    "!aws s3 ls {input_s3}"
   ]
  },
  {
   "cell_type": "code",
   "execution_count": 12,
   "metadata": {},
   "outputs": [
    {
     "name": "stderr",
     "output_type": "stream",
     "text": [
      "INFO:sagemaker:Creating processing-job with name sagemaker-scikit-learn-2023-10-25-19-28-08-587\n"
     ]
    }
   ],
   "source": [
    "from sagemaker.processing import ProcessingInput, ProcessingOutput\n",
    "\n",
    "processor.run(\n",
    "    code=\"preprocess.py\",\n",
    "    inputs=[\n",
    "        ProcessingInput(\n",
    "            input_name=\"raw-input-data\",\n",
    "            source=raw_input_data_s3_uri,\n",
    "            destination=\"/opt/ml/processing/input/data/\",\n",
    "            s3_data_distribution_type=\"ShardedByS3Key\",\n",
    "        )\n",
    "    ],\n",
    "    outputs=[\n",
    "        ProcessingOutput(\n",
    "            output_name=\"train\", \n",
    "            s3_upload_mode=\"EndOfJob\", \n",
    "            source=\"/opt/ml/processing/output/data/train\"\n",
    "        ),\n",
    "        ProcessingOutput(\n",
    "            output_name=\"validation\",\n",
    "            s3_upload_mode=\"EndOfJob\",\n",
    "            source=\"/opt/ml/processing/output/data/validation\",\n",
    "        ),\n",
    "        ProcessingOutput(\n",
    "            output_name=\"test\", \n",
    "            s3_upload_mode=\"EndOfJob\", \n",
    "            source=\"/opt/ml/processing/output/data/test\"\n",
    "        ),\n",
    "    ],\n",
    "    arguments=[\n",
    "        \"--train-split-percentage\",\n",
    "        str(train_split_percentage),\n",
    "        \"--validation-split-percentage\",\n",
    "        str(validation_split_percentage),\n",
    "        \"--test-split-percentage\",\n",
    "        str(test_split_percentage),\n",
    "        \"--model-checkpoint\",\n",
    "        str(model_checkpoint),\n",
    "    ],\n",
    "    logs=True,\n",
    "    wait=False,\n",
    ")"
   ]
  },
  {
   "cell_type": "code",
   "execution_count": 13,
   "metadata": {
    "scrolled": true
   },
   "outputs": [
    {
     "name": "stdout",
     "output_type": "stream",
     "text": [
      "sagemaker-scikit-learn-2023-10-25-19-28-08-587\n"
     ]
    }
   ],
   "source": [
    "scikit_processing_job_name = processor.jobs[-1].describe()[\"ProcessingJobName\"]\n",
    "print(scikit_processing_job_name)"
   ]
  },
  {
   "cell_type": "code",
   "execution_count": 14,
   "metadata": {
    "scrolled": true
   },
   "outputs": [
    {
     "name": "stderr",
     "output_type": "stream",
     "text": [
      "/tmp/ipykernel_451/1926661146.py:1: DeprecationWarning: Importing display from IPython.core.display is deprecated since IPython 7.14, please import from IPython display\n",
      "  from IPython.core.display import display, HTML\n"
     ]
    },
    {
     "data": {
      "text/html": [
       "<b>Review <a target=\"blank\" href=\"https://console.aws.amazon.com/sagemaker/home?region=us-west-2#/processing-jobs/sagemaker-scikit-learn-2023-10-25-19-28-08-587\">Processing Job</a></b>"
      ],
      "text/plain": [
       "<IPython.core.display.HTML object>"
      ]
     },
     "metadata": {},
     "output_type": "display_data"
    }
   ],
   "source": [
    "from IPython.core.display import display, HTML\n",
    "\n",
    "display(\n",
    "    HTML(\n",
    "        '<b>Review <a target=\"blank\" href=\"https://console.aws.amazon.com/sagemaker/home?region={}#/processing-jobs/{}\">Processing Job</a></b>'.format(\n",
    "            region, scikit_processing_job_name\n",
    "        )\n",
    "    )\n",
    ")"
   ]
  },
  {
   "cell_type": "code",
   "execution_count": 15,
   "metadata": {
    "scrolled": true
   },
   "outputs": [
    {
     "name": "stderr",
     "output_type": "stream",
     "text": [
      "/tmp/ipykernel_451/267036670.py:1: DeprecationWarning: Importing display from IPython.core.display is deprecated since IPython 7.14, please import from IPython display\n",
      "  from IPython.core.display import display, HTML\n"
     ]
    },
    {
     "data": {
      "text/html": [
       "<b>Review <a target=\"blank\" href=\"https://console.aws.amazon.com/cloudwatch/home?region=us-west-2#logStream:group=/aws/sagemaker/ProcessingJobs;prefix=sagemaker-scikit-learn-2023-10-25-19-28-08-587;streamFilter=typeLogStreamPrefix\">CloudWatch Logs</a> After About 5 Minutes</b>"
      ],
      "text/plain": [
       "<IPython.core.display.HTML object>"
      ]
     },
     "metadata": {},
     "output_type": "display_data"
    }
   ],
   "source": [
    "from IPython.core.display import display, HTML\n",
    "\n",
    "display(\n",
    "    HTML(\n",
    "        '<b>Review <a target=\"blank\" href=\"https://console.aws.amazon.com/cloudwatch/home?region={}#logStream:group=/aws/sagemaker/ProcessingJobs;prefix={};streamFilter=typeLogStreamPrefix\">CloudWatch Logs</a> After About 5 Minutes</b>'.format(\n",
    "            region, scikit_processing_job_name\n",
    "        )\n",
    "    )\n",
    ")"
   ]
  },
  {
   "cell_type": "code",
   "execution_count": 16,
   "metadata": {
    "scrolled": true
   },
   "outputs": [
    {
     "name": "stderr",
     "output_type": "stream",
     "text": [
      "/tmp/ipykernel_451/2163845711.py:1: DeprecationWarning: Importing display from IPython.core.display is deprecated since IPython 7.14, please import from IPython display\n",
      "  from IPython.core.display import display, HTML\n"
     ]
    },
    {
     "data": {
      "text/html": [
       "<b>Review <a target=\"blank\" href=\"https://s3.console.aws.amazon.com/s3/buckets/sagemaker-us-west-2-079002598131/sagemaker-scikit-learn-2023-10-25-19-28-08-587/?region=us-west-2&tab=overview\">S3 Output Data</a> After The Processing Job Has Completed</b>"
      ],
      "text/plain": [
       "<IPython.core.display.HTML object>"
      ]
     },
     "metadata": {},
     "output_type": "display_data"
    }
   ],
   "source": [
    "from IPython.core.display import display, HTML\n",
    "\n",
    "display(\n",
    "    HTML(\n",
    "        '<b>Review <a target=\"blank\" href=\"https://s3.console.aws.amazon.com/s3/buckets/{}/{}/?region={}&tab=overview\">S3 Output Data</a> After The Processing Job Has Completed</b>'.format(\n",
    "            bucket, scikit_processing_job_name, region\n",
    "        )\n",
    "    )\n",
    ")"
   ]
  },
  {
   "cell_type": "markdown",
   "metadata": {},
   "source": [
    "# 처리 작업 모니터링"
   ]
  },
  {
   "cell_type": "code",
   "execution_count": 17,
   "metadata": {
    "scrolled": true
   },
   "outputs": [
    {
     "name": "stdout",
     "output_type": "stream",
     "text": [
      "{'ProcessingInputs': [{'InputName': 'raw-input-data', 'AppManaged': False, 'S3Input': {'S3Uri': 's3://sagemaker-us-west-2-079002598131/data-summarization/', 'LocalPath': '/opt/ml/processing/input/data/', 'S3DataType': 'S3Prefix', 'S3InputMode': 'File', 'S3DataDistributionType': 'ShardedByS3Key', 'S3CompressionType': 'None'}}, {'InputName': 'code', 'AppManaged': False, 'S3Input': {'S3Uri': 's3://sagemaker-us-west-2-079002598131/sagemaker-scikit-learn-2023-10-25-19-28-08-587/input/code/preprocess.py', 'LocalPath': '/opt/ml/processing/input/code', 'S3DataType': 'S3Prefix', 'S3InputMode': 'File', 'S3DataDistributionType': 'FullyReplicated', 'S3CompressionType': 'None'}}], 'ProcessingOutputConfig': {'Outputs': [{'OutputName': 'train', 'S3Output': {'S3Uri': 's3://sagemaker-us-west-2-079002598131/sagemaker-scikit-learn-2023-10-25-19-28-08-587/output/train', 'LocalPath': '/opt/ml/processing/output/data/train', 'S3UploadMode': 'EndOfJob'}, 'AppManaged': False}, {'OutputName': 'validation', 'S3Output': {'S3Uri': 's3://sagemaker-us-west-2-079002598131/sagemaker-scikit-learn-2023-10-25-19-28-08-587/output/validation', 'LocalPath': '/opt/ml/processing/output/data/validation', 'S3UploadMode': 'EndOfJob'}, 'AppManaged': False}, {'OutputName': 'test', 'S3Output': {'S3Uri': 's3://sagemaker-us-west-2-079002598131/sagemaker-scikit-learn-2023-10-25-19-28-08-587/output/test', 'LocalPath': '/opt/ml/processing/output/data/test', 'S3UploadMode': 'EndOfJob'}, 'AppManaged': False}]}, 'ProcessingJobName': 'sagemaker-scikit-learn-2023-10-25-19-28-08-587', 'ProcessingResources': {'ClusterConfig': {'InstanceCount': 2, 'InstanceType': 'ml.c5.2xlarge', 'VolumeSizeInGB': 30}}, 'StoppingCondition': {'MaxRuntimeInSeconds': 7200}, 'AppSpecification': {'ImageUri': '246618743249.dkr.ecr.us-west-2.amazonaws.com/sagemaker-scikit-learn:0.23-1-cpu-py3', 'ContainerEntrypoint': ['python3', '/opt/ml/processing/input/code/preprocess.py'], 'ContainerArguments': ['--train-split-percentage', '0.9', '--validation-split-percentage', '0.05', '--test-split-percentage', '0.05', '--model-checkpoint', 'google/flan-t5-base']}, 'Environment': {'AWS_DEFAULT_REGION': 'us-west-2'}, 'RoleArn': 'arn:aws:iam::079002598131:role/service-role/AmazonSageMaker-ExecutionRole-20220804T150518', 'ProcessingJobArn': 'arn:aws:sagemaker:us-west-2:079002598131:processing-job/sagemaker-scikit-learn-2023-10-25-19-28-08-587', 'ProcessingJobStatus': 'InProgress', 'LastModifiedTime': datetime.datetime(2023, 10, 25, 19, 28, 9, 561000, tzinfo=tzlocal()), 'CreationTime': datetime.datetime(2023, 10, 25, 19, 28, 9, 87000, tzinfo=tzlocal()), 'ResponseMetadata': {'RequestId': '0454795c-8fb1-42d6-b756-cdb5d010e283', 'HTTPStatusCode': 200, 'HTTPHeaders': {'x-amzn-requestid': '0454795c-8fb1-42d6-b756-cdb5d010e283', 'content-type': 'application/x-amz-json-1.1', 'content-length': '2552', 'date': 'Wed, 25 Oct 2023 19:28:09 GMT'}, 'RetryAttempts': 0}}\n"
     ]
    }
   ],
   "source": [
    "running_processor = sagemaker.processing.ProcessingJob.from_processing_name(\n",
    "    processing_job_name=scikit_processing_job_name, sagemaker_session=sess\n",
    ")\n",
    "\n",
    "processing_job_description = running_processor.describe()\n",
    "\n",
    "print(processing_job_description)"
   ]
  },
  {
   "cell_type": "code",
   "execution_count": 18,
   "metadata": {
    "scrolled": true
   },
   "outputs": [
    {
     "name": "stdout",
     "output_type": "stream",
     "text": [
      "....................................................................................!"
     ]
    }
   ],
   "source": [
    "running_processor.wait(logs=False)"
   ]
  },
  {
   "cell_type": "markdown",
   "metadata": {},
   "source": [
    "# 위의 ^^ 처리 작업 ^^이 완료될 때까지 기다려 주세요."
   ]
  },
  {
   "cell_type": "markdown",
   "metadata": {},
   "source": [
    "# 처리된 출력 데이터 검사\n",
    "\n",
    "처리 작업이 성공적으로 완료됐는지 확인하기 위해 변환된 데이터 세트의 몇 행을 살펴봅니다."
   ]
  },
  {
   "cell_type": "code",
   "execution_count": 19,
   "metadata": {},
   "outputs": [
    {
     "name": "stdout",
     "output_type": "stream",
     "text": [
      "s3://sagemaker-us-west-2-079002598131/sagemaker-scikit-learn-2023-10-25-19-28-08-587/output/train\n",
      "s3://sagemaker-us-west-2-079002598131/sagemaker-scikit-learn-2023-10-25-19-28-08-587/output/validation\n",
      "s3://sagemaker-us-west-2-079002598131/sagemaker-scikit-learn-2023-10-25-19-28-08-587/output/test\n"
     ]
    }
   ],
   "source": [
    "processing_job_description = running_processor.describe()\n",
    "\n",
    "output_config = processing_job_description[\"ProcessingOutputConfig\"]\n",
    "for output in output_config[\"Outputs\"]:\n",
    "    if output[\"OutputName\"] == \"train\":\n",
    "        processed_train_data_s3_uri = output[\"S3Output\"][\"S3Uri\"]\n",
    "    if output[\"OutputName\"] == \"validation\":\n",
    "        processed_validation_data_s3_uri = output[\"S3Output\"][\"S3Uri\"]\n",
    "    if output[\"OutputName\"] == \"test\":\n",
    "        processed_test_data_s3_uri = output[\"S3Output\"][\"S3Uri\"]\n",
    "\n",
    "print(processed_train_data_s3_uri)\n",
    "print(processed_validation_data_s3_uri)\n",
    "print(processed_test_data_s3_uri)"
   ]
  },
  {
   "cell_type": "code",
   "execution_count": 20,
   "metadata": {},
   "outputs": [
    {
     "name": "stdout",
     "output_type": "stream",
     "text": [
      "2023-10-25 19:35:07    2540571 1698262500203.parquet\n",
      "2023-10-25 19:35:07    2545157 1698262503103.parquet\n"
     ]
    }
   ],
   "source": [
    "!aws s3 ls $processed_train_data_s3_uri/"
   ]
  },
  {
   "cell_type": "code",
   "execution_count": 21,
   "metadata": {},
   "outputs": [
    {
     "name": "stdout",
     "output_type": "stream",
     "text": [
      "2023-10-25 19:35:07     150701 1698262500203.parquet\n",
      "2023-10-25 19:35:07     150220 1698262503103.parquet\n"
     ]
    }
   ],
   "source": [
    "!aws s3 ls $processed_validation_data_s3_uri/"
   ]
  },
  {
   "cell_type": "code",
   "execution_count": 22,
   "metadata": {},
   "outputs": [
    {
     "name": "stdout",
     "output_type": "stream",
     "text": [
      "2023-10-25 19:35:07     157115 1698262500203.parquet\n",
      "2023-10-25 19:35:07     153865 1698262503103.parquet\n"
     ]
    }
   ],
   "source": [
    "!aws s3 ls $processed_test_data_s3_uri/"
   ]
  },
  {
   "cell_type": "markdown",
   "metadata": {},
   "source": [
    "# 다음 노트북으로 변수 전달하기"
   ]
  },
  {
   "cell_type": "code",
   "execution_count": 23,
   "metadata": {
    "scrolled": true
   },
   "outputs": [
    {
     "name": "stdout",
     "output_type": "stream",
     "text": [
      "Stored 'raw_input_data_s3_uri' (str)\n"
     ]
    }
   ],
   "source": [
    "%store raw_input_data_s3_uri"
   ]
  },
  {
   "cell_type": "code",
   "execution_count": 24,
   "metadata": {
    "scrolled": true
   },
   "outputs": [
    {
     "name": "stdout",
     "output_type": "stream",
     "text": [
      "Stored 'train_split_percentage' (float)\n"
     ]
    }
   ],
   "source": [
    "%store train_split_percentage"
   ]
  },
  {
   "cell_type": "code",
   "execution_count": 25,
   "metadata": {
    "scrolled": true
   },
   "outputs": [
    {
     "name": "stdout",
     "output_type": "stream",
     "text": [
      "Stored 'validation_split_percentage' (float)\n"
     ]
    }
   ],
   "source": [
    "%store validation_split_percentage"
   ]
  },
  {
   "cell_type": "code",
   "execution_count": 26,
   "metadata": {
    "scrolled": true
   },
   "outputs": [
    {
     "name": "stdout",
     "output_type": "stream",
     "text": [
      "Stored 'test_split_percentage' (float)\n"
     ]
    }
   ],
   "source": [
    "%store test_split_percentage"
   ]
  },
  {
   "cell_type": "code",
   "execution_count": 27,
   "metadata": {
    "scrolled": true
   },
   "outputs": [],
   "source": [
    "# %store balance_dataset"
   ]
  },
  {
   "cell_type": "code",
   "execution_count": 28,
   "metadata": {
    "scrolled": true
   },
   "outputs": [
    {
     "name": "stdout",
     "output_type": "stream",
     "text": [
      "Stored 'processed_train_data_s3_uri' (str)\n"
     ]
    }
   ],
   "source": [
    "%store processed_train_data_s3_uri"
   ]
  },
  {
   "cell_type": "code",
   "execution_count": 29,
   "metadata": {
    "scrolled": true
   },
   "outputs": [
    {
     "name": "stdout",
     "output_type": "stream",
     "text": [
      "Stored 'processed_validation_data_s3_uri' (str)\n"
     ]
    }
   ],
   "source": [
    "%store processed_validation_data_s3_uri"
   ]
  },
  {
   "cell_type": "code",
   "execution_count": 30,
   "metadata": {
    "scrolled": true
   },
   "outputs": [
    {
     "name": "stdout",
     "output_type": "stream",
     "text": [
      "Stored 'processed_test_data_s3_uri' (str)\n"
     ]
    }
   ],
   "source": [
    "%store processed_test_data_s3_uri"
   ]
  },
  {
   "cell_type": "code",
   "execution_count": 31,
   "metadata": {},
   "outputs": [
    {
     "name": "stdout",
     "output_type": "stream",
     "text": [
      "Stored variables and their in-db values:\n",
      "model_checkpoint                             -> 'google/flan-t5-base'\n",
      "processed_test_data_s3_uri                   -> 's3://sagemaker-us-west-2-079002598131/sagemaker-s\n",
      "processed_train_data_s3_uri                  -> 's3://sagemaker-us-west-2-079002598131/sagemaker-s\n",
      "processed_validation_data_s3_uri             -> 's3://sagemaker-us-west-2-079002598131/sagemaker-s\n",
      "raw_input_data_s3_uri                        -> 's3://sagemaker-us-west-2-079002598131/data-summar\n",
      "supervised_fine_tuned_model_path             -> './flan-dialogue-summary-checkpoint'\n",
      "test_split_percentage                        -> 0.05\n",
      "train_split_percentage                       -> 0.9\n",
      "validation_split_percentage                  -> 0.05\n"
     ]
    }
   ],
   "source": [
    "%store"
   ]
  }
 ],
 "metadata": {
  "availableInstances": [
   {
    "_defaultOrder": 0,
    "_isFastLaunch": true,
    "category": "General purpose",
    "gpuNum": 0,
    "hideHardwareSpecs": false,
    "memoryGiB": 4,
    "name": "ml.t3.medium",
    "vcpuNum": 2
   },
   {
    "_defaultOrder": 1,
    "_isFastLaunch": false,
    "category": "General purpose",
    "gpuNum": 0,
    "hideHardwareSpecs": false,
    "memoryGiB": 8,
    "name": "ml.t3.large",
    "vcpuNum": 2
   },
   {
    "_defaultOrder": 2,
    "_isFastLaunch": false,
    "category": "General purpose",
    "gpuNum": 0,
    "hideHardwareSpecs": false,
    "memoryGiB": 16,
    "name": "ml.t3.xlarge",
    "vcpuNum": 4
   },
   {
    "_defaultOrder": 3,
    "_isFastLaunch": false,
    "category": "General purpose",
    "gpuNum": 0,
    "hideHardwareSpecs": false,
    "memoryGiB": 32,
    "name": "ml.t3.2xlarge",
    "vcpuNum": 8
   },
   {
    "_defaultOrder": 4,
    "_isFastLaunch": true,
    "category": "General purpose",
    "gpuNum": 0,
    "hideHardwareSpecs": false,
    "memoryGiB": 8,
    "name": "ml.m5.large",
    "vcpuNum": 2
   },
   {
    "_defaultOrder": 5,
    "_isFastLaunch": false,
    "category": "General purpose",
    "gpuNum": 0,
    "hideHardwareSpecs": false,
    "memoryGiB": 16,
    "name": "ml.m5.xlarge",
    "vcpuNum": 4
   },
   {
    "_defaultOrder": 6,
    "_isFastLaunch": false,
    "category": "General purpose",
    "gpuNum": 0,
    "hideHardwareSpecs": false,
    "memoryGiB": 32,
    "name": "ml.m5.2xlarge",
    "vcpuNum": 8
   },
   {
    "_defaultOrder": 7,
    "_isFastLaunch": false,
    "category": "General purpose",
    "gpuNum": 0,
    "hideHardwareSpecs": false,
    "memoryGiB": 64,
    "name": "ml.m5.4xlarge",
    "vcpuNum": 16
   },
   {
    "_defaultOrder": 8,
    "_isFastLaunch": false,
    "category": "General purpose",
    "gpuNum": 0,
    "hideHardwareSpecs": false,
    "memoryGiB": 128,
    "name": "ml.m5.8xlarge",
    "vcpuNum": 32
   },
   {
    "_defaultOrder": 9,
    "_isFastLaunch": false,
    "category": "General purpose",
    "gpuNum": 0,
    "hideHardwareSpecs": false,
    "memoryGiB": 192,
    "name": "ml.m5.12xlarge",
    "vcpuNum": 48
   },
   {
    "_defaultOrder": 10,
    "_isFastLaunch": false,
    "category": "General purpose",
    "gpuNum": 0,
    "hideHardwareSpecs": false,
    "memoryGiB": 256,
    "name": "ml.m5.16xlarge",
    "vcpuNum": 64
   },
   {
    "_defaultOrder": 11,
    "_isFastLaunch": false,
    "category": "General purpose",
    "gpuNum": 0,
    "hideHardwareSpecs": false,
    "memoryGiB": 384,
    "name": "ml.m5.24xlarge",
    "vcpuNum": 96
   },
   {
    "_defaultOrder": 12,
    "_isFastLaunch": false,
    "category": "General purpose",
    "gpuNum": 0,
    "hideHardwareSpecs": false,
    "memoryGiB": 8,
    "name": "ml.m5d.large",
    "vcpuNum": 2
   },
   {
    "_defaultOrder": 13,
    "_isFastLaunch": false,
    "category": "General purpose",
    "gpuNum": 0,
    "hideHardwareSpecs": false,
    "memoryGiB": 16,
    "name": "ml.m5d.xlarge",
    "vcpuNum": 4
   },
   {
    "_defaultOrder": 14,
    "_isFastLaunch": false,
    "category": "General purpose",
    "gpuNum": 0,
    "hideHardwareSpecs": false,
    "memoryGiB": 32,
    "name": "ml.m5d.2xlarge",
    "vcpuNum": 8
   },
   {
    "_defaultOrder": 15,
    "_isFastLaunch": false,
    "category": "General purpose",
    "gpuNum": 0,
    "hideHardwareSpecs": false,
    "memoryGiB": 64,
    "name": "ml.m5d.4xlarge",
    "vcpuNum": 16
   },
   {
    "_defaultOrder": 16,
    "_isFastLaunch": false,
    "category": "General purpose",
    "gpuNum": 0,
    "hideHardwareSpecs": false,
    "memoryGiB": 128,
    "name": "ml.m5d.8xlarge",
    "vcpuNum": 32
   },
   {
    "_defaultOrder": 17,
    "_isFastLaunch": false,
    "category": "General purpose",
    "gpuNum": 0,
    "hideHardwareSpecs": false,
    "memoryGiB": 192,
    "name": "ml.m5d.12xlarge",
    "vcpuNum": 48
   },
   {
    "_defaultOrder": 18,
    "_isFastLaunch": false,
    "category": "General purpose",
    "gpuNum": 0,
    "hideHardwareSpecs": false,
    "memoryGiB": 256,
    "name": "ml.m5d.16xlarge",
    "vcpuNum": 64
   },
   {
    "_defaultOrder": 19,
    "_isFastLaunch": false,
    "category": "General purpose",
    "gpuNum": 0,
    "hideHardwareSpecs": false,
    "memoryGiB": 384,
    "name": "ml.m5d.24xlarge",
    "vcpuNum": 96
   },
   {
    "_defaultOrder": 20,
    "_isFastLaunch": false,
    "category": "General purpose",
    "gpuNum": 0,
    "hideHardwareSpecs": true,
    "memoryGiB": 0,
    "name": "ml.geospatial.interactive",
    "supportedImageNames": [
     "sagemaker-geospatial-v1-0"
    ],
    "vcpuNum": 0
   },
   {
    "_defaultOrder": 21,
    "_isFastLaunch": true,
    "category": "Compute optimized",
    "gpuNum": 0,
    "hideHardwareSpecs": false,
    "memoryGiB": 4,
    "name": "ml.c5.large",
    "vcpuNum": 2
   },
   {
    "_defaultOrder": 22,
    "_isFastLaunch": false,
    "category": "Compute optimized",
    "gpuNum": 0,
    "hideHardwareSpecs": false,
    "memoryGiB": 8,
    "name": "ml.c5.xlarge",
    "vcpuNum": 4
   },
   {
    "_defaultOrder": 23,
    "_isFastLaunch": false,
    "category": "Compute optimized",
    "gpuNum": 0,
    "hideHardwareSpecs": false,
    "memoryGiB": 16,
    "name": "ml.c5.2xlarge",
    "vcpuNum": 8
   },
   {
    "_defaultOrder": 24,
    "_isFastLaunch": false,
    "category": "Compute optimized",
    "gpuNum": 0,
    "hideHardwareSpecs": false,
    "memoryGiB": 32,
    "name": "ml.c5.4xlarge",
    "vcpuNum": 16
   },
   {
    "_defaultOrder": 25,
    "_isFastLaunch": false,
    "category": "Compute optimized",
    "gpuNum": 0,
    "hideHardwareSpecs": false,
    "memoryGiB": 72,
    "name": "ml.c5.9xlarge",
    "vcpuNum": 36
   },
   {
    "_defaultOrder": 26,
    "_isFastLaunch": false,
    "category": "Compute optimized",
    "gpuNum": 0,
    "hideHardwareSpecs": false,
    "memoryGiB": 96,
    "name": "ml.c5.12xlarge",
    "vcpuNum": 48
   },
   {
    "_defaultOrder": 27,
    "_isFastLaunch": false,
    "category": "Compute optimized",
    "gpuNum": 0,
    "hideHardwareSpecs": false,
    "memoryGiB": 144,
    "name": "ml.c5.18xlarge",
    "vcpuNum": 72
   },
   {
    "_defaultOrder": 28,
    "_isFastLaunch": false,
    "category": "Compute optimized",
    "gpuNum": 0,
    "hideHardwareSpecs": false,
    "memoryGiB": 192,
    "name": "ml.c5.24xlarge",
    "vcpuNum": 96
   },
   {
    "_defaultOrder": 29,
    "_isFastLaunch": true,
    "category": "Accelerated computing",
    "gpuNum": 1,
    "hideHardwareSpecs": false,
    "memoryGiB": 16,
    "name": "ml.g4dn.xlarge",
    "vcpuNum": 4
   },
   {
    "_defaultOrder": 30,
    "_isFastLaunch": false,
    "category": "Accelerated computing",
    "gpuNum": 1,
    "hideHardwareSpecs": false,
    "memoryGiB": 32,
    "name": "ml.g4dn.2xlarge",
    "vcpuNum": 8
   },
   {
    "_defaultOrder": 31,
    "_isFastLaunch": false,
    "category": "Accelerated computing",
    "gpuNum": 1,
    "hideHardwareSpecs": false,
    "memoryGiB": 64,
    "name": "ml.g4dn.4xlarge",
    "vcpuNum": 16
   },
   {
    "_defaultOrder": 32,
    "_isFastLaunch": false,
    "category": "Accelerated computing",
    "gpuNum": 1,
    "hideHardwareSpecs": false,
    "memoryGiB": 128,
    "name": "ml.g4dn.8xlarge",
    "vcpuNum": 32
   },
   {
    "_defaultOrder": 33,
    "_isFastLaunch": false,
    "category": "Accelerated computing",
    "gpuNum": 4,
    "hideHardwareSpecs": false,
    "memoryGiB": 192,
    "name": "ml.g4dn.12xlarge",
    "vcpuNum": 48
   },
   {
    "_defaultOrder": 34,
    "_isFastLaunch": false,
    "category": "Accelerated computing",
    "gpuNum": 1,
    "hideHardwareSpecs": false,
    "memoryGiB": 256,
    "name": "ml.g4dn.16xlarge",
    "vcpuNum": 64
   },
   {
    "_defaultOrder": 35,
    "_isFastLaunch": false,
    "category": "Accelerated computing",
    "gpuNum": 1,
    "hideHardwareSpecs": false,
    "memoryGiB": 61,
    "name": "ml.p3.2xlarge",
    "vcpuNum": 8
   },
   {
    "_defaultOrder": 36,
    "_isFastLaunch": false,
    "category": "Accelerated computing",
    "gpuNum": 4,
    "hideHardwareSpecs": false,
    "memoryGiB": 244,
    "name": "ml.p3.8xlarge",
    "vcpuNum": 32
   },
   {
    "_defaultOrder": 37,
    "_isFastLaunch": false,
    "category": "Accelerated computing",
    "gpuNum": 8,
    "hideHardwareSpecs": false,
    "memoryGiB": 488,
    "name": "ml.p3.16xlarge",
    "vcpuNum": 64
   },
   {
    "_defaultOrder": 38,
    "_isFastLaunch": false,
    "category": "Accelerated computing",
    "gpuNum": 8,
    "hideHardwareSpecs": false,
    "memoryGiB": 768,
    "name": "ml.p3dn.24xlarge",
    "vcpuNum": 96
   },
   {
    "_defaultOrder": 39,
    "_isFastLaunch": false,
    "category": "Memory Optimized",
    "gpuNum": 0,
    "hideHardwareSpecs": false,
    "memoryGiB": 16,
    "name": "ml.r5.large",
    "vcpuNum": 2
   },
   {
    "_defaultOrder": 40,
    "_isFastLaunch": false,
    "category": "Memory Optimized",
    "gpuNum": 0,
    "hideHardwareSpecs": false,
    "memoryGiB": 32,
    "name": "ml.r5.xlarge",
    "vcpuNum": 4
   },
   {
    "_defaultOrder": 41,
    "_isFastLaunch": false,
    "category": "Memory Optimized",
    "gpuNum": 0,
    "hideHardwareSpecs": false,
    "memoryGiB": 64,
    "name": "ml.r5.2xlarge",
    "vcpuNum": 8
   },
   {
    "_defaultOrder": 42,
    "_isFastLaunch": false,
    "category": "Memory Optimized",
    "gpuNum": 0,
    "hideHardwareSpecs": false,
    "memoryGiB": 128,
    "name": "ml.r5.4xlarge",
    "vcpuNum": 16
   },
   {
    "_defaultOrder": 43,
    "_isFastLaunch": false,
    "category": "Memory Optimized",
    "gpuNum": 0,
    "hideHardwareSpecs": false,
    "memoryGiB": 256,
    "name": "ml.r5.8xlarge",
    "vcpuNum": 32
   },
   {
    "_defaultOrder": 44,
    "_isFastLaunch": false,
    "category": "Memory Optimized",
    "gpuNum": 0,
    "hideHardwareSpecs": false,
    "memoryGiB": 384,
    "name": "ml.r5.12xlarge",
    "vcpuNum": 48
   },
   {
    "_defaultOrder": 45,
    "_isFastLaunch": false,
    "category": "Memory Optimized",
    "gpuNum": 0,
    "hideHardwareSpecs": false,
    "memoryGiB": 512,
    "name": "ml.r5.16xlarge",
    "vcpuNum": 64
   },
   {
    "_defaultOrder": 46,
    "_isFastLaunch": false,
    "category": "Memory Optimized",
    "gpuNum": 0,
    "hideHardwareSpecs": false,
    "memoryGiB": 768,
    "name": "ml.r5.24xlarge",
    "vcpuNum": 96
   },
   {
    "_defaultOrder": 47,
    "_isFastLaunch": false,
    "category": "Accelerated computing",
    "gpuNum": 1,
    "hideHardwareSpecs": false,
    "memoryGiB": 16,
    "name": "ml.g5.xlarge",
    "vcpuNum": 4
   },
   {
    "_defaultOrder": 48,
    "_isFastLaunch": false,
    "category": "Accelerated computing",
    "gpuNum": 1,
    "hideHardwareSpecs": false,
    "memoryGiB": 32,
    "name": "ml.g5.2xlarge",
    "vcpuNum": 8
   },
   {
    "_defaultOrder": 49,
    "_isFastLaunch": false,
    "category": "Accelerated computing",
    "gpuNum": 1,
    "hideHardwareSpecs": false,
    "memoryGiB": 64,
    "name": "ml.g5.4xlarge",
    "vcpuNum": 16
   },
   {
    "_defaultOrder": 50,
    "_isFastLaunch": false,
    "category": "Accelerated computing",
    "gpuNum": 1,
    "hideHardwareSpecs": false,
    "memoryGiB": 128,
    "name": "ml.g5.8xlarge",
    "vcpuNum": 32
   },
   {
    "_defaultOrder": 51,
    "_isFastLaunch": false,
    "category": "Accelerated computing",
    "gpuNum": 1,
    "hideHardwareSpecs": false,
    "memoryGiB": 256,
    "name": "ml.g5.16xlarge",
    "vcpuNum": 64
   },
   {
    "_defaultOrder": 52,
    "_isFastLaunch": false,
    "category": "Accelerated computing",
    "gpuNum": 4,
    "hideHardwareSpecs": false,
    "memoryGiB": 192,
    "name": "ml.g5.12xlarge",
    "vcpuNum": 48
   },
   {
    "_defaultOrder": 53,
    "_isFastLaunch": false,
    "category": "Accelerated computing",
    "gpuNum": 4,
    "hideHardwareSpecs": false,
    "memoryGiB": 384,
    "name": "ml.g5.24xlarge",
    "vcpuNum": 96
   },
   {
    "_defaultOrder": 54,
    "_isFastLaunch": false,
    "category": "Accelerated computing",
    "gpuNum": 8,
    "hideHardwareSpecs": false,
    "memoryGiB": 768,
    "name": "ml.g5.48xlarge",
    "vcpuNum": 192
   },
   {
    "_defaultOrder": 55,
    "_isFastLaunch": false,
    "category": "Accelerated computing",
    "gpuNum": 8,
    "hideHardwareSpecs": false,
    "memoryGiB": 1152,
    "name": "ml.p4d.24xlarge",
    "vcpuNum": 96
   },
   {
    "_defaultOrder": 56,
    "_isFastLaunch": false,
    "category": "Accelerated computing",
    "gpuNum": 8,
    "hideHardwareSpecs": false,
    "memoryGiB": 1152,
    "name": "ml.p4de.24xlarge",
    "vcpuNum": 96
   }
  ],
  "instance_type": "ml.m5.2xlarge",
  "kernelspec": {
   "display_name": "Python 3 (Data Science 3.0)",
   "language": "python",
   "name": "python3__SAGEMAKER_INTERNAL__arn:aws:sagemaker:us-west-2:236514542706:image/sagemaker-data-science-310-v1"
  },
  "language_info": {
   "codemirror_mode": {
    "name": "ipython",
    "version": 3
   },
   "file_extension": ".py",
   "mimetype": "text/x-python",
   "name": "python",
   "nbconvert_exporter": "python",
   "pygments_lexer": "ipython3",
   "version": "3.10.6"
  }
 },
 "nbformat": 4,
 "nbformat_minor": 4
}
