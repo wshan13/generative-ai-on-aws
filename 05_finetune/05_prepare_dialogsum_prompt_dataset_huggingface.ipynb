{
 "cells": [
  {
   "cell_type": "markdown",
   "metadata": {
    "tags": []
   },
   "source": [
    "# 이 노트북에서의 특성 변환\n",
    "\n",
    "이 노트북에서는 원시 텍스트를 토큰화하여 허깅페이스 훈련 스크립트에서 사용할 수 있는 입력으로 변환합니다. 이 과정에서 토큰화와 프롬프트 생성 단계를 훈련 과정과 분리하는 것이 중요합니다. 이를 통해 각 단계에 가장 적합한 컴퓨팅 자원을 사용할 수 있습니다. 예를 들어 저렴한 CPU는 데이터 준비 단계에 가장 적합하고 고성능 GPU는 모델 훈련에 가장 효율적입니다."
   ]
  },
  {
   "cell_type": "markdown",
   "metadata": {
    "tags": []
   },
   "source": [
    "## 준비사항\n",
    "아래 실습은 AWS ml.m5.2xlarge 인스턴스에서 수행했습니다."
   ]
  },
  {
   "cell_type": "markdown",
   "metadata": {
    "tags": []
   },
   "source": "## 커널 및 필요한 종속성 설정하기"
  },
  {
   "cell_type": "code",
   "metadata": {
    "ExecuteTime": {
     "end_time": "2024-08-15T12:19:00.152324Z",
     "start_time": "2024-08-15T12:18:14.195527Z"
    }
   },
   "source": [
    "%pip install -U --disable-pip-version-check \\\n",
    "    torch==2.3.1 \\\n",
    "    transformers==4.44.0 \\\n",
    "    datasets==2.21.0 \\\n",
    "    accelerate==0.33.0 \\\n",
    "    evaluate==0.4.2 \\\n",
    "    py7zr==0.22.0 \\\n",
    "    sentencepiece==0.2.0 \\\n",
    "    rouge-score==0.1.2 \\\n",
    "    loralib==0.1.2 \\\n",
    "    peft==0.12.0 \\\n",
    "    trl==0.9.6"
   ],
   "outputs": [
    {
     "name": "stdout",
     "output_type": "stream",
     "text": [
      "Collecting torch==2.3.1Note: you may need to restart the kernel to use updated packages.\n"
     ]
    },
    {
     "name": "stderr",
     "output_type": "stream",
     "text": [
      "ERROR: pip's dependency resolver does not currently take into account all the packages that are installed. This behaviour is the source of the following dependency conflicts.\n",
      "torchaudio 2.3.1+cu121 requires torch==2.3.1+cu121, but you have torch 2.3.1 which is incompatible.\n",
      "torchvision 0.18.1+cu121 requires torch==2.3.1+cu121, but you have torch 2.3.1 which is incompatible.\n"
     ]
    },
    {
     "name": "stdout",
     "output_type": "stream",
     "text": [
      "\n",
      "  Downloading torch-2.3.1-cp311-cp311-win_amd64.whl.metadata (26 kB)\n",
      "Requirement already satisfied: transformers==4.44.0 in c:\\python\\workspace\\genaionaws\\.venv\\lib\\site-packages (4.44.0)\n",
      "Requirement already satisfied: datasets==2.21.0 in c:\\python\\workspace\\genaionaws\\.venv\\lib\\site-packages (2.21.0)\n",
      "Requirement already satisfied: accelerate==0.33.0 in c:\\python\\workspace\\genaionaws\\.venv\\lib\\site-packages (0.33.0)\n",
      "Requirement already satisfied: evaluate==0.4.2 in c:\\python\\workspace\\genaionaws\\.venv\\lib\\site-packages (0.4.2)\n",
      "Requirement already satisfied: py7zr==0.22.0 in c:\\python\\workspace\\genaionaws\\.venv\\lib\\site-packages (0.22.0)\n",
      "Requirement already satisfied: sentencepiece==0.2.0 in c:\\python\\workspace\\genaionaws\\.venv\\lib\\site-packages (0.2.0)\n",
      "Requirement already satisfied: rouge-score==0.1.2 in c:\\python\\workspace\\genaionaws\\.venv\\lib\\site-packages (0.1.2)\n",
      "Requirement already satisfied: loralib==0.1.2 in c:\\python\\workspace\\genaionaws\\.venv\\lib\\site-packages (0.1.2)\n",
      "Requirement already satisfied: peft==0.12.0 in c:\\python\\workspace\\genaionaws\\.venv\\lib\\site-packages (0.12.0)\n",
      "Requirement already satisfied: trl==0.9.6 in c:\\python\\workspace\\genaionaws\\.venv\\lib\\site-packages (0.9.6)\n",
      "Requirement already satisfied: filelock in c:\\python\\workspace\\genaionaws\\.venv\\lib\\site-packages (from torch==2.3.1) (3.14.0)\n",
      "Requirement already satisfied: typing-extensions>=4.8.0 in c:\\python\\workspace\\genaionaws\\.venv\\lib\\site-packages (from torch==2.3.1) (4.12.1)\n",
      "Requirement already satisfied: sympy in c:\\python\\workspace\\genaionaws\\.venv\\lib\\site-packages (from torch==2.3.1) (1.12.1)\n",
      "Requirement already satisfied: networkx in c:\\python\\workspace\\genaionaws\\.venv\\lib\\site-packages (from torch==2.3.1) (3.3)\n",
      "Requirement already satisfied: jinja2 in c:\\python\\workspace\\genaionaws\\.venv\\lib\\site-packages (from torch==2.3.1) (3.1.4)\n",
      "Requirement already satisfied: fsspec in c:\\python\\workspace\\genaionaws\\.venv\\lib\\site-packages (from torch==2.3.1) (2024.3.1)\n",
      "Requirement already satisfied: mkl<=2021.4.0,>=2021.1.1 in c:\\python\\workspace\\genaionaws\\.venv\\lib\\site-packages (from torch==2.3.1) (2021.4.0)\n",
      "Requirement already satisfied: huggingface-hub<1.0,>=0.23.2 in c:\\python\\workspace\\genaionaws\\.venv\\lib\\site-packages (from transformers==4.44.0) (0.23.3)\n",
      "Requirement already satisfied: numpy>=1.17 in c:\\python\\workspace\\genaionaws\\.venv\\lib\\site-packages (from transformers==4.44.0) (1.26.4)\n",
      "Requirement already satisfied: packaging>=20.0 in c:\\python\\workspace\\genaionaws\\.venv\\lib\\site-packages (from transformers==4.44.0) (24.0)\n",
      "Requirement already satisfied: pyyaml>=5.1 in c:\\python\\workspace\\genaionaws\\.venv\\lib\\site-packages (from transformers==4.44.0) (6.0.1)\n",
      "Requirement already satisfied: regex!=2019.12.17 in c:\\python\\workspace\\genaionaws\\.venv\\lib\\site-packages (from transformers==4.44.0) (2024.5.15)\n",
      "Requirement already satisfied: requests in c:\\python\\workspace\\genaionaws\\.venv\\lib\\site-packages (from transformers==4.44.0) (2.32.3)\n",
      "Requirement already satisfied: safetensors>=0.4.1 in c:\\python\\workspace\\genaionaws\\.venv\\lib\\site-packages (from transformers==4.44.0) (0.4.3)\n",
      "Requirement already satisfied: tokenizers<0.20,>=0.19 in c:\\python\\workspace\\genaionaws\\.venv\\lib\\site-packages (from transformers==4.44.0) (0.19.1)\n",
      "Requirement already satisfied: tqdm>=4.27 in c:\\python\\workspace\\genaionaws\\.venv\\lib\\site-packages (from transformers==4.44.0) (4.66.4)\n",
      "Requirement already satisfied: pyarrow>=15.0.0 in c:\\python\\workspace\\genaionaws\\.venv\\lib\\site-packages (from datasets==2.21.0) (16.1.0)\n",
      "Requirement already satisfied: dill<0.3.9,>=0.3.0 in c:\\python\\workspace\\genaionaws\\.venv\\lib\\site-packages (from datasets==2.21.0) (0.3.8)\n",
      "Requirement already satisfied: pandas in c:\\python\\workspace\\genaionaws\\.venv\\lib\\site-packages (from datasets==2.21.0) (2.2.2)\n",
      "Requirement already satisfied: xxhash in c:\\python\\workspace\\genaionaws\\.venv\\lib\\site-packages (from datasets==2.21.0) (3.4.1)\n",
      "Requirement already satisfied: multiprocess in c:\\python\\workspace\\genaionaws\\.venv\\lib\\site-packages (from datasets==2.21.0) (0.70.16)\n",
      "Requirement already satisfied: aiohttp in c:\\python\\workspace\\genaionaws\\.venv\\lib\\site-packages (from datasets==2.21.0) (3.9.5)\n",
      "Requirement already satisfied: psutil in c:\\python\\workspace\\genaionaws\\.venv\\lib\\site-packages (from accelerate==0.33.0) (5.9.8)\n",
      "Requirement already satisfied: texttable in c:\\python\\workspace\\genaionaws\\.venv\\lib\\site-packages (from py7zr==0.22.0) (1.7.0)\n",
      "Requirement already satisfied: pycryptodomex>=3.16.0 in c:\\python\\workspace\\genaionaws\\.venv\\lib\\site-packages (from py7zr==0.22.0) (3.20.0)\n",
      "Requirement already satisfied: pyzstd>=0.15.9 in c:\\python\\workspace\\genaionaws\\.venv\\lib\\site-packages (from py7zr==0.22.0) (0.16.1)\n",
      "Requirement already satisfied: pyppmd<1.2.0,>=1.1.0 in c:\\python\\workspace\\genaionaws\\.venv\\lib\\site-packages (from py7zr==0.22.0) (1.1.0)\n",
      "Requirement already satisfied: pybcj<1.1.0,>=1.0.0 in c:\\python\\workspace\\genaionaws\\.venv\\lib\\site-packages (from py7zr==0.22.0) (1.0.2)\n",
      "Requirement already satisfied: multivolumefile>=0.2.3 in c:\\python\\workspace\\genaionaws\\.venv\\lib\\site-packages (from py7zr==0.22.0) (0.2.3)\n",
      "Requirement already satisfied: inflate64<1.1.0,>=1.0.0 in c:\\python\\workspace\\genaionaws\\.venv\\lib\\site-packages (from py7zr==0.22.0) (1.0.0)\n",
      "Requirement already satisfied: brotli>=1.1.0 in c:\\python\\workspace\\genaionaws\\.venv\\lib\\site-packages (from py7zr==0.22.0) (1.1.0)\n",
      "Requirement already satisfied: absl-py in c:\\python\\workspace\\genaionaws\\.venv\\lib\\site-packages (from rouge-score==0.1.2) (2.1.0)\n",
      "Requirement already satisfied: nltk in c:\\python\\workspace\\genaionaws\\.venv\\lib\\site-packages (from rouge-score==0.1.2) (3.8.1)\n",
      "Requirement already satisfied: six>=1.14.0 in c:\\python\\workspace\\genaionaws\\.venv\\lib\\site-packages (from rouge-score==0.1.2) (1.16.0)\n",
      "Requirement already satisfied: tyro>=0.5.11 in c:\\python\\workspace\\genaionaws\\.venv\\lib\\site-packages (from trl==0.9.6) (0.8.6)\n",
      "Requirement already satisfied: aiosignal>=1.1.2 in c:\\python\\workspace\\genaionaws\\.venv\\lib\\site-packages (from aiohttp->datasets==2.21.0) (1.3.1)\n",
      "Requirement already satisfied: attrs>=17.3.0 in c:\\python\\workspace\\genaionaws\\.venv\\lib\\site-packages (from aiohttp->datasets==2.21.0) (23.2.0)\n",
      "Requirement already satisfied: frozenlist>=1.1.1 in c:\\python\\workspace\\genaionaws\\.venv\\lib\\site-packages (from aiohttp->datasets==2.21.0) (1.4.1)\n",
      "Requirement already satisfied: multidict<7.0,>=4.5 in c:\\python\\workspace\\genaionaws\\.venv\\lib\\site-packages (from aiohttp->datasets==2.21.0) (6.0.5)\n",
      "Requirement already satisfied: yarl<2.0,>=1.0 in c:\\python\\workspace\\genaionaws\\.venv\\lib\\site-packages (from aiohttp->datasets==2.21.0) (1.9.4)\n",
      "Requirement already satisfied: intel-openmp==2021.* in c:\\python\\workspace\\genaionaws\\.venv\\lib\\site-packages (from mkl<=2021.4.0,>=2021.1.1->torch==2.3.1) (2021.4.0)\n",
      "Requirement already satisfied: tbb==2021.* in c:\\python\\workspace\\genaionaws\\.venv\\lib\\site-packages (from mkl<=2021.4.0,>=2021.1.1->torch==2.3.1) (2021.12.0)\n",
      "Requirement already satisfied: charset-normalizer<4,>=2 in c:\\python\\workspace\\genaionaws\\.venv\\lib\\site-packages (from requests->transformers==4.44.0) (3.3.2)\n",
      "Requirement already satisfied: idna<4,>=2.5 in c:\\python\\workspace\\genaionaws\\.venv\\lib\\site-packages (from requests->transformers==4.44.0) (3.7)\n",
      "Requirement already satisfied: urllib3<3,>=1.21.1 in c:\\python\\workspace\\genaionaws\\.venv\\lib\\site-packages (from requests->transformers==4.44.0) (2.2.1)\n",
      "Requirement already satisfied: certifi>=2017.4.17 in c:\\python\\workspace\\genaionaws\\.venv\\lib\\site-packages (from requests->transformers==4.44.0) (2024.6.2)\n",
      "Requirement already satisfied: colorama in c:\\python\\workspace\\genaionaws\\.venv\\lib\\site-packages (from tqdm>=4.27->transformers==4.44.0) (0.4.6)\n",
      "Requirement already satisfied: docstring-parser>=0.16 in c:\\python\\workspace\\genaionaws\\.venv\\lib\\site-packages (from tyro>=0.5.11->trl==0.9.6) (0.16)\n",
      "Requirement already satisfied: rich>=11.1.0 in c:\\python\\workspace\\genaionaws\\.venv\\lib\\site-packages (from tyro>=0.5.11->trl==0.9.6) (13.7.1)\n",
      "Requirement already satisfied: shtab>=1.5.6 in c:\\python\\workspace\\genaionaws\\.venv\\lib\\site-packages (from tyro>=0.5.11->trl==0.9.6) (1.7.1)\n",
      "Requirement already satisfied: MarkupSafe>=2.0 in c:\\python\\workspace\\genaionaws\\.venv\\lib\\site-packages (from jinja2->torch==2.3.1) (2.1.5)\n",
      "Requirement already satisfied: click in c:\\python\\workspace\\genaionaws\\.venv\\lib\\site-packages (from nltk->rouge-score==0.1.2) (8.1.7)\n",
      "Requirement already satisfied: joblib in c:\\python\\workspace\\genaionaws\\.venv\\lib\\site-packages (from nltk->rouge-score==0.1.2) (1.4.2)\n",
      "Requirement already satisfied: python-dateutil>=2.8.2 in c:\\python\\workspace\\genaionaws\\.venv\\lib\\site-packages (from pandas->datasets==2.21.0) (2.9.0.post0)\n",
      "Requirement already satisfied: pytz>=2020.1 in c:\\python\\workspace\\genaionaws\\.venv\\lib\\site-packages (from pandas->datasets==2.21.0) (2024.1)\n",
      "Requirement already satisfied: tzdata>=2022.7 in c:\\python\\workspace\\genaionaws\\.venv\\lib\\site-packages (from pandas->datasets==2.21.0) (2024.1)\n",
      "Requirement already satisfied: mpmath<1.4.0,>=1.1.0 in c:\\python\\workspace\\genaionaws\\.venv\\lib\\site-packages (from sympy->torch==2.3.1) (1.3.0)\n",
      "Requirement already satisfied: markdown-it-py>=2.2.0 in c:\\python\\workspace\\genaionaws\\.venv\\lib\\site-packages (from rich>=11.1.0->tyro>=0.5.11->trl==0.9.6) (3.0.0)\n",
      "Requirement already satisfied: pygments<3.0.0,>=2.13.0 in c:\\python\\workspace\\genaionaws\\.venv\\lib\\site-packages (from rich>=11.1.0->tyro>=0.5.11->trl==0.9.6) (2.18.0)\n",
      "Requirement already satisfied: mdurl~=0.1 in c:\\python\\workspace\\genaionaws\\.venv\\lib\\site-packages (from markdown-it-py>=2.2.0->rich>=11.1.0->tyro>=0.5.11->trl==0.9.6) (0.1.2)\n",
      "Downloading torch-2.3.1-cp311-cp311-win_amd64.whl (159.8 MB)\n",
      "   ---------------------------------------- 0.0/159.8 MB ? eta -:--:--\n",
      "   ---------------------------------------- 0.1/159.8 MB 1.5 MB/s eta 0:01:45\n",
      "   ---------------------------------------- 0.2/159.8 MB 2.3 MB/s eta 0:01:10\n",
      "   ---------------------------------------- 0.4/159.8 MB 2.5 MB/s eta 0:01:03\n",
      "   ---------------------------------------- 0.5/159.8 MB 2.8 MB/s eta 0:00:57\n",
      "   ---------------------------------------- 0.7/159.8 MB 2.9 MB/s eta 0:00:55\n",
      "   ---------------------------------------- 0.9/159.8 MB 3.1 MB/s eta 0:00:51\n",
      "   ---------------------------------------- 1.3/159.8 MB 4.0 MB/s eta 0:00:40\n",
      "   ---------------------------------------- 1.8/159.8 MB 4.8 MB/s eta 0:00:33\n",
      "    --------------------------------------- 2.2/159.8 MB 5.2 MB/s eta 0:00:31\n",
      "    --------------------------------------- 2.6/159.8 MB 5.7 MB/s eta 0:00:28\n",
      "    --------------------------------------- 3.0/159.8 MB 5.9 MB/s eta 0:00:27\n",
      "    --------------------------------------- 3.3/159.8 MB 6.0 MB/s eta 0:00:27\n",
      "    --------------------------------------- 3.7/159.8 MB 6.2 MB/s eta 0:00:26\n",
      "    --------------------------------------- 3.9/159.8 MB 6.1 MB/s eta 0:00:26\n",
      "   - -------------------------------------- 4.2/159.8 MB 6.1 MB/s eta 0:00:26\n",
      "   - -------------------------------------- 4.5/159.8 MB 6.1 MB/s eta 0:00:26\n",
      "   - -------------------------------------- 4.7/159.8 MB 6.0 MB/s eta 0:00:26\n",
      "   - -------------------------------------- 5.0/159.8 MB 6.0 MB/s eta 0:00:26\n",
      "   - -------------------------------------- 5.4/159.8 MB 6.1 MB/s eta 0:00:26\n",
      "   - -------------------------------------- 5.8/159.8 MB 6.3 MB/s eta 0:00:25\n",
      "   - -------------------------------------- 6.2/159.8 MB 6.4 MB/s eta 0:00:25\n",
      "   - -------------------------------------- 6.6/159.8 MB 6.5 MB/s eta 0:00:24\n",
      "   - -------------------------------------- 7.0/159.8 MB 6.6 MB/s eta 0:00:24\n",
      "   - -------------------------------------- 7.3/159.8 MB 6.6 MB/s eta 0:00:24\n",
      "   - -------------------------------------- 7.6/159.8 MB 6.6 MB/s eta 0:00:24\n",
      "   - -------------------------------------- 7.9/159.8 MB 6.6 MB/s eta 0:00:24\n",
      "   -- ------------------------------------- 8.2/159.8 MB 6.6 MB/s eta 0:00:24\n",
      "   -- ------------------------------------- 8.6/159.8 MB 6.6 MB/s eta 0:00:23\n",
      "   -- ------------------------------------- 8.9/159.8 MB 6.6 MB/s eta 0:00:23\n",
      "   -- ------------------------------------- 9.3/159.8 MB 6.8 MB/s eta 0:00:23\n",
      "   -- ------------------------------------- 9.6/159.8 MB 6.8 MB/s eta 0:00:23\n",
      "   -- ------------------------------------- 9.9/159.8 MB 6.7 MB/s eta 0:00:23\n",
      "   -- ------------------------------------- 10.2/159.8 MB 6.7 MB/s eta 0:00:23\n",
      "   -- ------------------------------------- 10.5/159.8 MB 7.0 MB/s eta 0:00:22\n",
      "   -- ------------------------------------- 11.0/159.8 MB 7.5 MB/s eta 0:00:20\n",
      "   -- ------------------------------------- 11.4/159.8 MB 7.5 MB/s eta 0:00:20\n",
      "   -- ------------------------------------- 11.8/159.8 MB 7.5 MB/s eta 0:00:20\n",
      "   --- ------------------------------------ 12.2/159.8 MB 7.5 MB/s eta 0:00:20\n",
      "   --- ------------------------------------ 12.5/159.8 MB 7.4 MB/s eta 0:00:20\n",
      "   --- ------------------------------------ 12.8/159.8 MB 7.4 MB/s eta 0:00:20\n",
      "   --- ------------------------------------ 13.1/159.8 MB 7.3 MB/s eta 0:00:21\n",
      "   --- ------------------------------------ 13.3/159.8 MB 7.2 MB/s eta 0:00:21\n",
      "   --- ------------------------------------ 13.7/159.8 MB 7.3 MB/s eta 0:00:21\n",
      "   --- ------------------------------------ 14.0/159.8 MB 7.3 MB/s eta 0:00:21\n",
      "   --- ------------------------------------ 14.4/159.8 MB 7.4 MB/s eta 0:00:20\n",
      "   --- ------------------------------------ 14.7/159.8 MB 7.4 MB/s eta 0:00:20\n",
      "   --- ------------------------------------ 15.1/159.8 MB 7.4 MB/s eta 0:00:20\n",
      "   --- ------------------------------------ 15.3/159.8 MB 7.4 MB/s eta 0:00:20\n",
      "   --- ------------------------------------ 15.6/159.8 MB 7.4 MB/s eta 0:00:20\n",
      "   --- ------------------------------------ 15.9/159.8 MB 7.3 MB/s eta 0:00:20\n",
      "   ---- ----------------------------------- 16.1/159.8 MB 7.3 MB/s eta 0:00:20\n",
      "   ---- ----------------------------------- 16.3/159.8 MB 7.1 MB/s eta 0:00:21\n",
      "   ---- ----------------------------------- 16.7/159.8 MB 7.1 MB/s eta 0:00:21\n",
      "   ---- ----------------------------------- 17.0/159.8 MB 7.1 MB/s eta 0:00:21\n",
      "   ---- ----------------------------------- 17.3/159.8 MB 7.0 MB/s eta 0:00:21\n",
      "   ---- ----------------------------------- 17.6/159.8 MB 7.0 MB/s eta 0:00:21\n",
      "   ---- ----------------------------------- 17.9/159.8 MB 7.0 MB/s eta 0:00:21\n",
      "   ---- ----------------------------------- 18.2/159.8 MB 7.0 MB/s eta 0:00:21\n",
      "   ---- ----------------------------------- 18.2/159.8 MB 6.8 MB/s eta 0:00:21\n",
      "   ---- ----------------------------------- 18.5/159.8 MB 6.7 MB/s eta 0:00:21\n",
      "   ---- ----------------------------------- 18.7/159.8 MB 6.7 MB/s eta 0:00:22\n",
      "   ---- ----------------------------------- 19.0/159.8 MB 6.6 MB/s eta 0:00:22\n",
      "   ---- ----------------------------------- 19.2/159.8 MB 6.5 MB/s eta 0:00:22\n",
      "   ---- ----------------------------------- 19.5/159.8 MB 6.5 MB/s eta 0:00:22\n",
      "   ---- ----------------------------------- 19.9/159.8 MB 6.5 MB/s eta 0:00:22\n",
      "   ----- ---------------------------------- 20.2/159.8 MB 6.5 MB/s eta 0:00:22\n",
      "   ----- ---------------------------------- 20.5/159.8 MB 6.6 MB/s eta 0:00:22\n",
      "   ----- ---------------------------------- 21.0/159.8 MB 6.6 MB/s eta 0:00:21\n",
      "   ----- ---------------------------------- 21.4/159.8 MB 6.6 MB/s eta 0:00:21\n",
      "   ----- ---------------------------------- 21.8/159.8 MB 6.6 MB/s eta 0:00:21\n",
      "   ----- ---------------------------------- 22.1/159.8 MB 6.5 MB/s eta 0:00:22\n",
      "   ----- ---------------------------------- 22.4/159.8 MB 6.5 MB/s eta 0:00:22\n",
      "   ----- ---------------------------------- 22.8/159.8 MB 6.5 MB/s eta 0:00:21\n",
      "   ----- ---------------------------------- 23.1/159.8 MB 6.5 MB/s eta 0:00:21\n",
      "   ----- ---------------------------------- 23.4/159.8 MB 6.5 MB/s eta 0:00:21\n",
      "   ----- ---------------------------------- 23.6/159.8 MB 6.5 MB/s eta 0:00:21\n",
      "   ----- ---------------------------------- 24.0/159.8 MB 6.5 MB/s eta 0:00:21\n",
      "   ------ --------------------------------- 24.3/159.8 MB 6.5 MB/s eta 0:00:21\n",
      "   ------ --------------------------------- 24.6/159.8 MB 6.5 MB/s eta 0:00:21\n",
      "   ------ --------------------------------- 24.9/159.8 MB 6.5 MB/s eta 0:00:21\n",
      "   ------ --------------------------------- 25.2/159.8 MB 6.5 MB/s eta 0:00:21\n",
      "   ------ --------------------------------- 25.6/159.8 MB 6.5 MB/s eta 0:00:21\n",
      "   ------ --------------------------------- 25.9/159.8 MB 6.5 MB/s eta 0:00:21\n",
      "   ------ --------------------------------- 26.1/159.8 MB 6.5 MB/s eta 0:00:21\n",
      "   ------ --------------------------------- 26.4/159.8 MB 6.5 MB/s eta 0:00:21\n",
      "   ------ --------------------------------- 26.6/159.8 MB 6.5 MB/s eta 0:00:21\n",
      "   ------ --------------------------------- 26.9/159.8 MB 6.5 MB/s eta 0:00:21\n",
      "   ------ --------------------------------- 27.2/159.8 MB 6.5 MB/s eta 0:00:21\n",
      "   ------ --------------------------------- 27.6/159.8 MB 6.5 MB/s eta 0:00:21\n",
      "   ------- -------------------------------- 28.0/159.8 MB 6.6 MB/s eta 0:00:20\n",
      "   ------- -------------------------------- 28.4/159.8 MB 6.8 MB/s eta 0:00:20\n",
      "   ------- -------------------------------- 28.9/159.8 MB 7.0 MB/s eta 0:00:19\n",
      "   ------- -------------------------------- 29.3/159.8 MB 7.3 MB/s eta 0:00:18\n",
      "   ------- -------------------------------- 29.8/159.8 MB 7.4 MB/s eta 0:00:18\n",
      "   ------- -------------------------------- 30.2/159.8 MB 7.4 MB/s eta 0:00:18\n",
      "   ------- -------------------------------- 30.5/159.8 MB 7.4 MB/s eta 0:00:18\n",
      "   ------- -------------------------------- 30.8/159.8 MB 7.4 MB/s eta 0:00:18\n",
      "   ------- -------------------------------- 31.1/159.8 MB 7.4 MB/s eta 0:00:18\n",
      "   ------- -------------------------------- 31.3/159.8 MB 7.3 MB/s eta 0:00:18\n",
      "   ------- -------------------------------- 31.5/159.8 MB 7.0 MB/s eta 0:00:19\n",
      "   ------- -------------------------------- 31.8/159.8 MB 7.0 MB/s eta 0:00:19\n",
      "   -------- ------------------------------- 32.2/159.8 MB 7.0 MB/s eta 0:00:19\n",
      "   -------- ------------------------------- 32.6/159.8 MB 7.1 MB/s eta 0:00:18\n",
      "   -------- ------------------------------- 33.1/159.8 MB 7.3 MB/s eta 0:00:18\n",
      "   -------- ------------------------------- 33.6/159.8 MB 7.4 MB/s eta 0:00:17\n",
      "   -------- ------------------------------- 34.1/159.8 MB 7.6 MB/s eta 0:00:17\n",
      "   -------- ------------------------------- 34.5/159.8 MB 7.6 MB/s eta 0:00:17\n",
      "   -------- ------------------------------- 34.9/159.8 MB 7.7 MB/s eta 0:00:17\n",
      "   -------- ------------------------------- 35.4/159.8 MB 7.8 MB/s eta 0:00:16\n",
      "   -------- ------------------------------- 35.9/159.8 MB 8.0 MB/s eta 0:00:16\n",
      "   --------- ------------------------------ 36.4/159.8 MB 8.2 MB/s eta 0:00:16\n",
      "   --------- ------------------------------ 36.8/159.8 MB 8.5 MB/s eta 0:00:15\n",
      "   --------- ------------------------------ 37.3/159.8 MB 8.7 MB/s eta 0:00:15\n",
      "   --------- ------------------------------ 37.7/159.8 MB 8.7 MB/s eta 0:00:14\n",
      "   --------- ------------------------------ 38.2/159.8 MB 8.7 MB/s eta 0:00:14\n",
      "   --------- ------------------------------ 38.4/159.8 MB 8.7 MB/s eta 0:00:14\n",
      "   --------- ------------------------------ 38.9/159.8 MB 8.6 MB/s eta 0:00:15\n",
      "   --------- ------------------------------ 39.2/159.8 MB 8.6 MB/s eta 0:00:14\n",
      "   --------- ------------------------------ 39.5/159.8 MB 8.4 MB/s eta 0:00:15\n",
      "   --------- ------------------------------ 39.8/159.8 MB 8.4 MB/s eta 0:00:15\n",
      "   ---------- ----------------------------- 40.1/159.8 MB 8.3 MB/s eta 0:00:15\n",
      "   ---------- ----------------------------- 40.6/159.8 MB 8.4 MB/s eta 0:00:15\n",
      "   ---------- ----------------------------- 40.9/159.8 MB 8.4 MB/s eta 0:00:15\n",
      "   ---------- ----------------------------- 41.3/159.8 MB 8.5 MB/s eta 0:00:14\n",
      "   ---------- ----------------------------- 41.7/159.8 MB 8.8 MB/s eta 0:00:14\n",
      "   ---------- ----------------------------- 42.1/159.8 MB 9.0 MB/s eta 0:00:14\n",
      "   ---------- ----------------------------- 42.5/159.8 MB 9.0 MB/s eta 0:00:14\n",
      "   ---------- ----------------------------- 42.8/159.8 MB 8.8 MB/s eta 0:00:14\n",
      "   ---------- ----------------------------- 43.0/159.8 MB 8.8 MB/s eta 0:00:14\n",
      "   ---------- ----------------------------- 43.2/159.8 MB 8.5 MB/s eta 0:00:14\n",
      "   ---------- ----------------------------- 43.5/159.8 MB 8.3 MB/s eta 0:00:15\n",
      "   ---------- ----------------------------- 43.7/159.8 MB 8.2 MB/s eta 0:00:15\n",
      "   ----------- ---------------------------- 44.0/159.8 MB 8.0 MB/s eta 0:00:15\n",
      "   ----------- ---------------------------- 44.2/159.8 MB 7.9 MB/s eta 0:00:15\n",
      "   ----------- ---------------------------- 44.5/159.8 MB 7.8 MB/s eta 0:00:15\n",
      "   ----------- ---------------------------- 44.9/159.8 MB 7.8 MB/s eta 0:00:15\n",
      "   ----------- ---------------------------- 45.3/159.8 MB 7.7 MB/s eta 0:00:15\n",
      "   ----------- ---------------------------- 45.8/159.8 MB 7.7 MB/s eta 0:00:15\n",
      "   ----------- ---------------------------- 46.2/159.8 MB 7.7 MB/s eta 0:00:15\n",
      "   ----------- ---------------------------- 46.6/159.8 MB 7.6 MB/s eta 0:00:15\n",
      "   ----------- ---------------------------- 47.1/159.8 MB 7.6 MB/s eta 0:00:15\n",
      "   ----------- ---------------------------- 47.5/159.8 MB 7.5 MB/s eta 0:00:15\n",
      "   ----------- ---------------------------- 47.7/159.8 MB 7.5 MB/s eta 0:00:15\n",
      "   ------------ --------------------------- 48.1/159.8 MB 7.4 MB/s eta 0:00:16\n",
      "   ------------ --------------------------- 48.4/159.8 MB 7.4 MB/s eta 0:00:16\n",
      "   ------------ --------------------------- 48.8/159.8 MB 7.4 MB/s eta 0:00:15\n",
      "   ------------ --------------------------- 49.1/159.8 MB 7.4 MB/s eta 0:00:16\n",
      "   ------------ --------------------------- 49.6/159.8 MB 7.5 MB/s eta 0:00:15\n",
      "   ------------ --------------------------- 50.0/159.8 MB 7.5 MB/s eta 0:00:15\n",
      "   ------------ --------------------------- 50.3/159.8 MB 7.5 MB/s eta 0:00:15\n",
      "   ------------ --------------------------- 50.6/159.8 MB 7.5 MB/s eta 0:00:15\n",
      "   ------------ --------------------------- 50.9/159.8 MB 7.4 MB/s eta 0:00:15\n",
      "   ------------ --------------------------- 51.3/159.8 MB 7.4 MB/s eta 0:00:15\n",
      "   ------------ --------------------------- 51.8/159.8 MB 7.5 MB/s eta 0:00:15\n",
      "   ------------- -------------------------- 52.2/159.8 MB 7.6 MB/s eta 0:00:15\n",
      "   ------------- -------------------------- 52.7/159.8 MB 7.6 MB/s eta 0:00:15\n",
      "   ------------- -------------------------- 53.1/159.8 MB 7.7 MB/s eta 0:00:14\n",
      "   ------------- -------------------------- 53.6/159.8 MB 8.1 MB/s eta 0:00:14\n",
      "   ------------- -------------------------- 54.0/159.8 MB 8.2 MB/s eta 0:00:13\n",
      "   ------------- -------------------------- 54.3/159.8 MB 8.3 MB/s eta 0:00:13\n",
      "   ------------- -------------------------- 54.7/159.8 MB 8.4 MB/s eta 0:00:13\n",
      "   ------------- -------------------------- 55.0/159.8 MB 8.5 MB/s eta 0:00:13\n",
      "   ------------- -------------------------- 55.4/159.8 MB 8.4 MB/s eta 0:00:13\n",
      "   ------------- -------------------------- 55.8/159.8 MB 8.4 MB/s eta 0:00:13\n",
      "   -------------- ------------------------- 56.2/159.8 MB 8.4 MB/s eta 0:00:13\n",
      "   -------------- ------------------------- 56.5/159.8 MB 8.2 MB/s eta 0:00:13\n",
      "   -------------- ------------------------- 56.8/159.8 MB 8.3 MB/s eta 0:00:13\n",
      "   -------------- ------------------------- 57.1/159.8 MB 8.0 MB/s eta 0:00:13\n",
      "   -------------- ------------------------- 57.3/159.8 MB 7.9 MB/s eta 0:00:13\n",
      "   -------------- ------------------------- 57.6/159.8 MB 7.8 MB/s eta 0:00:14\n",
      "   -------------- ------------------------- 58.0/159.8 MB 7.9 MB/s eta 0:00:13\n",
      "   -------------- ------------------------- 58.4/159.8 MB 8.0 MB/s eta 0:00:13\n",
      "   -------------- ------------------------- 58.7/159.8 MB 8.0 MB/s eta 0:00:13\n",
      "   -------------- ------------------------- 58.9/159.8 MB 7.9 MB/s eta 0:00:13\n",
      "   -------------- ------------------------- 59.2/159.8 MB 7.8 MB/s eta 0:00:13\n",
      "   -------------- ------------------------- 59.6/159.8 MB 7.8 MB/s eta 0:00:13\n",
      "   -------------- ------------------------- 59.9/159.8 MB 7.7 MB/s eta 0:00:13\n",
      "   --------------- ------------------------ 60.2/159.8 MB 7.5 MB/s eta 0:00:14\n",
      "   --------------- ------------------------ 60.4/159.8 MB 7.5 MB/s eta 0:00:14\n",
      "   --------------- ------------------------ 60.7/159.8 MB 7.5 MB/s eta 0:00:14\n",
      "   --------------- ------------------------ 61.1/159.8 MB 7.6 MB/s eta 0:00:13\n",
      "   --------------- ------------------------ 61.3/159.8 MB 7.5 MB/s eta 0:00:14\n",
      "   --------------- ------------------------ 61.6/159.8 MB 7.4 MB/s eta 0:00:14\n",
      "   --------------- ------------------------ 61.9/159.8 MB 7.4 MB/s eta 0:00:14\n",
      "   --------------- ------------------------ 62.4/159.8 MB 7.4 MB/s eta 0:00:14\n",
      "   --------------- ------------------------ 62.8/159.8 MB 7.4 MB/s eta 0:00:14\n",
      "   --------------- ------------------------ 63.3/159.8 MB 7.4 MB/s eta 0:00:14\n",
      "   --------------- ------------------------ 63.7/159.8 MB 7.4 MB/s eta 0:00:14\n",
      "   ---------------- ----------------------- 64.3/159.8 MB 7.4 MB/s eta 0:00:13\n",
      "   ---------------- ----------------------- 64.7/159.8 MB 7.4 MB/s eta 0:00:13\n",
      "   ---------------- ----------------------- 65.2/159.8 MB 7.6 MB/s eta 0:00:13\n",
      "   ---------------- ----------------------- 65.6/159.8 MB 7.7 MB/s eta 0:00:13\n",
      "   ---------------- ----------------------- 65.9/159.8 MB 7.6 MB/s eta 0:00:13\n",
      "   ---------------- ----------------------- 66.1/159.8 MB 7.4 MB/s eta 0:00:13\n",
      "   ---------------- ----------------------- 66.3/159.8 MB 7.4 MB/s eta 0:00:13\n",
      "   ---------------- ----------------------- 66.6/159.8 MB 7.3 MB/s eta 0:00:13\n",
      "   ---------------- ----------------------- 66.8/159.8 MB 7.3 MB/s eta 0:00:13\n",
      "   ---------------- ----------------------- 67.1/159.8 MB 7.3 MB/s eta 0:00:13\n",
      "   ---------------- ----------------------- 67.5/159.8 MB 7.4 MB/s eta 0:00:13\n",
      "   ---------------- ----------------------- 67.9/159.8 MB 7.4 MB/s eta 0:00:13\n",
      "   ----------------- ---------------------- 68.3/159.8 MB 7.4 MB/s eta 0:00:13\n",
      "   ----------------- ---------------------- 68.6/159.8 MB 7.4 MB/s eta 0:00:13\n",
      "   ----------------- ---------------------- 69.0/159.8 MB 7.4 MB/s eta 0:00:13\n",
      "   ----------------- ---------------------- 69.5/159.8 MB 7.7 MB/s eta 0:00:12\n",
      "   ----------------- ---------------------- 70.0/159.8 MB 7.8 MB/s eta 0:00:12\n",
      "   ----------------- ---------------------- 70.5/159.8 MB 8.0 MB/s eta 0:00:12\n",
      "   ----------------- ---------------------- 70.9/159.8 MB 8.1 MB/s eta 0:00:12\n",
      "   ----------------- ---------------------- 71.3/159.8 MB 8.2 MB/s eta 0:00:11\n",
      "   ----------------- ---------------------- 71.8/159.8 MB 8.5 MB/s eta 0:00:11\n",
      "   ------------------ --------------------- 72.1/159.8 MB 8.5 MB/s eta 0:00:11\n",
      "   ------------------ --------------------- 72.5/159.8 MB 8.4 MB/s eta 0:00:11\n",
      "   ------------------ --------------------- 72.8/159.8 MB 8.4 MB/s eta 0:00:11\n",
      "   ------------------ --------------------- 73.2/159.8 MB 8.4 MB/s eta 0:00:11\n",
      "   ------------------ --------------------- 73.5/159.8 MB 8.2 MB/s eta 0:00:11\n",
      "   ------------------ --------------------- 73.8/159.8 MB 8.2 MB/s eta 0:00:11\n",
      "   ------------------ --------------------- 74.1/159.8 MB 8.0 MB/s eta 0:00:11\n",
      "   ------------------ --------------------- 74.4/159.8 MB 7.9 MB/s eta 0:00:11\n",
      "   ------------------ --------------------- 74.7/159.8 MB 7.8 MB/s eta 0:00:11\n",
      "   ------------------ --------------------- 74.9/159.8 MB 7.6 MB/s eta 0:00:12\n",
      "   ------------------ --------------------- 75.2/159.8 MB 7.5 MB/s eta 0:00:12\n",
      "   ------------------ --------------------- 75.3/159.8 MB 7.4 MB/s eta 0:00:12\n",
      "   ------------------ --------------------- 75.8/159.8 MB 7.4 MB/s eta 0:00:12\n",
      "   ------------------- -------------------- 76.1/159.8 MB 7.4 MB/s eta 0:00:12\n",
      "   ------------------- -------------------- 76.5/159.8 MB 7.6 MB/s eta 0:00:11\n",
      "   ------------------- -------------------- 76.9/159.8 MB 7.7 MB/s eta 0:00:11\n",
      "   ------------------- -------------------- 77.3/159.8 MB 7.8 MB/s eta 0:00:11\n",
      "   ------------------- -------------------- 77.7/159.8 MB 7.9 MB/s eta 0:00:11\n",
      "   ------------------- -------------------- 77.9/159.8 MB 7.9 MB/s eta 0:00:11\n",
      "   ------------------- -------------------- 78.2/159.8 MB 7.8 MB/s eta 0:00:11\n",
      "   ------------------- -------------------- 78.5/159.8 MB 7.7 MB/s eta 0:00:11\n",
      "   ------------------- -------------------- 78.8/159.8 MB 7.6 MB/s eta 0:00:11\n",
      "   ------------------- -------------------- 79.1/159.8 MB 7.6 MB/s eta 0:00:11\n",
      "   ------------------- -------------------- 79.2/159.8 MB 7.4 MB/s eta 0:00:11\n",
      "   ------------------- -------------------- 79.5/159.8 MB 7.4 MB/s eta 0:00:11\n",
      "   ------------------- -------------------- 79.9/159.8 MB 7.3 MB/s eta 0:00:11\n",
      "   -------------------- ------------------- 80.2/159.8 MB 7.2 MB/s eta 0:00:12\n",
      "   -------------------- ------------------- 80.5/159.8 MB 7.1 MB/s eta 0:00:12\n",
      "   -------------------- ------------------- 80.8/159.8 MB 7.0 MB/s eta 0:00:12\n",
      "   -------------------- ------------------- 81.2/159.8 MB 7.0 MB/s eta 0:00:12\n",
      "   -------------------- ------------------- 81.7/159.8 MB 7.0 MB/s eta 0:00:12\n",
      "   -------------------- ------------------- 82.1/159.8 MB 7.0 MB/s eta 0:00:12\n",
      "   -------------------- ------------------- 82.5/159.8 MB 7.0 MB/s eta 0:00:11\n",
      "   -------------------- ------------------- 82.9/159.8 MB 7.0 MB/s eta 0:00:11\n",
      "   -------------------- ------------------- 83.4/159.8 MB 7.1 MB/s eta 0:00:11\n",
      "   -------------------- ------------------- 83.7/159.8 MB 7.1 MB/s eta 0:00:11\n",
      "   --------------------- ------------------ 84.1/159.8 MB 7.2 MB/s eta 0:00:11\n",
      "   --------------------- ------------------ 84.5/159.8 MB 7.3 MB/s eta 0:00:11\n",
      "   --------------------- ------------------ 84.8/159.8 MB 7.4 MB/s eta 0:00:11\n",
      "   --------------------- ------------------ 85.2/159.8 MB 7.4 MB/s eta 0:00:11\n",
      "   --------------------- ------------------ 85.5/159.8 MB 7.4 MB/s eta 0:00:10\n",
      "   --------------------- ------------------ 85.8/159.8 MB 7.5 MB/s eta 0:00:10\n",
      "   --------------------- ------------------ 86.1/159.8 MB 7.5 MB/s eta 0:00:10\n",
      "   --------------------- ------------------ 86.5/159.8 MB 7.5 MB/s eta 0:00:10\n",
      "   --------------------- ------------------ 86.9/159.8 MB 7.5 MB/s eta 0:00:10\n",
      "   --------------------- ------------------ 87.4/159.8 MB 7.6 MB/s eta 0:00:10\n",
      "   --------------------- ------------------ 87.7/159.8 MB 7.5 MB/s eta 0:00:10\n",
      "   ---------------------- ----------------- 88.2/159.8 MB 7.7 MB/s eta 0:00:10\n",
      "   ---------------------- ----------------- 88.7/159.8 MB 7.9 MB/s eta 0:00:10\n",
      "   ---------------------- ----------------- 89.2/159.8 MB 8.1 MB/s eta 0:00:09\n",
      "   ---------------------- ----------------- 89.6/159.8 MB 8.4 MB/s eta 0:00:09\n",
      "   ---------------------- ----------------- 90.0/159.8 MB 8.4 MB/s eta 0:00:09\n",
      "   ---------------------- ----------------- 90.4/159.8 MB 8.5 MB/s eta 0:00:09\n",
      "   ---------------------- ----------------- 90.8/159.8 MB 8.6 MB/s eta 0:00:09\n",
      "   ---------------------- ----------------- 91.1/159.8 MB 8.5 MB/s eta 0:00:09\n",
      "   ---------------------- ----------------- 91.4/159.8 MB 8.5 MB/s eta 0:00:09\n",
      "   ---------------------- ----------------- 91.7/159.8 MB 8.3 MB/s eta 0:00:09\n",
      "   ----------------------- ---------------- 92.0/159.8 MB 8.2 MB/s eta 0:00:09\n",
      "   ----------------------- ---------------- 92.3/159.8 MB 8.2 MB/s eta 0:00:09\n",
      "   ----------------------- ---------------- 92.5/159.8 MB 8.2 MB/s eta 0:00:09\n",
      "   ----------------------- ---------------- 92.8/159.8 MB 8.0 MB/s eta 0:00:09\n",
      "   ----------------------- ---------------- 93.1/159.8 MB 7.9 MB/s eta 0:00:09\n",
      "   ----------------------- ---------------- 93.5/159.8 MB 7.9 MB/s eta 0:00:09\n",
      "   ----------------------- ---------------- 93.9/159.8 MB 7.9 MB/s eta 0:00:09\n",
      "   ----------------------- ---------------- 94.4/159.8 MB 8.0 MB/s eta 0:00:09\n",
      "   ----------------------- ---------------- 94.9/159.8 MB 8.1 MB/s eta 0:00:09\n",
      "   ----------------------- ---------------- 95.3/159.8 MB 8.2 MB/s eta 0:00:08\n",
      "   ----------------------- ---------------- 95.8/159.8 MB 8.3 MB/s eta 0:00:08\n",
      "   ------------------------ --------------- 96.2/159.8 MB 8.4 MB/s eta 0:00:08\n",
      "   ------------------------ --------------- 96.6/159.8 MB 8.5 MB/s eta 0:00:08\n",
      "   ------------------------ --------------- 97.1/159.8 MB 8.4 MB/s eta 0:00:08\n",
      "   ------------------------ --------------- 97.4/159.8 MB 8.4 MB/s eta 0:00:08\n",
      "   ------------------------ --------------- 97.6/159.8 MB 8.3 MB/s eta 0:00:08\n",
      "   ------------------------ --------------- 97.9/159.8 MB 8.2 MB/s eta 0:00:08\n",
      "   ------------------------ --------------- 98.3/159.8 MB 8.1 MB/s eta 0:00:08\n",
      "   ------------------------ --------------- 98.6/159.8 MB 8.0 MB/s eta 0:00:08\n",
      "   ------------------------ --------------- 98.9/159.8 MB 7.8 MB/s eta 0:00:08\n",
      "   ------------------------ --------------- 99.2/159.8 MB 7.8 MB/s eta 0:00:08\n",
      "   ------------------------ --------------- 99.6/159.8 MB 7.8 MB/s eta 0:00:08\n",
      "   ------------------------- -------------- 100.1/159.8 MB 7.8 MB/s eta 0:00:08\n",
      "   ------------------------- -------------- 100.5/159.8 MB 7.9 MB/s eta 0:00:08\n",
      "   ------------------------- -------------- 100.9/159.8 MB 7.9 MB/s eta 0:00:08\n",
      "   ------------------------- -------------- 101.4/159.8 MB 8.1 MB/s eta 0:00:08\n",
      "   ------------------------- -------------- 101.8/159.8 MB 8.2 MB/s eta 0:00:08\n",
      "   ------------------------- -------------- 102.2/159.8 MB 8.2 MB/s eta 0:00:08\n",
      "   ------------------------- -------------- 102.5/159.8 MB 8.3 MB/s eta 0:00:07\n",
      "   ------------------------- -------------- 102.9/159.8 MB 8.4 MB/s eta 0:00:07\n",
      "   ------------------------- -------------- 103.2/159.8 MB 8.5 MB/s eta 0:00:07\n",
      "   ------------------------- -------------- 103.7/159.8 MB 8.5 MB/s eta 0:00:07\n",
      "   -------------------------- ------------- 103.9/159.8 MB 8.4 MB/s eta 0:00:07\n",
      "   -------------------------- ------------- 104.2/159.8 MB 8.3 MB/s eta 0:00:07\n",
      "   -------------------------- ------------- 104.4/159.8 MB 8.1 MB/s eta 0:00:07\n",
      "   -------------------------- ------------- 104.7/159.8 MB 8.0 MB/s eta 0:00:07\n",
      "   -------------------------- ------------- 105.1/159.8 MB 7.9 MB/s eta 0:00:07\n",
      "   -------------------------- ------------- 105.5/159.8 MB 7.9 MB/s eta 0:00:07\n",
      "   -------------------------- ------------- 105.9/159.8 MB 8.0 MB/s eta 0:00:07\n",
      "   -------------------------- ------------- 106.2/159.8 MB 7.9 MB/s eta 0:00:07\n",
      "   -------------------------- ------------- 106.6/159.8 MB 7.8 MB/s eta 0:00:07\n",
      "   -------------------------- ------------- 106.9/159.8 MB 7.8 MB/s eta 0:00:07\n",
      "   -------------------------- ------------- 107.2/159.8 MB 7.6 MB/s eta 0:00:07\n",
      "   -------------------------- ------------- 107.6/159.8 MB 7.7 MB/s eta 0:00:07\n",
      "   --------------------------- ------------ 107.9/159.8 MB 7.8 MB/s eta 0:00:07\n",
      "   --------------------------- ------------ 108.2/159.8 MB 7.7 MB/s eta 0:00:07\n",
      "   --------------------------- ------------ 108.6/159.8 MB 7.8 MB/s eta 0:00:07\n",
      "   --------------------------- ------------ 109.0/159.8 MB 7.8 MB/s eta 0:00:07\n",
      "   --------------------------- ------------ 109.3/159.8 MB 7.9 MB/s eta 0:00:07\n",
      "   --------------------------- ------------ 109.6/159.8 MB 7.8 MB/s eta 0:00:07\n",
      "   --------------------------- ------------ 109.9/159.8 MB 7.7 MB/s eta 0:00:07\n",
      "   --------------------------- ------------ 110.2/159.8 MB 7.6 MB/s eta 0:00:07\n",
      "   --------------------------- ------------ 110.5/159.8 MB 7.5 MB/s eta 0:00:07\n",
      "   --------------------------- ------------ 111.0/159.8 MB 7.5 MB/s eta 0:00:07\n",
      "   --------------------------- ------------ 111.4/159.8 MB 7.5 MB/s eta 0:00:07\n",
      "   --------------------------- ------------ 111.8/159.8 MB 7.5 MB/s eta 0:00:07\n",
      "   ---------------------------- ----------- 112.3/159.8 MB 7.6 MB/s eta 0:00:07\n",
      "   ---------------------------- ----------- 112.8/159.8 MB 7.7 MB/s eta 0:00:07\n",
      "   ---------------------------- ----------- 113.2/159.8 MB 7.7 MB/s eta 0:00:07\n",
      "   ---------------------------- ----------- 113.5/159.8 MB 7.8 MB/s eta 0:00:06\n",
      "   ---------------------------- ----------- 114.0/159.8 MB 7.8 MB/s eta 0:00:06\n",
      "   ---------------------------- ----------- 114.4/159.8 MB 8.0 MB/s eta 0:00:06\n",
      "   ---------------------------- ----------- 114.6/159.8 MB 7.9 MB/s eta 0:00:06\n",
      "   ---------------------------- ----------- 114.7/159.8 MB 7.7 MB/s eta 0:00:06\n",
      "   ---------------------------- ----------- 114.9/159.8 MB 7.6 MB/s eta 0:00:06\n",
      "   ---------------------------- ----------- 115.3/159.8 MB 7.6 MB/s eta 0:00:06\n",
      "   ---------------------------- ----------- 115.5/159.8 MB 7.5 MB/s eta 0:00:06\n",
      "   ---------------------------- ----------- 115.8/159.8 MB 7.4 MB/s eta 0:00:06\n",
      "   ----------------------------- ---------- 116.2/159.8 MB 7.4 MB/s eta 0:00:06\n",
      "   ----------------------------- ---------- 116.4/159.8 MB 7.4 MB/s eta 0:00:06\n",
      "   ----------------------------- ---------- 116.7/159.8 MB 7.3 MB/s eta 0:00:06\n",
      "   ----------------------------- ---------- 117.0/159.8 MB 7.3 MB/s eta 0:00:06\n",
      "   ----------------------------- ---------- 117.4/159.8 MB 7.4 MB/s eta 0:00:06\n",
      "   ----------------------------- ---------- 117.9/159.8 MB 7.4 MB/s eta 0:00:06\n",
      "   ----------------------------- ---------- 118.4/159.8 MB 7.5 MB/s eta 0:00:06\n",
      "   ----------------------------- ---------- 118.8/159.8 MB 7.6 MB/s eta 0:00:06\n",
      "   ----------------------------- ---------- 119.2/159.8 MB 7.7 MB/s eta 0:00:06\n",
      "   ----------------------------- ---------- 119.7/159.8 MB 7.8 MB/s eta 0:00:06\n",
      "   ------------------------------ --------- 120.1/159.8 MB 8.0 MB/s eta 0:00:05\n",
      "   ------------------------------ --------- 120.5/159.8 MB 8.0 MB/s eta 0:00:05\n",
      "   ------------------------------ --------- 120.7/159.8 MB 7.9 MB/s eta 0:00:05\n",
      "   ------------------------------ --------- 121.1/159.8 MB 7.9 MB/s eta 0:00:05\n",
      "   ------------------------------ --------- 121.5/159.8 MB 7.9 MB/s eta 0:00:05\n",
      "   ------------------------------ --------- 121.7/159.8 MB 7.7 MB/s eta 0:00:05\n",
      "   ------------------------------ --------- 122.0/159.8 MB 7.6 MB/s eta 0:00:05\n",
      "   ------------------------------ --------- 122.3/159.8 MB 7.5 MB/s eta 0:00:05\n",
      "   ------------------------------ --------- 122.6/159.8 MB 7.4 MB/s eta 0:00:05\n",
      "   ------------------------------ --------- 122.8/159.8 MB 7.3 MB/s eta 0:00:06\n",
      "   ------------------------------ --------- 123.3/159.8 MB 7.4 MB/s eta 0:00:05\n",
      "   ------------------------------ --------- 123.6/159.8 MB 7.3 MB/s eta 0:00:05\n",
      "   ------------------------------- -------- 124.0/159.8 MB 7.3 MB/s eta 0:00:05\n",
      "   ------------------------------- -------- 124.3/159.8 MB 7.2 MB/s eta 0:00:05\n",
      "   ------------------------------- -------- 124.6/159.8 MB 7.2 MB/s eta 0:00:05\n",
      "   ------------------------------- -------- 124.9/159.8 MB 7.4 MB/s eta 0:00:05\n",
      "   ------------------------------- -------- 125.3/159.8 MB 7.5 MB/s eta 0:00:05\n",
      "   ------------------------------- -------- 125.7/159.8 MB 7.7 MB/s eta 0:00:05\n",
      "   ------------------------------- -------- 126.1/159.8 MB 7.7 MB/s eta 0:00:05\n",
      "   ------------------------------- -------- 126.4/159.8 MB 7.7 MB/s eta 0:00:05\n",
      "   ------------------------------- -------- 126.6/159.8 MB 7.7 MB/s eta 0:00:05\n",
      "   ------------------------------- -------- 126.9/159.8 MB 7.7 MB/s eta 0:00:05\n",
      "   ------------------------------- -------- 127.1/159.8 MB 7.6 MB/s eta 0:00:05\n",
      "   ------------------------------- -------- 127.3/159.8 MB 7.5 MB/s eta 0:00:05\n",
      "   ------------------------------- -------- 127.6/159.8 MB 7.4 MB/s eta 0:00:05\n",
      "   -------------------------------- ------- 127.8/159.8 MB 7.3 MB/s eta 0:00:05\n",
      "   -------------------------------- ------- 128.1/159.8 MB 7.2 MB/s eta 0:00:05\n",
      "   -------------------------------- ------- 128.5/159.8 MB 7.1 MB/s eta 0:00:05\n",
      "   -------------------------------- ------- 128.8/159.8 MB 7.0 MB/s eta 0:00:05\n",
      "   -------------------------------- ------- 129.3/159.8 MB 7.0 MB/s eta 0:00:05\n",
      "   -------------------------------- ------- 129.8/159.8 MB 7.1 MB/s eta 0:00:05\n",
      "   -------------------------------- ------- 130.1/159.8 MB 7.0 MB/s eta 0:00:05\n",
      "   -------------------------------- ------- 130.5/159.8 MB 7.0 MB/s eta 0:00:05\n",
      "   -------------------------------- ------- 130.9/159.8 MB 7.3 MB/s eta 0:00:04\n",
      "   -------------------------------- ------- 131.4/159.8 MB 7.3 MB/s eta 0:00:04\n",
      "   -------------------------------- ------- 131.7/159.8 MB 7.3 MB/s eta 0:00:04\n",
      "   --------------------------------- ------ 132.0/159.8 MB 7.3 MB/s eta 0:00:04\n",
      "   --------------------------------- ------ 132.3/159.8 MB 7.3 MB/s eta 0:00:04\n",
      "   --------------------------------- ------ 132.6/159.8 MB 7.3 MB/s eta 0:00:04\n",
      "   --------------------------------- ------ 132.9/159.8 MB 7.3 MB/s eta 0:00:04\n",
      "   --------------------------------- ------ 133.2/159.8 MB 7.3 MB/s eta 0:00:04\n",
      "   --------------------------------- ------ 133.5/159.8 MB 7.2 MB/s eta 0:00:04\n",
      "   --------------------------------- ------ 133.8/159.8 MB 7.1 MB/s eta 0:00:04\n",
      "   --------------------------------- ------ 134.1/159.8 MB 7.1 MB/s eta 0:00:04\n",
      "   --------------------------------- ------ 134.4/159.8 MB 7.0 MB/s eta 0:00:04\n",
      "   --------------------------------- ------ 134.7/159.8 MB 7.1 MB/s eta 0:00:04\n",
      "   --------------------------------- ------ 135.1/159.8 MB 7.0 MB/s eta 0:00:04\n",
      "   --------------------------------- ------ 135.5/159.8 MB 7.1 MB/s eta 0:00:04\n",
      "   ---------------------------------- ----- 135.9/159.8 MB 7.0 MB/s eta 0:00:04\n",
      "   ---------------------------------- ----- 136.2/159.8 MB 7.1 MB/s eta 0:00:04\n",
      "   ---------------------------------- ----- 136.7/159.8 MB 7.2 MB/s eta 0:00:04\n",
      "   ---------------------------------- ----- 137.1/159.8 MB 7.4 MB/s eta 0:00:04\n",
      "   ---------------------------------- ----- 137.6/159.8 MB 7.7 MB/s eta 0:00:03\n",
      "   ---------------------------------- ----- 138.0/159.8 MB 7.8 MB/s eta 0:00:03\n",
      "   ---------------------------------- ----- 138.4/159.8 MB 7.9 MB/s eta 0:00:03\n",
      "   ---------------------------------- ----- 138.7/159.8 MB 8.0 MB/s eta 0:00:03\n",
      "   ---------------------------------- ----- 139.0/159.8 MB 8.0 MB/s eta 0:00:03\n",
      "   ---------------------------------- ----- 139.2/159.8 MB 7.9 MB/s eta 0:00:03\n",
      "   ---------------------------------- ----- 139.5/159.8 MB 7.7 MB/s eta 0:00:03\n",
      "   ----------------------------------- ---- 139.8/159.8 MB 7.5 MB/s eta 0:00:03\n",
      "   ----------------------------------- ---- 140.1/159.8 MB 7.4 MB/s eta 0:00:03\n",
      "   ----------------------------------- ---- 140.3/159.8 MB 7.4 MB/s eta 0:00:03\n",
      "   ----------------------------------- ---- 140.6/159.8 MB 7.4 MB/s eta 0:00:03\n",
      "   ----------------------------------- ---- 140.9/159.8 MB 7.2 MB/s eta 0:00:03\n",
      "   ----------------------------------- ---- 141.2/159.8 MB 7.1 MB/s eta 0:00:03\n",
      "   ----------------------------------- ---- 141.5/159.8 MB 7.0 MB/s eta 0:00:03\n",
      "   ----------------------------------- ---- 141.8/159.8 MB 7.0 MB/s eta 0:00:03\n",
      "   ----------------------------------- ---- 142.2/159.8 MB 7.2 MB/s eta 0:00:03\n",
      "   ----------------------------------- ---- 142.7/159.8 MB 7.4 MB/s eta 0:00:03\n",
      "   ----------------------------------- ---- 143.1/159.8 MB 7.4 MB/s eta 0:00:03\n",
      "   ----------------------------------- ---- 143.6/159.8 MB 7.6 MB/s eta 0:00:03\n",
      "   ------------------------------------ --- 144.0/159.8 MB 7.8 MB/s eta 0:00:03\n",
      "   ------------------------------------ --- 144.5/159.8 MB 7.9 MB/s eta 0:00:02\n",
      "   ------------------------------------ --- 145.0/159.8 MB 8.0 MB/s eta 0:00:02\n",
      "   ------------------------------------ --- 145.4/159.8 MB 8.1 MB/s eta 0:00:02\n",
      "   ------------------------------------ --- 145.8/159.8 MB 8.1 MB/s eta 0:00:02\n",
      "   ------------------------------------ --- 146.0/159.8 MB 8.0 MB/s eta 0:00:02\n",
      "   ------------------------------------ --- 146.4/159.8 MB 8.0 MB/s eta 0:00:02\n",
      "   ------------------------------------ --- 146.8/159.8 MB 7.9 MB/s eta 0:00:02\n",
      "   ------------------------------------ --- 147.1/159.8 MB 7.8 MB/s eta 0:00:02\n",
      "   ------------------------------------ --- 147.4/159.8 MB 7.7 MB/s eta 0:00:02\n",
      "   ------------------------------------ --- 147.7/159.8 MB 7.6 MB/s eta 0:00:02\n",
      "   ------------------------------------- -- 147.9/159.8 MB 7.4 MB/s eta 0:00:02\n",
      "   ------------------------------------- -- 148.3/159.8 MB 7.4 MB/s eta 0:00:02\n",
      "   ------------------------------------- -- 148.6/159.8 MB 7.5 MB/s eta 0:00:02\n",
      "   ------------------------------------- -- 148.9/159.8 MB 7.4 MB/s eta 0:00:02\n",
      "   ------------------------------------- -- 149.2/159.8 MB 7.4 MB/s eta 0:00:02\n",
      "   ------------------------------------- -- 149.5/159.8 MB 7.5 MB/s eta 0:00:02\n",
      "   ------------------------------------- -- 150.0/159.8 MB 7.6 MB/s eta 0:00:02\n",
      "   ------------------------------------- -- 150.4/159.8 MB 7.8 MB/s eta 0:00:02\n",
      "   ------------------------------------- -- 150.9/159.8 MB 8.1 MB/s eta 0:00:02\n",
      "   ------------------------------------- -- 151.3/159.8 MB 8.2 MB/s eta 0:00:02\n",
      "   ------------------------------------- -- 151.8/159.8 MB 8.3 MB/s eta 0:00:01\n",
      "   -------------------------------------- - 152.1/159.8 MB 8.4 MB/s eta 0:00:01\n",
      "   -------------------------------------- - 152.5/159.8 MB 8.3 MB/s eta 0:00:01\n",
      "   -------------------------------------- - 152.9/159.8 MB 8.3 MB/s eta 0:00:01\n",
      "   -------------------------------------- - 153.3/159.8 MB 8.2 MB/s eta 0:00:01\n",
      "   -------------------------------------- - 153.6/159.8 MB 8.1 MB/s eta 0:00:01\n",
      "   -------------------------------------- - 153.8/159.8 MB 7.9 MB/s eta 0:00:01\n",
      "   -------------------------------------- - 154.1/159.8 MB 7.8 MB/s eta 0:00:01\n",
      "   -------------------------------------- - 154.5/159.8 MB 7.8 MB/s eta 0:00:01\n",
      "   -------------------------------------- - 154.9/159.8 MB 7.7 MB/s eta 0:00:01\n",
      "   -------------------------------------- - 155.2/159.8 MB 7.7 MB/s eta 0:00:01\n",
      "   -------------------------------------- - 155.6/159.8 MB 7.7 MB/s eta 0:00:01\n",
      "   -------------------------------------- - 155.8/159.8 MB 7.6 MB/s eta 0:00:01\n",
      "   ---------------------------------------  156.2/159.8 MB 7.6 MB/s eta 0:00:01\n",
      "   ---------------------------------------  156.5/159.8 MB 7.6 MB/s eta 0:00:01\n",
      "   ---------------------------------------  156.8/159.8 MB 7.5 MB/s eta 0:00:01\n",
      "   ---------------------------------------  157.1/159.8 MB 7.5 MB/s eta 0:00:01\n",
      "   ---------------------------------------  157.6/159.8 MB 7.7 MB/s eta 0:00:01\n",
      "   ---------------------------------------  158.1/159.8 MB 7.8 MB/s eta 0:00:01\n",
      "   ---------------------------------------  158.5/159.8 MB 8.0 MB/s eta 0:00:01\n",
      "   ---------------------------------------  158.9/159.8 MB 8.1 MB/s eta 0:00:01\n",
      "   ---------------------------------------  159.2/159.8 MB 8.0 MB/s eta 0:00:01\n",
      "   ---------------------------------------  159.5/159.8 MB 8.1 MB/s eta 0:00:01\n",
      "   ---------------------------------------  159.8/159.8 MB 8.1 MB/s eta 0:00:01\n",
      "   ---------------------------------------  159.8/159.8 MB 8.1 MB/s eta 0:00:01\n",
      "   ---------------------------------------  159.8/159.8 MB 8.1 MB/s eta 0:00:01\n",
      "   ---------------------------------------- 159.8/159.8 MB 7.4 MB/s eta 0:00:00\n",
      "Installing collected packages: torch\n",
      "  Attempting uninstall: torch\n",
      "    Found existing installation: torch 2.4.0\n",
      "    Uninstalling torch-2.4.0:\n",
      "      Successfully uninstalled torch-2.4.0\n",
      "Successfully installed torch-2.3.1\n"
     ]
    }
   ],
   "execution_count": 2
  },
  {
   "cell_type": "code",
   "metadata": {
    "tags": [],
    "ExecuteTime": {
     "end_time": "2024-08-15T12:19:34.763034Z",
     "start_time": "2024-08-15T12:19:31.237434Z"
    }
   },
   "source": [
    "from transformers import AutoTokenizer\n",
    "from datasets import load_dataset, DatasetDict\n",
    "import os\n",
    "import time"
   ],
   "outputs": [],
   "execution_count": 3
  },
  {
   "cell_type": "markdown",
   "metadata": {},
   "source": "## 기본 데이터 세트가 다운로드되었는지 확인하기"
  },
  {
   "cell_type": "code",
   "metadata": {
    "tags": [],
    "ExecuteTime": {
     "end_time": "2024-08-15T12:19:48.125203Z",
     "start_time": "2024-08-15T12:19:37.372522Z"
    }
   },
   "source": [
    "from datasets import concatenate_datasets\n",
    "dataset = load_dataset(\"knkarthick/dialogsum\")\n",
    "dataset = concatenate_datasets([dataset['train'], dataset['test'], dataset['validation']])\n",
    "!mkdir data-summarization\n",
    "dataset = dataset.train_test_split(0.5, seed=1234)\n",
    "dataset['test'].to_csv('./data-summarization/dialogsum-1.csv', index=False)\n",
    "dataset['train'].to_csv('./data-summarization/dialogsum-2.csv', index=False)"
   ],
   "outputs": [
    {
     "data": {
      "text/plain": [
       "Downloading readme:   0%|          | 0.00/4.65k [00:00<?, ?B/s]"
      ],
      "application/vnd.jupyter.widget-view+json": {
       "version_major": 2,
       "version_minor": 0,
       "model_id": "00cec04a522142adb1d4e68bc121f3a9"
      }
     },
     "metadata": {},
     "output_type": "display_data"
    },
    {
     "data": {
      "text/plain": [
       "Downloading data:   0%|          | 0.00/11.3M [00:00<?, ?B/s]"
      ],
      "application/vnd.jupyter.widget-view+json": {
       "version_major": 2,
       "version_minor": 0,
       "model_id": "7d9f29c10739499e8f22796495db9411"
      }
     },
     "metadata": {},
     "output_type": "display_data"
    },
    {
     "data": {
      "text/plain": [
       "Downloading data:   0%|          | 0.00/442k [00:00<?, ?B/s]"
      ],
      "application/vnd.jupyter.widget-view+json": {
       "version_major": 2,
       "version_minor": 0,
       "model_id": "24b8c857d12341e1b0564786055ed863"
      }
     },
     "metadata": {},
     "output_type": "display_data"
    },
    {
     "data": {
      "text/plain": [
       "Downloading data:   0%|          | 0.00/1.35M [00:00<?, ?B/s]"
      ],
      "application/vnd.jupyter.widget-view+json": {
       "version_major": 2,
       "version_minor": 0,
       "model_id": "c6e8f0b174f14662970524993b02bea8"
      }
     },
     "metadata": {},
     "output_type": "display_data"
    },
    {
     "data": {
      "text/plain": [
       "Generating train split:   0%|          | 0/12460 [00:00<?, ? examples/s]"
      ],
      "application/vnd.jupyter.widget-view+json": {
       "version_major": 2,
       "version_minor": 0,
       "model_id": "9e6a92ecc1cc45599e18ae480576e524"
      }
     },
     "metadata": {},
     "output_type": "display_data"
    },
    {
     "data": {
      "text/plain": [
       "Generating validation split:   0%|          | 0/500 [00:00<?, ? examples/s]"
      ],
      "application/vnd.jupyter.widget-view+json": {
       "version_major": 2,
       "version_minor": 0,
       "model_id": "e10b5d60f0d6420897d514122d04b50a"
      }
     },
     "metadata": {},
     "output_type": "display_data"
    },
    {
     "data": {
      "text/plain": [
       "Generating test split:   0%|          | 0/1500 [00:00<?, ? examples/s]"
      ],
      "application/vnd.jupyter.widget-view+json": {
       "version_major": 2,
       "version_minor": 0,
       "model_id": "edbc6417b9a7414db7252953306425c2"
      }
     },
     "metadata": {},
     "output_type": "display_data"
    },
    {
     "data": {
      "text/plain": [
       "Creating CSV from Arrow format:   0%|          | 0/8 [00:00<?, ?ba/s]"
      ],
      "application/vnd.jupyter.widget-view+json": {
       "version_major": 2,
       "version_minor": 0,
       "model_id": "aee6c373c281402c81d5f6cc532af20d"
      }
     },
     "metadata": {},
     "output_type": "display_data"
    },
    {
     "data": {
      "text/plain": [
       "Creating CSV from Arrow format:   0%|          | 0/8 [00:00<?, ?ba/s]"
      ],
      "application/vnd.jupyter.widget-view+json": {
       "version_major": 2,
       "version_minor": 0,
       "model_id": "d2169e28b15e4b85b407475f2b225c96"
      }
     },
     "metadata": {},
     "output_type": "display_data"
    },
    {
     "data": {
      "text/plain": [
       "6579654"
      ]
     },
     "execution_count": 4,
     "metadata": {},
     "output_type": "execute_result"
    }
   ],
   "execution_count": 4
  },
  {
   "cell_type": "markdown",
   "metadata": {},
   "source": "## 토크나이저 및 허깅페이스 데이터 세트 적재"
  },
  {
   "cell_type": "code",
   "metadata": {
    "tags": [],
    "ExecuteTime": {
     "end_time": "2024-08-15T12:19:59.731602Z",
     "start_time": "2024-08-15T12:19:59.728591Z"
    }
   },
   "source": [
    "model_checkpoint='google/flan-t5-base'"
   ],
   "outputs": [],
   "execution_count": 5
  },
  {
   "cell_type": "code",
   "metadata": {
    "tags": [],
    "ExecuteTime": {
     "end_time": "2024-08-15T12:20:04.888399Z",
     "start_time": "2024-08-15T12:20:02.091069Z"
    }
   },
   "source": [
    "tokenizer = AutoTokenizer.from_pretrained(model_checkpoint)\n",
    "dataset = load_dataset('./data-summarization/')\n",
    "dataset"
   ],
   "outputs": [
    {
     "data": {
      "text/plain": [
       "tokenizer_config.json:   0%|          | 0.00/2.54k [00:00<?, ?B/s]"
      ],
      "application/vnd.jupyter.widget-view+json": {
       "version_major": 2,
       "version_minor": 0,
       "model_id": "5779467586e149dd918df622affed75e"
      }
     },
     "metadata": {},
     "output_type": "display_data"
    },
    {
     "name": "stderr",
     "output_type": "stream",
     "text": [
      "C:\\python\\workspace\\genaionaws\\.venv\\Lib\\site-packages\\huggingface_hub\\file_download.py:157: UserWarning: `huggingface_hub` cache-system uses symlinks by default to efficiently store duplicated files but your machine does not support them in C:\\Users\\PJK\\.cache\\huggingface\\hub\\models--google--flan-t5-base. Caching files will still work but in a degraded version that might require more space on your disk. This warning can be disabled by setting the `HF_HUB_DISABLE_SYMLINKS_WARNING` environment variable. For more details, see https://huggingface.co/docs/huggingface_hub/how-to-cache#limitations.\n",
      "To support symlinks on Windows, you either need to activate Developer Mode or to run Python as an administrator. In order to see activate developer mode, see this article: https://docs.microsoft.com/en-us/windows/apps/get-started/enable-your-device-for-development\n",
      "  warnings.warn(message)\n"
     ]
    },
    {
     "data": {
      "text/plain": [
       "spiece.model:   0%|          | 0.00/792k [00:00<?, ?B/s]"
      ],
      "application/vnd.jupyter.widget-view+json": {
       "version_major": 2,
       "version_minor": 0,
       "model_id": "e9b5d9b398f44a7c8408279a5f9e36cc"
      }
     },
     "metadata": {},
     "output_type": "display_data"
    },
    {
     "data": {
      "text/plain": [
       "tokenizer.json:   0%|          | 0.00/2.42M [00:00<?, ?B/s]"
      ],
      "application/vnd.jupyter.widget-view+json": {
       "version_major": 2,
       "version_minor": 0,
       "model_id": "8e6e6042297441d8a0183fd7b6892ea6"
      }
     },
     "metadata": {},
     "output_type": "display_data"
    },
    {
     "data": {
      "text/plain": [
       "special_tokens_map.json:   0%|          | 0.00/2.20k [00:00<?, ?B/s]"
      ],
      "application/vnd.jupyter.widget-view+json": {
       "version_major": 2,
       "version_minor": 0,
       "model_id": "4c541f8fb1e64d4788205354f961c2f1"
      }
     },
     "metadata": {},
     "output_type": "display_data"
    },
    {
     "name": "stderr",
     "output_type": "stream",
     "text": [
      "C:\\python\\workspace\\genaionaws\\.venv\\Lib\\site-packages\\transformers\\tokenization_utils_base.py:1601: FutureWarning: `clean_up_tokenization_spaces` was not set. It will be set to `True` by default. This behavior will be depracted in transformers v4.45, and will be then set to `False` by default. For more details check this issue: https://github.com/huggingface/transformers/issues/31884\n",
      "  warnings.warn(\n"
     ]
    },
    {
     "data": {
      "text/plain": [
       "Generating train split: 0 examples [00:00, ? examples/s]"
      ],
      "application/vnd.jupyter.widget-view+json": {
       "version_major": 2,
       "version_minor": 0,
       "model_id": "9f9d048774e940e2a5aa3a687472d352"
      }
     },
     "metadata": {},
     "output_type": "display_data"
    },
    {
     "data": {
      "text/plain": [
       "DatasetDict({\n",
       "    train: Dataset({\n",
       "        features: ['id', 'dialogue', 'summary', 'topic'],\n",
       "        num_rows: 14460\n",
       "    })\n",
       "})"
      ]
     },
     "execution_count": 6,
     "metadata": {},
     "output_type": "execute_result"
    }
   ],
   "execution_count": 6
  },
  {
   "cell_type": "markdown",
   "metadata": {},
   "source": "## 예제 프롬프트 탐색하기"
  },
  {
   "cell_type": "code",
   "metadata": {
    "tags": [],
    "ExecuteTime": {
     "end_time": "2024-08-15T12:21:40.363038Z",
     "start_time": "2024-08-15T12:21:40.358515Z"
    }
   },
   "source": [
    "idx = 0\n",
    "diag = dataset['train'][idx]['dialogue']\n",
    "baseline_human_summary = dataset['train'][idx]['summary']\n",
    "\n",
    "prompt = f'Summarize the following conversation.\\n\\n{diag}\\n\\nSummary:'\n",
    "input_ids = tokenizer(prompt, return_tensors=\"pt\").input_ids\n",
    "\n",
    "print(f'프롬프트:\\n--------------------------\\n{prompt}\\n--------------------------')\n",
    "print(f'기본 인간 요약 : {baseline_human_summary}')"
   ],
   "outputs": [
    {
     "name": "stdout",
     "output_type": "stream",
     "text": [
      "Prompt:\n",
      "--------------------------\n",
      "Summarize the following conversation.\n",
      "\n",
      "#Person1#: If we employ you, what starting salary would you expect?\n",
      "#Person2#: I'd like to start at 3000 yuan a month.\n",
      "#Person1#: I think your background and experience are worth the compensation.\n",
      "#Person2#: Does it include bonuses?\n",
      "#Person1#: No, there are annual bonuses, one week paid vacation a year, and health insurance.\n",
      "#Person2#: Very good.\n",
      "\n",
      "Summary:\n",
      "--------------------------\n",
      "Baseline human summary : #Person1# agrees #Person2#'s starting monthly salary would be 3000 yuan and tells #Person2# about other benefits.\n"
     ]
    }
   ],
   "execution_count": 8
  },
  {
   "cell_type": "markdown",
   "metadata": {},
   "source": "## 데이터 세트 토큰화하기"
  },
  {
   "cell_type": "code",
   "metadata": {
    "ExecuteTime": {
     "end_time": "2024-08-15T12:21:56.957571Z",
     "start_time": "2024-08-15T12:21:53.659306Z"
    }
   },
   "source": [
    "def tokenize_function(example):\n",
    "    prompt = 'Summarize the following conversation.\\n\\n'\n",
    "    end_prompt = '\\n\\nSummary: '\n",
    "    inp = [prompt + i + end_prompt for i in example[\"dialogue\"]]\n",
    "    example['input_ids'] = tokenizer(inp, padding=\"max_length\", truncation=True, return_tensors=\"pt\").input_ids\n",
    "    example['labels'] = tokenizer(example[\"summary\"], padding=\"max_length\", truncation=True, return_tensors=\"pt\").input_ids\n",
    "    return example\n",
    "\n",
    "tokenized_datasets = dataset.map(tokenize_function, batched=True)\n",
    "tokenized_datasets = tokenized_datasets.remove_columns(['id', 'topic', 'dialogue', 'summary',])"
   ],
   "outputs": [
    {
     "data": {
      "text/plain": [
       "Map:   0%|          | 0/14460 [00:00<?, ? examples/s]"
      ],
      "application/vnd.jupyter.widget-view+json": {
       "version_major": 2,
       "version_minor": 0,
       "model_id": "d1e1cf987adf401d928015a3d8bb10da"
      }
     },
     "metadata": {},
     "output_type": "display_data"
    }
   ],
   "execution_count": 9
  },
  {
   "cell_type": "markdown",
   "metadata": {},
   "source": "## 전처리 과정을 반복 가능한 함수로 만들기"
  },
  {
   "cell_type": "code",
   "metadata": {
    "tags": [],
    "ExecuteTime": {
     "end_time": "2024-08-15T12:24:30.468463Z",
     "start_time": "2024-08-15T12:24:30.462737Z"
    }
   },
   "source": [
    "def tokenize_function(example):\n",
    "    prompt = 'Summarize the following conversation.\\n\\n'\n",
    "    end_prompt = '\\n\\nSummary: '\n",
    "    inp = [prompt + i + end_prompt for i in example[\"dialogue\"]]\n",
    "    example['input_ids'] = tokenizer(inp, padding=\"max_length\", truncation=True, return_tensors=\"pt\").input_ids\n",
    "    example['labels'] = tokenizer(example[\"summary\"], padding=\"max_length\", truncation=True, return_tensors=\"pt\").input_ids\n",
    "    return example\n",
    "\n",
    "def transform_dataset(input_data,\n",
    "                      output_data,\n",
    "                      huggingface_model_name,\n",
    "                      train_split_percentage,\n",
    "                      test_split_percentage,\n",
    "                      validation_split_percentage,\n",
    "                      ):\n",
    "\n",
    "    # 원본 데이터 세트 적재\n",
    "    dataset = load_dataset(input_data)\n",
    "    print(f'데이터 세트를 다음 경로에서 불러왔습니다: {input_data}\\n{dataset}')\n",
    "    \n",
    "    # 모델의 토크나이저 적재\n",
    "    print(f'모델 {huggingface_model_name}의 토크나이저를 불러오는 중...')\n",
    "    tokenizer = AutoTokenizer.from_pretrained(huggingface_model_name)\n",
    "    \n",
    "    # 훈련, 테스트, 검증 데이터 분할\n",
    "    train_testvalid = dataset['train'].train_test_split(1 - train_split_percentage, seed=1234)\n",
    "    test_valid = train_testvalid['test'].train_test_split(test_split_percentage / (validation_split_percentage + test_split_percentage), seed=1234)\n",
    "    train_test_valid_dataset = DatasetDict(\n",
    "        {\n",
    "            'train': train_testvalid['train'],\n",
    "            'test': test_valid['test'],\n",
    "            'validation': test_valid['train']\n",
    "        }\n",
    "    )\n",
    "    print(f'데이터 세트 분할 후:\\n{train_test_valid_dataset}')\n",
    "    \n",
    "    # 데이터 세트 토큰화\n",
    "    print(f'데이터 세트 토큰화하는 중...')\n",
    "    tokenized_datasets = train_test_valid_dataset.map(tokenize_function, batched=True)\n",
    "    tokenized_datasets = tokenized_datasets.remove_columns(['id', 'topic', 'dialogue', 'summary'])\n",
    "    print(f'토큰화 완료!')\n",
    "    \n",
    "    # 저장할 디렉토리 생성\n",
    "    os.makedirs(f'{output_data}/train/', exist_ok=True)\n",
    "    os.makedirs(f'{output_data}/test/', exist_ok=True)\n",
    "    os.makedirs(f'{output_data}/validation/', exist_ok=True)\n",
    "    file_root = str(int(time.time()*1000))\n",
    "    \n",
    "    # 데이터 세트 디스크에 저장\n",
    "    print(f'데이터 세트 {output_data}에 저장하는 중...')\n",
    "    tokenized_datasets['train'].to_parquet(f'./{output_data}/train/{file_root}.parquet')\n",
    "    tokenized_datasets['test'].to_parquet(f'./{output_data}/test/{file_root}.parquet')\n",
    "    tokenized_datasets['validation'].to_parquet(f'./{output_data}/validation/{file_root}.parquet')\n",
    "    print('전처리 완료!')"
   ],
   "outputs": [],
   "execution_count": 10
  },
  {
   "cell_type": "code",
   "metadata": {
    "tags": [],
    "ExecuteTime": {
     "end_time": "2024-08-15T12:24:34.335558Z",
     "start_time": "2024-08-15T12:24:34.332601Z"
    }
   },
   "source": [
    "def process(args):\n",
    "\n",
    "    print(f\"내용 목록 - {args.input_data}\")\n",
    "    dirs_input = os.listdir(args.input_data)\n",
    "    for file in dirs_input:\n",
    "        print(file)\n",
    "\n",
    "    transform_dataset(input_data=args.input_data, #'./data-summarization/',\n",
    "                      output_data=args.output_data, #'./data-summarization-processed/',\n",
    "                      huggingface_model_name=args.model_checkpoint, #model_checkpoint,\n",
    "                      train_split_percentage=args.train_split_percentage, #0.90\n",
    "                      test_split_percentage=args.test_split_percentage, #0.05\n",
    "                      validation_split_percentage=args.validation_split_percentage, #0.05\n",
    "                     )\n",
    "\n",
    "    print(f\"내용 목록 - {args.output_data}\")\n",
    "    dirs_output = os.listdir(args.output_data)\n",
    "    for file in dirs_output:\n",
    "        print(file)"
   ],
   "outputs": [],
   "execution_count": 11
  },
  {
   "cell_type": "markdown",
   "metadata": {},
   "source": "# 데이터 세트 로컬에서 처리하기"
  },
  {
   "cell_type": "code",
   "metadata": {
    "tags": [],
    "ExecuteTime": {
     "end_time": "2024-08-15T12:24:44.960738Z",
     "start_time": "2024-08-15T12:24:40.896114Z"
    }
   },
   "source": [
    "class Args:\n",
    "    input_data: str\n",
    "    output_data: str\n",
    "    model_checkpoint: str\n",
    "    train_split_percentage: float\n",
    "    test_split_percentage: float\n",
    "    validation_split_percentage: float\n",
    "\n",
    "args = Args()\n",
    "\n",
    "args.model_checkpoint = model_checkpoint\n",
    "args.input_data = './data-summarization'\n",
    "args.output_data = './data-summarization-processed'\n",
    "args.train_split_percentage = 0.9\n",
    "args.test_split_percentage = 0.05\n",
    "args.validation_split_percentage = 0.05\n",
    "\n",
    "# 이미 로컬에 저장된 데이터 제거\n",
    "if os.path.isdir(args.output_data):\n",
    "    import shutil\n",
    "    shutil.rmtree(args.output_data)\n",
    "\n",
    "process(args)"
   ],
   "outputs": [
    {
     "name": "stdout",
     "output_type": "stream",
     "text": [
      "Listing contents of ./data-summarization\n",
      "dialogsum-1.csv\n",
      "dialogsum-2.csv\n",
      "Dataset loaded from path: ./data-summarization\n",
      "DatasetDict({\n",
      "    train: Dataset({\n",
      "        features: ['id', 'dialogue', 'summary', 'topic'],\n",
      "        num_rows: 14460\n",
      "    })\n",
      "})\n",
      "Loading the tokenizer for the model google/flan-t5-base\n",
      "Dataset after splitting:\n",
      "DatasetDict({\n",
      "    train: Dataset({\n",
      "        features: ['id', 'dialogue', 'summary', 'topic'],\n",
      "        num_rows: 13014\n",
      "    })\n",
      "    test: Dataset({\n",
      "        features: ['id', 'dialogue', 'summary', 'topic'],\n",
      "        num_rows: 723\n",
      "    })\n",
      "    validation: Dataset({\n",
      "        features: ['id', 'dialogue', 'summary', 'topic'],\n",
      "        num_rows: 723\n",
      "    })\n",
      "})\n",
      "Tokenizing the dataset...\n"
     ]
    },
    {
     "name": "stderr",
     "output_type": "stream",
     "text": [
      "C:\\python\\workspace\\genaionaws\\.venv\\Lib\\site-packages\\transformers\\tokenization_utils_base.py:1601: FutureWarning: `clean_up_tokenization_spaces` was not set. It will be set to `True` by default. This behavior will be depracted in transformers v4.45, and will be then set to `False` by default. For more details check this issue: https://github.com/huggingface/transformers/issues/31884\n",
      "  warnings.warn(\n"
     ]
    },
    {
     "data": {
      "text/plain": [
       "Map:   0%|          | 0/13014 [00:00<?, ? examples/s]"
      ],
      "application/vnd.jupyter.widget-view+json": {
       "version_major": 2,
       "version_minor": 0,
       "model_id": "d6cf93a1407f4de68c56c8282998d194"
      }
     },
     "metadata": {},
     "output_type": "display_data"
    },
    {
     "data": {
      "text/plain": [
       "Map:   0%|          | 0/723 [00:00<?, ? examples/s]"
      ],
      "application/vnd.jupyter.widget-view+json": {
       "version_major": 2,
       "version_minor": 0,
       "model_id": "0788f237d89945db887e75aa76ccffc6"
      }
     },
     "metadata": {},
     "output_type": "display_data"
    },
    {
     "data": {
      "text/plain": [
       "Map:   0%|          | 0/723 [00:00<?, ? examples/s]"
      ],
      "application/vnd.jupyter.widget-view+json": {
       "version_major": 2,
       "version_minor": 0,
       "model_id": "011a98725d0c498e888575523223a6eb"
      }
     },
     "metadata": {},
     "output_type": "display_data"
    },
    {
     "name": "stdout",
     "output_type": "stream",
     "text": [
      "Tokenizing complete!\n",
      "Writing the dataset to ./data-summarization-processed\n"
     ]
    },
    {
     "data": {
      "text/plain": [
       "Creating parquet from Arrow format:   0%|          | 0/14 [00:00<?, ?ba/s]"
      ],
      "application/vnd.jupyter.widget-view+json": {
       "version_major": 2,
       "version_minor": 0,
       "model_id": "5e4b2f4a08204e18b5809488c85dabc8"
      }
     },
     "metadata": {},
     "output_type": "display_data"
    },
    {
     "data": {
      "text/plain": [
       "Creating parquet from Arrow format:   0%|          | 0/1 [00:00<?, ?ba/s]"
      ],
      "application/vnd.jupyter.widget-view+json": {
       "version_major": 2,
       "version_minor": 0,
       "model_id": "c5e28a2acf6747a481f801e1020eb6bb"
      }
     },
     "metadata": {},
     "output_type": "display_data"
    },
    {
     "data": {
      "text/plain": [
       "Creating parquet from Arrow format:   0%|          | 0/1 [00:00<?, ?ba/s]"
      ],
      "application/vnd.jupyter.widget-view+json": {
       "version_major": 2,
       "version_minor": 0,
       "model_id": "512a58fb5bd84d5892af16b1082f7103"
      }
     },
     "metadata": {},
     "output_type": "display_data"
    },
    {
     "name": "stdout",
     "output_type": "stream",
     "text": [
      "Preprocessing complete!\n",
      "Listing contents of ./data-summarization-processed\n",
      "test\n",
      "train\n",
      "validation\n"
     ]
    }
   ],
   "execution_count": 12
  },
  {
   "cell_type": "markdown",
   "metadata": {},
   "source": "## 데이터 세트를 올바르게 불러왔는지 확인하기"
  },
  {
   "cell_type": "code",
   "metadata": {
    "tags": [],
    "ExecuteTime": {
     "end_time": "2024-08-15T12:24:49.091419Z",
     "start_time": "2024-08-15T12:24:48.937887Z"
    }
   },
   "source": [
    "dataset = load_dataset(\n",
    "    './data-summarization-processed/',\n",
    "    data_files={'train': 'train/*.parquet', 'test': 'test/*.parquet', 'validation': 'validation/*.parquet'}\n",
    ")\n",
    "dataset"
   ],
   "outputs": [
    {
     "data": {
      "text/plain": [
       "Generating train split: 0 examples [00:00, ? examples/s]"
      ],
      "application/vnd.jupyter.widget-view+json": {
       "version_major": 2,
       "version_minor": 0,
       "model_id": "c13a1646e36344999b09d37eeafc4f3d"
      }
     },
     "metadata": {},
     "output_type": "display_data"
    },
    {
     "data": {
      "text/plain": [
       "Generating test split: 0 examples [00:00, ? examples/s]"
      ],
      "application/vnd.jupyter.widget-view+json": {
       "version_major": 2,
       "version_minor": 0,
       "model_id": "3db8789f99184ff1ae06f0e6e660636f"
      }
     },
     "metadata": {},
     "output_type": "display_data"
    },
    {
     "data": {
      "text/plain": [
       "Generating validation split: 0 examples [00:00, ? examples/s]"
      ],
      "application/vnd.jupyter.widget-view+json": {
       "version_major": 2,
       "version_minor": 0,
       "model_id": "8db1d5ae4d0249ff9849e45a7f9f0c1d"
      }
     },
     "metadata": {},
     "output_type": "display_data"
    },
    {
     "data": {
      "text/plain": [
       "DatasetDict({\n",
       "    train: Dataset({\n",
       "        features: ['input_ids', 'labels'],\n",
       "        num_rows: 13014\n",
       "    })\n",
       "    test: Dataset({\n",
       "        features: ['input_ids', 'labels'],\n",
       "        num_rows: 723\n",
       "    })\n",
       "    validation: Dataset({\n",
       "        features: ['input_ids', 'labels'],\n",
       "        num_rows: 723\n",
       "    })\n",
       "})"
      ]
     },
     "execution_count": 13,
     "metadata": {},
     "output_type": "execute_result"
    }
   ],
   "execution_count": 13
  },
  {
   "cell_type": "code",
   "metadata": {},
   "source": [],
   "outputs": [],
   "execution_count": null
  }
 ],
 "metadata": {
  "availableInstances": [
   {
    "_defaultOrder": 0,
    "_isFastLaunch": true,
    "category": "General purpose",
    "gpuNum": 0,
    "hideHardwareSpecs": false,
    "memoryGiB": 4,
    "name": "ml.t3.medium",
    "vcpuNum": 2
   },
   {
    "_defaultOrder": 1,
    "_isFastLaunch": false,
    "category": "General purpose",
    "gpuNum": 0,
    "hideHardwareSpecs": false,
    "memoryGiB": 8,
    "name": "ml.t3.large",
    "vcpuNum": 2
   },
   {
    "_defaultOrder": 2,
    "_isFastLaunch": false,
    "category": "General purpose",
    "gpuNum": 0,
    "hideHardwareSpecs": false,
    "memoryGiB": 16,
    "name": "ml.t3.xlarge",
    "vcpuNum": 4
   },
   {
    "_defaultOrder": 3,
    "_isFastLaunch": false,
    "category": "General purpose",
    "gpuNum": 0,
    "hideHardwareSpecs": false,
    "memoryGiB": 32,
    "name": "ml.t3.2xlarge",
    "vcpuNum": 8
   },
   {
    "_defaultOrder": 4,
    "_isFastLaunch": true,
    "category": "General purpose",
    "gpuNum": 0,
    "hideHardwareSpecs": false,
    "memoryGiB": 8,
    "name": "ml.m5.large",
    "vcpuNum": 2
   },
   {
    "_defaultOrder": 5,
    "_isFastLaunch": false,
    "category": "General purpose",
    "gpuNum": 0,
    "hideHardwareSpecs": false,
    "memoryGiB": 16,
    "name": "ml.m5.xlarge",
    "vcpuNum": 4
   },
   {
    "_defaultOrder": 6,
    "_isFastLaunch": false,
    "category": "General purpose",
    "gpuNum": 0,
    "hideHardwareSpecs": false,
    "memoryGiB": 32,
    "name": "ml.m5.2xlarge",
    "vcpuNum": 8
   },
   {
    "_defaultOrder": 7,
    "_isFastLaunch": false,
    "category": "General purpose",
    "gpuNum": 0,
    "hideHardwareSpecs": false,
    "memoryGiB": 64,
    "name": "ml.m5.4xlarge",
    "vcpuNum": 16
   },
   {
    "_defaultOrder": 8,
    "_isFastLaunch": false,
    "category": "General purpose",
    "gpuNum": 0,
    "hideHardwareSpecs": false,
    "memoryGiB": 128,
    "name": "ml.m5.8xlarge",
    "vcpuNum": 32
   },
   {
    "_defaultOrder": 9,
    "_isFastLaunch": false,
    "category": "General purpose",
    "gpuNum": 0,
    "hideHardwareSpecs": false,
    "memoryGiB": 192,
    "name": "ml.m5.12xlarge",
    "vcpuNum": 48
   },
   {
    "_defaultOrder": 10,
    "_isFastLaunch": false,
    "category": "General purpose",
    "gpuNum": 0,
    "hideHardwareSpecs": false,
    "memoryGiB": 256,
    "name": "ml.m5.16xlarge",
    "vcpuNum": 64
   },
   {
    "_defaultOrder": 11,
    "_isFastLaunch": false,
    "category": "General purpose",
    "gpuNum": 0,
    "hideHardwareSpecs": false,
    "memoryGiB": 384,
    "name": "ml.m5.24xlarge",
    "vcpuNum": 96
   },
   {
    "_defaultOrder": 12,
    "_isFastLaunch": false,
    "category": "General purpose",
    "gpuNum": 0,
    "hideHardwareSpecs": false,
    "memoryGiB": 8,
    "name": "ml.m5d.large",
    "vcpuNum": 2
   },
   {
    "_defaultOrder": 13,
    "_isFastLaunch": false,
    "category": "General purpose",
    "gpuNum": 0,
    "hideHardwareSpecs": false,
    "memoryGiB": 16,
    "name": "ml.m5d.xlarge",
    "vcpuNum": 4
   },
   {
    "_defaultOrder": 14,
    "_isFastLaunch": false,
    "category": "General purpose",
    "gpuNum": 0,
    "hideHardwareSpecs": false,
    "memoryGiB": 32,
    "name": "ml.m5d.2xlarge",
    "vcpuNum": 8
   },
   {
    "_defaultOrder": 15,
    "_isFastLaunch": false,
    "category": "General purpose",
    "gpuNum": 0,
    "hideHardwareSpecs": false,
    "memoryGiB": 64,
    "name": "ml.m5d.4xlarge",
    "vcpuNum": 16
   },
   {
    "_defaultOrder": 16,
    "_isFastLaunch": false,
    "category": "General purpose",
    "gpuNum": 0,
    "hideHardwareSpecs": false,
    "memoryGiB": 128,
    "name": "ml.m5d.8xlarge",
    "vcpuNum": 32
   },
   {
    "_defaultOrder": 17,
    "_isFastLaunch": false,
    "category": "General purpose",
    "gpuNum": 0,
    "hideHardwareSpecs": false,
    "memoryGiB": 192,
    "name": "ml.m5d.12xlarge",
    "vcpuNum": 48
   },
   {
    "_defaultOrder": 18,
    "_isFastLaunch": false,
    "category": "General purpose",
    "gpuNum": 0,
    "hideHardwareSpecs": false,
    "memoryGiB": 256,
    "name": "ml.m5d.16xlarge",
    "vcpuNum": 64
   },
   {
    "_defaultOrder": 19,
    "_isFastLaunch": false,
    "category": "General purpose",
    "gpuNum": 0,
    "hideHardwareSpecs": false,
    "memoryGiB": 384,
    "name": "ml.m5d.24xlarge",
    "vcpuNum": 96
   },
   {
    "_defaultOrder": 20,
    "_isFastLaunch": false,
    "category": "General purpose",
    "gpuNum": 0,
    "hideHardwareSpecs": true,
    "memoryGiB": 0,
    "name": "ml.geospatial.interactive",
    "supportedImageNames": [
     "sagemaker-geospatial-v1-0"
    ],
    "vcpuNum": 0
   },
   {
    "_defaultOrder": 21,
    "_isFastLaunch": true,
    "category": "Compute optimized",
    "gpuNum": 0,
    "hideHardwareSpecs": false,
    "memoryGiB": 4,
    "name": "ml.c5.large",
    "vcpuNum": 2
   },
   {
    "_defaultOrder": 22,
    "_isFastLaunch": false,
    "category": "Compute optimized",
    "gpuNum": 0,
    "hideHardwareSpecs": false,
    "memoryGiB": 8,
    "name": "ml.c5.xlarge",
    "vcpuNum": 4
   },
   {
    "_defaultOrder": 23,
    "_isFastLaunch": false,
    "category": "Compute optimized",
    "gpuNum": 0,
    "hideHardwareSpecs": false,
    "memoryGiB": 16,
    "name": "ml.c5.2xlarge",
    "vcpuNum": 8
   },
   {
    "_defaultOrder": 24,
    "_isFastLaunch": false,
    "category": "Compute optimized",
    "gpuNum": 0,
    "hideHardwareSpecs": false,
    "memoryGiB": 32,
    "name": "ml.c5.4xlarge",
    "vcpuNum": 16
   },
   {
    "_defaultOrder": 25,
    "_isFastLaunch": false,
    "category": "Compute optimized",
    "gpuNum": 0,
    "hideHardwareSpecs": false,
    "memoryGiB": 72,
    "name": "ml.c5.9xlarge",
    "vcpuNum": 36
   },
   {
    "_defaultOrder": 26,
    "_isFastLaunch": false,
    "category": "Compute optimized",
    "gpuNum": 0,
    "hideHardwareSpecs": false,
    "memoryGiB": 96,
    "name": "ml.c5.12xlarge",
    "vcpuNum": 48
   },
   {
    "_defaultOrder": 27,
    "_isFastLaunch": false,
    "category": "Compute optimized",
    "gpuNum": 0,
    "hideHardwareSpecs": false,
    "memoryGiB": 144,
    "name": "ml.c5.18xlarge",
    "vcpuNum": 72
   },
   {
    "_defaultOrder": 28,
    "_isFastLaunch": false,
    "category": "Compute optimized",
    "gpuNum": 0,
    "hideHardwareSpecs": false,
    "memoryGiB": 192,
    "name": "ml.c5.24xlarge",
    "vcpuNum": 96
   },
   {
    "_defaultOrder": 29,
    "_isFastLaunch": true,
    "category": "Accelerated computing",
    "gpuNum": 1,
    "hideHardwareSpecs": false,
    "memoryGiB": 16,
    "name": "ml.g4dn.xlarge",
    "vcpuNum": 4
   },
   {
    "_defaultOrder": 30,
    "_isFastLaunch": false,
    "category": "Accelerated computing",
    "gpuNum": 1,
    "hideHardwareSpecs": false,
    "memoryGiB": 32,
    "name": "ml.g4dn.2xlarge",
    "vcpuNum": 8
   },
   {
    "_defaultOrder": 31,
    "_isFastLaunch": false,
    "category": "Accelerated computing",
    "gpuNum": 1,
    "hideHardwareSpecs": false,
    "memoryGiB": 64,
    "name": "ml.g4dn.4xlarge",
    "vcpuNum": 16
   },
   {
    "_defaultOrder": 32,
    "_isFastLaunch": false,
    "category": "Accelerated computing",
    "gpuNum": 1,
    "hideHardwareSpecs": false,
    "memoryGiB": 128,
    "name": "ml.g4dn.8xlarge",
    "vcpuNum": 32
   },
   {
    "_defaultOrder": 33,
    "_isFastLaunch": false,
    "category": "Accelerated computing",
    "gpuNum": 4,
    "hideHardwareSpecs": false,
    "memoryGiB": 192,
    "name": "ml.g4dn.12xlarge",
    "vcpuNum": 48
   },
   {
    "_defaultOrder": 34,
    "_isFastLaunch": false,
    "category": "Accelerated computing",
    "gpuNum": 1,
    "hideHardwareSpecs": false,
    "memoryGiB": 256,
    "name": "ml.g4dn.16xlarge",
    "vcpuNum": 64
   },
   {
    "_defaultOrder": 35,
    "_isFastLaunch": false,
    "category": "Accelerated computing",
    "gpuNum": 1,
    "hideHardwareSpecs": false,
    "memoryGiB": 61,
    "name": "ml.p3.2xlarge",
    "vcpuNum": 8
   },
   {
    "_defaultOrder": 36,
    "_isFastLaunch": false,
    "category": "Accelerated computing",
    "gpuNum": 4,
    "hideHardwareSpecs": false,
    "memoryGiB": 244,
    "name": "ml.p3.8xlarge",
    "vcpuNum": 32
   },
   {
    "_defaultOrder": 37,
    "_isFastLaunch": false,
    "category": "Accelerated computing",
    "gpuNum": 8,
    "hideHardwareSpecs": false,
    "memoryGiB": 488,
    "name": "ml.p3.16xlarge",
    "vcpuNum": 64
   },
   {
    "_defaultOrder": 38,
    "_isFastLaunch": false,
    "category": "Accelerated computing",
    "gpuNum": 8,
    "hideHardwareSpecs": false,
    "memoryGiB": 768,
    "name": "ml.p3dn.24xlarge",
    "vcpuNum": 96
   },
   {
    "_defaultOrder": 39,
    "_isFastLaunch": false,
    "category": "Memory Optimized",
    "gpuNum": 0,
    "hideHardwareSpecs": false,
    "memoryGiB": 16,
    "name": "ml.r5.large",
    "vcpuNum": 2
   },
   {
    "_defaultOrder": 40,
    "_isFastLaunch": false,
    "category": "Memory Optimized",
    "gpuNum": 0,
    "hideHardwareSpecs": false,
    "memoryGiB": 32,
    "name": "ml.r5.xlarge",
    "vcpuNum": 4
   },
   {
    "_defaultOrder": 41,
    "_isFastLaunch": false,
    "category": "Memory Optimized",
    "gpuNum": 0,
    "hideHardwareSpecs": false,
    "memoryGiB": 64,
    "name": "ml.r5.2xlarge",
    "vcpuNum": 8
   },
   {
    "_defaultOrder": 42,
    "_isFastLaunch": false,
    "category": "Memory Optimized",
    "gpuNum": 0,
    "hideHardwareSpecs": false,
    "memoryGiB": 128,
    "name": "ml.r5.4xlarge",
    "vcpuNum": 16
   },
   {
    "_defaultOrder": 43,
    "_isFastLaunch": false,
    "category": "Memory Optimized",
    "gpuNum": 0,
    "hideHardwareSpecs": false,
    "memoryGiB": 256,
    "name": "ml.r5.8xlarge",
    "vcpuNum": 32
   },
   {
    "_defaultOrder": 44,
    "_isFastLaunch": false,
    "category": "Memory Optimized",
    "gpuNum": 0,
    "hideHardwareSpecs": false,
    "memoryGiB": 384,
    "name": "ml.r5.12xlarge",
    "vcpuNum": 48
   },
   {
    "_defaultOrder": 45,
    "_isFastLaunch": false,
    "category": "Memory Optimized",
    "gpuNum": 0,
    "hideHardwareSpecs": false,
    "memoryGiB": 512,
    "name": "ml.r5.16xlarge",
    "vcpuNum": 64
   },
   {
    "_defaultOrder": 46,
    "_isFastLaunch": false,
    "category": "Memory Optimized",
    "gpuNum": 0,
    "hideHardwareSpecs": false,
    "memoryGiB": 768,
    "name": "ml.r5.24xlarge",
    "vcpuNum": 96
   },
   {
    "_defaultOrder": 47,
    "_isFastLaunch": false,
    "category": "Accelerated computing",
    "gpuNum": 1,
    "hideHardwareSpecs": false,
    "memoryGiB": 16,
    "name": "ml.g5.xlarge",
    "vcpuNum": 4
   },
   {
    "_defaultOrder": 48,
    "_isFastLaunch": false,
    "category": "Accelerated computing",
    "gpuNum": 1,
    "hideHardwareSpecs": false,
    "memoryGiB": 32,
    "name": "ml.g5.2xlarge",
    "vcpuNum": 8
   },
   {
    "_defaultOrder": 49,
    "_isFastLaunch": false,
    "category": "Accelerated computing",
    "gpuNum": 1,
    "hideHardwareSpecs": false,
    "memoryGiB": 64,
    "name": "ml.g5.4xlarge",
    "vcpuNum": 16
   },
   {
    "_defaultOrder": 50,
    "_isFastLaunch": false,
    "category": "Accelerated computing",
    "gpuNum": 1,
    "hideHardwareSpecs": false,
    "memoryGiB": 128,
    "name": "ml.g5.8xlarge",
    "vcpuNum": 32
   },
   {
    "_defaultOrder": 51,
    "_isFastLaunch": false,
    "category": "Accelerated computing",
    "gpuNum": 1,
    "hideHardwareSpecs": false,
    "memoryGiB": 256,
    "name": "ml.g5.16xlarge",
    "vcpuNum": 64
   },
   {
    "_defaultOrder": 52,
    "_isFastLaunch": false,
    "category": "Accelerated computing",
    "gpuNum": 4,
    "hideHardwareSpecs": false,
    "memoryGiB": 192,
    "name": "ml.g5.12xlarge",
    "vcpuNum": 48
   },
   {
    "_defaultOrder": 53,
    "_isFastLaunch": false,
    "category": "Accelerated computing",
    "gpuNum": 4,
    "hideHardwareSpecs": false,
    "memoryGiB": 384,
    "name": "ml.g5.24xlarge",
    "vcpuNum": 96
   },
   {
    "_defaultOrder": 54,
    "_isFastLaunch": false,
    "category": "Accelerated computing",
    "gpuNum": 8,
    "hideHardwareSpecs": false,
    "memoryGiB": 768,
    "name": "ml.g5.48xlarge",
    "vcpuNum": 192
   },
   {
    "_defaultOrder": 55,
    "_isFastLaunch": false,
    "category": "Accelerated computing",
    "gpuNum": 8,
    "hideHardwareSpecs": false,
    "memoryGiB": 1152,
    "name": "ml.p4d.24xlarge",
    "vcpuNum": 96
   },
   {
    "_defaultOrder": 56,
    "_isFastLaunch": false,
    "category": "Accelerated computing",
    "gpuNum": 8,
    "hideHardwareSpecs": false,
    "memoryGiB": 1152,
    "name": "ml.p4de.24xlarge",
    "vcpuNum": 96
   }
  ],
  "instance_type": "ml.m5.2xlarge",
  "kernelspec": {
   "display_name": "Python 3 (ipykernel)",
   "language": "python",
   "name": "python3"
  },
  "language_info": {
   "codemirror_mode": {
    "name": "ipython",
    "version": 3
   },
   "file_extension": ".py",
   "mimetype": "text/x-python",
   "name": "python",
   "nbconvert_exporter": "python",
   "pygments_lexer": "ipython3",
   "version": "3.10.6"
  }
 },
 "nbformat": 4,
 "nbformat_minor": 4
}
